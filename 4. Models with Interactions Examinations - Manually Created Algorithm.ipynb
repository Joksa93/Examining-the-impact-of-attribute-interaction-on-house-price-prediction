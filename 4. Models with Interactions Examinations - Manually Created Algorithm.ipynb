{
 "cells": [
  {
   "cell_type": "markdown",
   "metadata": {},
   "source": [
    "----------------------------------------------------------------------------------------------------------------------"
   ]
  },
  {
   "cell_type": "markdown",
   "metadata": {},
   "source": [
    "# Building Models with Interactions - Manually Created Algorithm\n",
    "## (Best 10, Best 25, Best 10 + Categorical 10)"
   ]
  },
  {
   "cell_type": "markdown",
   "metadata": {},
   "source": [
    "----------------------------------------------------------------------------------------------------------------------"
   ]
  },
  {
   "cell_type": "code",
   "execution_count": 1,
   "metadata": {},
   "outputs": [],
   "source": [
    "import pandas as pd\n",
    "import numpy as np\n",
    "from matplotlib import pyplot as plt\n",
    "import seaborn as sns\n",
    "from sklearn.metrics import mean_squared_error\n",
    "from math import sqrt\n",
    "from sklearn.linear_model import LinearRegression, Ridge, Lasso, ElasticNet\n",
    "from sklearn.metrics import make_scorer, r2_score\n",
    "from sklearn.svm import LinearSVR, SVR\n",
    "from xgboost import XGBRegressor\n",
    "from sklearn import tree\n",
    "from sklearn.preprocessing import StandardScaler\n",
    "from sklearn.feature_selection import SelectKBest, RFE, f_regression, SelectFromModel\n",
    "from sklearn.impute import SimpleImputer\n",
    "from sklearn.preprocessing import StandardScaler, MinMaxScaler\n",
    "from sklearn.pipeline import make_pipeline, Pipeline\n",
    "from sklearn.model_selection import cross_val_score, cross_validate, GridSearchCV\n",
    "from sklearn.ensemble import RandomForestRegressor"
   ]
  },
  {
   "cell_type": "code",
   "execution_count": 2,
   "metadata": {},
   "outputs": [],
   "source": [
    "def score_to_stats(scores):\n",
    "    \n",
    "    return {score:round(values.mean(),4) for score, values in scores.items()}"
   ]
  },
  {
   "cell_type": "code",
   "execution_count": 3,
   "metadata": {},
   "outputs": [],
   "source": [
    "def rmsle_custom(y_actual, y_predicted):\n",
    "    return sqrt(mean_squared_error(y_actual, y_predicted))\n",
    "rmsle_score = make_scorer(score_func=rmsle_custom)"
   ]
  },
  {
   "cell_type": "code",
   "execution_count": 4,
   "metadata": {},
   "outputs": [],
   "source": [
    "import warnings\n",
    "warnings.filterwarnings(\"ignore\")"
   ]
  },
  {
   "cell_type": "code",
   "execution_count": 5,
   "metadata": {},
   "outputs": [],
   "source": [
    "pd.set_option('display.max_columns', None)\n",
    "pd.set_option('display.max_rows', None)"
   ]
  },
  {
   "cell_type": "markdown",
   "metadata": {},
   "source": [
    "### Data Importing"
   ]
  },
  {
   "cell_type": "code",
   "execution_count": 6,
   "metadata": {},
   "outputs": [],
   "source": [
    "df_train = pd.read_csv('train_master.csv')\n",
    "df_test = pd.read_csv('test_master.csv')"
   ]
  },
  {
   "cell_type": "markdown",
   "metadata": {},
   "source": [
    "### Output variable logarithmic transformation"
   ]
  },
  {
   "cell_type": "code",
   "execution_count": 7,
   "metadata": {},
   "outputs": [],
   "source": [
    "df_train['SalePrice_log'] = np.log1p(df_train['SalePrice'])"
   ]
  },
  {
   "cell_type": "code",
   "execution_count": 8,
   "metadata": {},
   "outputs": [],
   "source": [
    "df_train = df_train.drop(['Id','SalePrice'], axis = 1)"
   ]
  },
  {
   "cell_type": "code",
   "execution_count": 9,
   "metadata": {},
   "outputs": [],
   "source": [
    "df_test = df_test.drop('Id', axis = 1)"
   ]
  },
  {
   "cell_type": "markdown",
   "metadata": {},
   "source": [
    "### Pre-processing and data cleaning"
   ]
  },
  {
   "cell_type": "code",
   "execution_count": 10,
   "metadata": {},
   "outputs": [],
   "source": [
    "outlier1 = df_train[df_train['GrLivArea'] > 4500].index\n",
    "outlier2 = df_train[df_train[\"1stFlrSF\"] > 4000].index\n",
    "outlier3 = df_train[df_train[\"TotalBsmtSF\"] > 4000].index"
   ]
  },
  {
   "cell_type": "code",
   "execution_count": 11,
   "metadata": {},
   "outputs": [],
   "source": [
    "# 523, 1298\n",
    "df_train = df_train.drop(outlier1)"
   ]
  },
  {
   "cell_type": "code",
   "execution_count": 12,
   "metadata": {},
   "outputs": [],
   "source": [
    "missing_values_attribute = ['PoolQC','MiscFeature', 'Alley', 'Fence', 'FireplaceQu']\n",
    "correlated_attributes = ['GarageArea', '1stFlrSF']"
   ]
  },
  {
   "cell_type": "code",
   "execution_count": 13,
   "metadata": {},
   "outputs": [],
   "source": [
    "df_train = df_train.drop(missing_values_attribute, axis = 1)\n",
    "df_test = df_test.drop(missing_values_attribute, axis = 1)"
   ]
  },
  {
   "cell_type": "code",
   "execution_count": 14,
   "metadata": {},
   "outputs": [],
   "source": [
    "df_train = df_train.drop(correlated_attributes, axis = 1)\n",
    "df_test = df_test.drop(correlated_attributes, axis = 1)"
   ]
  },
  {
   "cell_type": "markdown",
   "metadata": {},
   "source": [
    "### Attributes mapping and dummy coding"
   ]
  },
  {
   "cell_type": "code",
   "execution_count": 15,
   "metadata": {},
   "outputs": [],
   "source": [
    "df_train['train'] = 1\n",
    "df_test['train'] = 0"
   ]
  },
  {
   "cell_type": "code",
   "execution_count": 16,
   "metadata": {},
   "outputs": [],
   "source": [
    "df_combined = pd.concat([df_train, df_test])"
   ]
  },
  {
   "cell_type": "code",
   "execution_count": 17,
   "metadata": {},
   "outputs": [],
   "source": [
    "df_combined = df_combined.reset_index(drop = True)"
   ]
  },
  {
   "cell_type": "code",
   "execution_count": 18,
   "metadata": {},
   "outputs": [],
   "source": [
    "cat_mapping = {'NA':0, 'Po':1, 'Fa':2, 'TA':3, 'Gd':4, 'Ex':5}\n",
    "scale_attributes = ['ExterQual', 'ExterCond', 'BsmtQual', 'BsmtCond', 'HeatingQC', 'KitchenQual', 'GarageQual', 'GarageCond']\n",
    "for i in df_combined[scale_attributes]:\n",
    "    df_combined[i] = df_combined[i].map(cat_mapping)"
   ]
  },
  {
   "cell_type": "code",
   "execution_count": 19,
   "metadata": {},
   "outputs": [],
   "source": [
    "df_cat = df_combined.select_dtypes(include = ['object'])"
   ]
  },
  {
   "cell_type": "code",
   "execution_count": 20,
   "metadata": {},
   "outputs": [],
   "source": [
    "df_cat_columns = df_cat.columns"
   ]
  },
  {
   "cell_type": "code",
   "execution_count": 21,
   "metadata": {},
   "outputs": [],
   "source": [
    "df_cat_dummies = pd.get_dummies(df_cat)"
   ]
  },
  {
   "cell_type": "code",
   "execution_count": 22,
   "metadata": {},
   "outputs": [],
   "source": [
    "df_combined = df_combined.drop(df_cat_columns, axis = 1)"
   ]
  },
  {
   "cell_type": "code",
   "execution_count": 23,
   "metadata": {},
   "outputs": [],
   "source": [
    "df_combined = pd.concat([df_combined, df_cat_dummies], axis = 1)"
   ]
  },
  {
   "cell_type": "code",
   "execution_count": 24,
   "metadata": {},
   "outputs": [],
   "source": [
    "df_train = df_combined[df_combined['train'] == 1]\n",
    "df_train = df_train.drop(['train'], axis = 1)"
   ]
  },
  {
   "cell_type": "code",
   "execution_count": 25,
   "metadata": {},
   "outputs": [],
   "source": [
    "df_train = df_train.fillna(df_train.mean())"
   ]
  },
  {
   "cell_type": "code",
   "execution_count": 26,
   "metadata": {},
   "outputs": [],
   "source": [
    "X = df_train.drop('SalePrice_log', axis = 1)\n",
    "y = df_train['SalePrice_log']"
   ]
  },
  {
   "cell_type": "code",
   "execution_count": 27,
   "metadata": {},
   "outputs": [],
   "source": [
    "scoring = {'rmsle': rmsle_score,\n",
    "           'r2': 'r2'}"
   ]
  },
  {
   "cell_type": "markdown",
   "metadata": {},
   "source": [
    "### Interaction Examining - Manually Created Algorithm"
   ]
  },
  {
   "cell_type": "code",
   "execution_count": 28,
   "metadata": {},
   "outputs": [],
   "source": [
    "from sklearn import tree\n",
    "from matplotlib.pyplot import figure"
   ]
  },
  {
   "cell_type": "code",
   "execution_count": 29,
   "metadata": {},
   "outputs": [],
   "source": [
    "def get_interactions(tree_model, feature_names, plot_tree = False):\n",
    "    if plot_tree:\n",
    "        figure(figsize=(15,15))\n",
    "        tree.plot_tree(tree_model, feature_names = feature_names, class_names = tree_model.classes_, filled = True,\n",
    "                       rounded = True, fontsize = 10)\n",
    "    children_left = tree_model.tree_.children_left\n",
    "    children_right = tree_model.tree_.children_right\n",
    "    feature = tree_model.tree_.feature\n",
    "    #treshold = tree_model.tree_.treshold\n",
    "    \n",
    "    def get_paths(node):\n",
    "        if feature[node] < 0: return []\n",
    "        feat = feature_names[feature[node]]\n",
    "        left = get_paths(children_left[node])\n",
    "        right = get_paths(children_right[node])\n",
    "        left = [feat + '___' + l for l in left] if left else [feat]\n",
    "        right = [feat + '___' + r for r in right] if right else [feat]\n",
    "        #return left+right if left+right else [feat]\n",
    "        return left + right\n",
    "    \n",
    "    paths = [path.split('___') for path in set(['___'.join(set(path.split('___'))) for path in get_paths(0)])]\n",
    "    return paths"
   ]
  },
  {
   "cell_type": "code",
   "execution_count": 30,
   "metadata": {},
   "outputs": [],
   "source": [
    "from random import sample"
   ]
  },
  {
   "cell_type": "code",
   "execution_count": 31,
   "metadata": {},
   "outputs": [],
   "source": [
    "interaction_list = []\n",
    "for i in range(1,10001):\n",
    "    df_rows = X.sample(frac=0.25)\n",
    "    all_columns_index = list(range(0,239))\n",
    "    sample_columns = sample(all_columns_index, 30)\n",
    "    df_sample = df_rows.iloc[:, sample_columns]\n",
    "    df_sample['SalePrice_log'] = y\n",
    "    X_sample = df_sample.drop('SalePrice_log', axis = 1)\n",
    "    y_sample = df_sample['SalePrice_log']\n",
    "    model = tree.DecisionTreeRegressor(max_depth = 2)\n",
    "    model = model.fit(X_sample, y_sample)\n",
    "    interactions = get_interactions(model, feature_names = X_sample.columns, plot_tree = False)\n",
    "    #print(i)\n",
    "    #print(interactions)\n",
    "    interaction_list.append(interactions)\n",
    "    \n",
    "interaction_list_final = [i[0] for i in interaction_list if len(i) < 2] + [i[0] for i in interaction_list if len(i) > 1] + [i[1] for i in interaction_list if len(i) > 1]\n",
    "sorted_interaction_list_final = sorted(interaction_list_final)"
   ]
  },
  {
   "cell_type": "code",
   "execution_count": 32,
   "metadata": {},
   "outputs": [],
   "source": [
    "for i in sorted_interaction_list_final:\n",
    "    if len(i) < 2:\n",
    "        #print(i)\n",
    "        try:\n",
    "            while True:\n",
    "                sorted_interaction_list_final.remove(i)\n",
    "        except ValueError:\n",
    "            pass"
   ]
  },
  {
   "cell_type": "code",
   "execution_count": 33,
   "metadata": {},
   "outputs": [],
   "source": [
    "from itertools import groupby"
   ]
  },
  {
   "cell_type": "code",
   "execution_count": 34,
   "metadata": {},
   "outputs": [],
   "source": [
    "interaction_count = [\" \" + str(len(list(group))) + \" - \" + str(key) for key, group in groupby(sorted_interaction_list_final)]"
   ]
  },
  {
   "cell_type": "code",
   "execution_count": 35,
   "metadata": {},
   "outputs": [
    {
     "name": "stdout",
     "output_type": "stream",
     "text": [
      " 2 - ['2ndFlrSF', 'BsmtExposure_No']\n",
      " 9 - ['2ndFlrSF', 'BsmtFinSF1']\n",
      " 48 - ['2ndFlrSF', 'BsmtQual']\n",
      " 1 - ['2ndFlrSF', 'BsmtUnfSF']\n",
      " 6 - ['2ndFlrSF', 'CentralAir_N']\n",
      " 5 - ['2ndFlrSF', 'CentralAir_Y']\n",
      " 1 - ['2ndFlrSF', 'Electrical_SBrkr']\n",
      " 55 - ['2ndFlrSF', 'ExterQual']\n",
      " 1 - ['2ndFlrSF', 'Exterior1st_VinylSd']\n",
      " 3 - ['2ndFlrSF', 'Exterior2nd_VinylSd']\n",
      " 14 - ['2ndFlrSF', 'Fireplaces']\n",
      " 2 - ['2ndFlrSF', 'Foundation_BrkTil']\n",
      " 19 - ['2ndFlrSF', 'Foundation_PConc']\n",
      " 17 - ['2ndFlrSF', 'GarageCars']\n",
      " 4 - ['2ndFlrSF', 'GarageCond']\n",
      " 13 - ['2ndFlrSF', 'GarageFinish_Unf']\n",
      " 8 - ['2ndFlrSF', 'GarageQual']\n",
      " 16 - ['2ndFlrSF', 'GarageType_Attchd']\n",
      " 4 - ['2ndFlrSF', 'GarageType_Detchd']\n",
      " 38 - ['2ndFlrSF', 'GarageYrBlt']\n",
      " 16 - ['2ndFlrSF', 'HeatingQC']\n",
      " 35 - ['2ndFlrSF', 'KitchenQual']\n",
      " 3 - ['2ndFlrSF', 'LotArea']\n",
      " 3 - ['2ndFlrSF', 'LotFrontage']\n",
      " 8 - ['2ndFlrSF', 'MasVnrArea']\n",
      " 6 - ['2ndFlrSF', 'MasVnrType_None']\n",
      " 5 - ['2ndFlrSF', 'MasVnrType_Stone']\n",
      " 1 - ['2ndFlrSF', 'MoSold']\n",
      " 1 - ['2ndFlrSF', 'Neighborhood_NridgHt']\n",
      " 1 - ['2ndFlrSF', 'Neighborhood_StoneBr']\n",
      " 2 - ['2ndFlrSF', 'OverallCond']\n",
      " 7 - ['2ndFlrSF', 'OverallQual']\n",
      " 1 - ['2ndFlrSF', 'PavedDrive_Y']\n",
      " 1 - ['2ndFlrSF', 'RoofStyle_Gable']\n",
      " 1 - ['2ndFlrSF', 'SaleCondition_Normal']\n",
      " 3 - ['2ndFlrSF', 'SaleCondition_Partial']\n",
      " 4 - ['2ndFlrSF', 'TotRmsAbvGrd']\n",
      " 43 - ['2ndFlrSF', 'YearBuilt']\n",
      " 11 - ['2ndFlrSF', 'YearRemodAdd']\n",
      " 23 - ['BedroomAbvGr', 'ExterQual']\n",
      " 2 - ['BedroomAbvGr', 'Fireplaces']\n",
      " 15 - ['BedroomAbvGr', 'Foundation_PConc']\n",
      " 2 - ['BedroomAbvGr', 'GarageCond']\n",
      " 1 - ['BedroomAbvGr', 'HouseStyle_1.5Fin']\n",
      " 1 - ['BedroomAbvGr', 'MasVnrType_None']\n",
      " 1 - ['BldgType_1Fam', 'BsmtFinSF1']\n",
      " 1 - ['BldgType_1Fam', 'ExterQual']\n",
      " 1 - ['BldgType_1Fam', 'HouseStyle_2Story']\n",
      " 4 - ['BldgType_1Fam', 'MasVnrType_None']\n",
      " 1 - ['BldgType_1Fam', 'MasVnrType_Stone']\n",
      " 1 - ['BldgType_1Fam', 'RoofStyle_Gable']\n",
      " 1 - ['BldgType_1Fam', 'SaleCondition_Partial']\n",
      " 1 - ['BldgType_1Fam', 'TotRmsAbvGrd']\n",
      " 3 - ['BldgType_1Fam', 'YearBuilt']\n",
      " 1 - ['BldgType_TwnhsE', 'SaleCondition_Partial']\n",
      " 1 - ['BsmtCond', 'Foundation_PConc']\n",
      " 1 - ['BsmtCond', 'GarageType_Detchd']\n",
      " 2 - ['BsmtCond', 'GarageYrBlt']\n",
      " 1 - ['BsmtCond', 'KitchenQual']\n",
      " 1 - ['BsmtCond', 'TotRmsAbvGrd']\n",
      " 1 - ['BsmtCond', 'YearRemodAdd']\n",
      " 1 - ['BsmtExposure_Av', 'CentralAir_N']\n",
      " 4 - ['BsmtExposure_Gd', '2ndFlrSF']\n",
      " 1 - ['BsmtExposure_Gd', 'CentralAir_Y']\n",
      " 1 - ['BsmtExposure_Gd', 'Electrical_SBrkr']\n",
      " 1 - ['BsmtExposure_Gd', 'ExterCond']\n",
      " 4 - ['BsmtExposure_Gd', 'ExterQual']\n",
      " 2 - ['BsmtExposure_Gd', 'Exterior2nd_VinylSd']\n",
      " 4 - ['BsmtExposure_Gd', 'Fireplaces']\n",
      " 1 - ['BsmtExposure_Gd', 'Foundation_PConc']\n",
      " 1 - ['BsmtExposure_Gd', 'GarageCars']\n",
      " 1 - ['BsmtExposure_Gd', 'GarageCond']\n",
      " 3 - ['BsmtExposure_Gd', 'GarageType_Attchd']\n",
      " 1 - ['BsmtExposure_Gd', 'GarageType_BuiltIn']\n",
      " 13 - ['BsmtExposure_Gd', 'GarageYrBlt']\n",
      " 2 - ['BsmtExposure_Gd', 'GrLivArea']\n",
      " 1 - ['BsmtExposure_Gd', 'HeatingQC']\n",
      " 1 - ['BsmtExposure_Gd', 'HouseStyle_2Story']\n",
      " 1 - ['BsmtExposure_Gd', 'KitchenQual']\n",
      " 2 - ['BsmtExposure_Gd', 'LotArea']\n",
      " 2 - ['BsmtExposure_Gd', 'MSSubClass']\n",
      " 1 - ['BsmtExposure_Gd', 'MSZoning_RL']\n",
      " 1 - ['BsmtExposure_Gd', 'MasVnrArea']\n",
      " 2 - ['BsmtExposure_Gd', 'Neighborhood_NridgHt']\n",
      " 4 - ['BsmtExposure_Gd', 'TotRmsAbvGrd']\n",
      " 10 - ['BsmtExposure_Gd', 'YearBuilt']\n",
      " 3 - ['BsmtExposure_Gd', 'YearRemodAdd']\n",
      " 1 - ['BsmtExposure_No', 'ExterQual']\n",
      " 1 - ['BsmtExposure_No', 'Fireplaces']\n",
      " 1 - ['BsmtExposure_No', 'SaleCondition_Partial']\n",
      " 4 - ['BsmtFinSF1', 'BedroomAbvGr']\n",
      " 1 - ['BsmtFinSF1', 'BsmtFinType1_Rec']\n",
      " 27 - ['BsmtFinSF1', 'BsmtQual']\n",
      " 6 - ['BsmtFinSF1', 'BsmtUnfSF']\n",
      " 8 - ['BsmtFinSF1', 'CentralAir_Y']\n",
      " 1 - ['BsmtFinSF1', 'Condition1_Feedr']\n",
      " 1 - ['BsmtFinSF1', 'Electrical_SBrkr']\n",
      " 69 - ['BsmtFinSF1', 'ExterQual']\n",
      " 1 - ['BsmtFinSF1', 'Exterior1st_VinylSd']\n",
      " 6 - ['BsmtFinSF1', 'Exterior2nd_VinylSd']\n",
      " 29 - ['BsmtFinSF1', 'Fireplaces']\n",
      " 31 - ['BsmtFinSF1', 'Foundation_PConc']\n",
      " 4 - ['BsmtFinSF1', 'GarageCond']\n",
      " 1 - ['BsmtFinSF1', 'GarageFinish_RFn']\n",
      " 3 - ['BsmtFinSF1', 'GarageQual']\n",
      " 7 - ['BsmtFinSF1', 'GarageType_Attchd']\n",
      " 1 - ['BsmtFinSF1', 'GarageType_BuiltIn']\n",
      " 3 - ['BsmtFinSF1', 'GarageType_Detchd']\n",
      " 52 - ['BsmtFinSF1', 'GarageYrBlt']\n",
      " 47 - ['BsmtFinSF1', 'GrLivArea']\n",
      " 3 - ['BsmtFinSF1', 'HouseStyle_2Story']\n",
      " 1 - ['BsmtFinSF1', 'KitchenAbvGr']\n",
      " 46 - ['BsmtFinSF1', 'KitchenQual']\n",
      " 3 - ['BsmtFinSF1', 'MasVnrArea']\n",
      " 5 - ['BsmtFinSF1', 'MasVnrType_None']\n",
      " 1 - ['BsmtFinSF1', 'Neighborhood_Sawyer']\n",
      " 24 - ['BsmtFinSF1', 'OverallQual']\n",
      " 1 - ['BsmtFinSF1', 'RoofMatl_WdShngl']\n",
      " 1 - ['BsmtFinSF1', 'RoofStyle_Gable']\n",
      " 2 - ['BsmtFinSF1', 'SaleType_New']\n",
      " 24 - ['BsmtFinSF1', 'TotRmsAbvGrd']\n",
      " 77 - ['BsmtFinSF1', 'YearBuilt']\n",
      " 30 - ['BsmtFinSF1', 'YearRemodAdd']\n",
      " 1 - ['BsmtFinSF2', 'Foundation_PConc']\n",
      " 2 - ['BsmtFinType1_ALQ', 'SaleCondition_Partial']\n",
      " 1 - ['BsmtFinType1_BLQ', 'MasVnrType_None']\n",
      " 12 - ['BsmtFinType1_GLQ', '2ndFlrSF']\n",
      " 6 - ['BsmtFinType1_GLQ', 'BedroomAbvGr']\n",
      " 3 - ['BsmtFinType1_GLQ', 'BldgType_1Fam']\n",
      " 10 - ['BsmtFinType1_GLQ', 'BsmtFinSF1']\n",
      " 1 - ['BsmtFinType1_GLQ', 'BsmtQual']\n",
      " 9 - ['BsmtFinType1_GLQ', 'BsmtUnfSF']\n",
      " 8 - ['BsmtFinType1_GLQ', 'CentralAir_N']\n",
      " 10 - ['BsmtFinType1_GLQ', 'CentralAir_Y']\n",
      " 2 - ['BsmtFinType1_GLQ', 'Electrical_SBrkr']\n",
      " 1 - ['BsmtFinType1_GLQ', 'EnclosedPorch']\n",
      " 2 - ['BsmtFinType1_GLQ', 'ExterQual']\n",
      " 1 - ['BsmtFinType1_GLQ', 'Exterior1st_Wd Sdng']\n",
      " 22 - ['BsmtFinType1_GLQ', 'Fireplaces']\n",
      " 9 - ['BsmtFinType1_GLQ', 'Foundation_CBlock']\n",
      " 8 - ['BsmtFinType1_GLQ', 'Foundation_PConc']\n",
      " 3 - ['BsmtFinType1_GLQ', 'GarageCars']\n",
      " 13 - ['BsmtFinType1_GLQ', 'GarageCond']\n",
      " 2 - ['BsmtFinType1_GLQ', 'GarageFinish_Fin']\n",
      " 6 - ['BsmtFinType1_GLQ', 'GarageFinish_Unf']\n",
      " 1 - ['BsmtFinType1_GLQ', 'GarageQual']\n",
      " 6 - ['BsmtFinType1_GLQ', 'GarageType_Attchd']\n",
      " 1 - ['BsmtFinType1_GLQ', 'GarageType_BuiltIn']\n",
      " 4 - ['BsmtFinType1_GLQ', 'GarageType_Detchd']\n",
      " 4 - ['BsmtFinType1_GLQ', 'GarageYrBlt']\n",
      " 38 - ['BsmtFinType1_GLQ', 'GrLivArea']\n",
      " 6 - ['BsmtFinType1_GLQ', 'HalfBath']\n",
      " 6 - ['BsmtFinType1_GLQ', 'HeatingQC']\n",
      " 1 - ['BsmtFinType1_GLQ', 'HouseStyle_2Story']\n",
      " 3 - ['BsmtFinType1_GLQ', 'HouseStyle_SFoyer']\n",
      " 4 - ['BsmtFinType1_GLQ', 'KitchenQual']\n",
      " 21 - ['BsmtFinType1_GLQ', 'LotArea']\n",
      " 11 - ['BsmtFinType1_GLQ', 'LotFrontage']\n",
      " 1 - ['BsmtFinType1_GLQ', 'LotShape_IR1']\n",
      " 2 - ['BsmtFinType1_GLQ', 'LotShape_Reg']\n",
      " 6 - ['BsmtFinType1_GLQ', 'MSSubClass']\n",
      " 1 - ['BsmtFinType1_GLQ', 'MSZoning_C (all)']\n",
      " 3 - ['BsmtFinType1_GLQ', 'MSZoning_RL']\n",
      " 4 - ['BsmtFinType1_GLQ', 'MSZoning_RM']\n",
      " 14 - ['BsmtFinType1_GLQ', 'MasVnrArea']\n",
      " 1 - ['BsmtFinType1_GLQ', 'MasVnrType_None']\n",
      " 3 - ['BsmtFinType1_GLQ', 'MasVnrType_Stone']\n",
      " 1 - ['BsmtFinType1_GLQ', 'MoSold']\n",
      " 1 - ['BsmtFinType1_GLQ', 'Neighborhood_MeadowV']\n",
      " 3 - ['BsmtFinType1_GLQ', 'Neighborhood_NoRidge']\n",
      " 2 - ['BsmtFinType1_GLQ', 'Neighborhood_NridgHt']\n",
      " 2 - ['BsmtFinType1_GLQ', 'Neighborhood_Sawyer']\n",
      " 1 - ['BsmtFinType1_GLQ', 'OverallCond']\n",
      " 2 - ['BsmtFinType1_GLQ', 'PavedDrive_N']\n",
      " 3 - ['BsmtFinType1_GLQ', 'PavedDrive_Y']\n",
      " 1 - ['BsmtFinType1_GLQ', 'RoofMatl_WdShngl']\n",
      " 2 - ['BsmtFinType1_GLQ', 'RoofStyle_Gable']\n",
      " 6 - ['BsmtFinType1_GLQ', 'RoofStyle_Hip']\n",
      " 2 - ['BsmtFinType1_GLQ', 'SaleCondition_Partial']\n",
      " 4 - ['BsmtFinType1_GLQ', 'SaleType_New']\n",
      " 1 - ['BsmtFinType1_GLQ', 'SaleType_WD']\n",
      " 21 - ['BsmtFinType1_GLQ', 'TotRmsAbvGrd']\n",
      " 8 - ['BsmtFinType1_GLQ', 'WoodDeckSF']\n",
      " 2 - ['BsmtFinType1_GLQ', 'YearBuilt']\n",
      " 10 - ['BsmtFinType1_GLQ', 'YearRemodAdd']\n",
      " 1 - ['BsmtFinType1_Unf', 'BsmtQual']\n",
      " 2 - ['BsmtFinType1_Unf', 'ExterQual']\n",
      " 1 - ['BsmtFullBath', 'BedroomAbvGr']\n",
      " 1 - ['BsmtFullBath', 'ExterQual']\n",
      " 5 - ['BsmtFullBath', 'Foundation_PConc']\n",
      " 1 - ['BsmtFullBath', 'SaleCondition_Partial']\n",
      " 1 - ['BsmtFullBath', 'YearBuilt']\n",
      " 1 - ['BsmtFullBath', 'YearRemodAdd']\n",
      " 35 - ['BsmtQual', 'BedroomAbvGr']\n",
      " 1 - ['BsmtQual', 'BsmtFinSF2']\n",
      " 4 - ['BsmtQual', 'ExterCond']\n",
      " 64 - ['BsmtQual', 'ExterQual']\n",
      " 63 - ['BsmtQual', 'Fireplaces']\n",
      " 1 - ['BsmtQual', 'Foundation_BrkTil']\n",
      " 1 - ['BsmtQual', 'Foundation_PConc']\n",
      " 22 - ['BsmtQual', 'GarageCond']\n",
      " 2 - ['BsmtQual', 'GarageFinish_RFn']\n",
      " 3 - ['BsmtQual', 'HouseStyle_2.5Fin']\n",
      " 1 - ['BsmtQual', 'LowQualFinSF']\n",
      " 27 - ['BsmtQual', 'MasVnrArea']\n",
      " 2 - ['BsmtQual', 'RoofMatl_WdShngl']\n",
      " 4 - ['BsmtQual', 'RoofStyle_Gable']\n",
      " 2 - ['BsmtQual', 'YearRemodAdd']\n",
      " 5 - ['BsmtUnfSF', 'Fireplaces']\n",
      " 2 - ['BsmtUnfSF', 'Foundation_PConc']\n",
      " 1 - ['BsmtUnfSF', 'GarageFinish_RFn']\n",
      " 1 - ['BsmtUnfSF', 'MasVnrType_None']\n",
      " 1 - ['BsmtUnfSF', 'SaleCondition_Abnorml']\n",
      " 1 - ['BsmtUnfSF', 'SaleCondition_Partial']\n",
      " 2 - ['CentralAir_N', 'BedroomAbvGr']\n",
      " 1 - ['CentralAir_N', 'BsmtExposure_No']\n",
      " 2 - ['CentralAir_N', 'BsmtFinSF1']\n",
      " 32 - ['CentralAir_N', 'BsmtQual']\n",
      " 1 - ['CentralAir_N', 'BsmtUnfSF']\n",
      " 2 - ['CentralAir_N', 'Electrical_SBrkr']\n",
      " 2 - ['CentralAir_N', 'EnclosedPorch']\n",
      " 1 - ['CentralAir_N', 'ExterCond']\n",
      " 42 - ['CentralAir_N', 'ExterQual']\n",
      " 1 - ['CentralAir_N', 'Exterior1st_AsbShng']\n",
      " 2 - ['CentralAir_N', 'Exterior1st_VinylSd']\n",
      " 3 - ['CentralAir_N', 'Exterior2nd_VinylSd']\n",
      " 9 - ['CentralAir_N', 'Fireplaces']\n",
      " 14 - ['CentralAir_N', 'Foundation_PConc']\n",
      " 5 - ['CentralAir_N', 'GarageCond']\n",
      " 1 - ['CentralAir_N', 'GarageQual']\n",
      " 3 - ['CentralAir_N', 'GarageType_Attchd']\n",
      " 2 - ['CentralAir_N', 'GarageType_Detchd']\n",
      " 22 - ['CentralAir_N', 'GarageYrBlt']\n",
      " 52 - ['CentralAir_N', 'GrLivArea']\n",
      " 1 - ['CentralAir_N', 'Heating_GasW']\n",
      " 1 - ['CentralAir_N', 'Heating_Grav']\n",
      " 1 - ['CentralAir_N', 'HouseStyle_1.5Fin']\n",
      " 43 - ['CentralAir_N', 'KitchenQual']\n",
      " 2 - ['CentralAir_N', 'LotFrontage']\n",
      " 2 - ['CentralAir_N', 'LotShape_IR1']\n",
      " 5 - ['CentralAir_N', 'MasVnrArea']\n",
      " 4 - ['CentralAir_N', 'MasVnrType_None']\n",
      " 2 - ['CentralAir_N', 'MoSold']\n",
      " 18 - ['CentralAir_N', 'OverallQual']\n",
      " 3 - ['CentralAir_N', 'SaleCondition_Partial']\n",
      " 1 - ['CentralAir_N', 'SaleType_New']\n",
      " 12 - ['CentralAir_N', 'TotRmsAbvGrd']\n",
      " 22 - ['CentralAir_N', 'YearBuilt']\n",
      " 20 - ['CentralAir_N', 'YearRemodAdd']\n",
      " 1 - ['CentralAir_Y', 'BedroomAbvGr']\n",
      " 3 - ['CentralAir_Y', 'BsmtExposure_No']\n",
      " 27 - ['CentralAir_Y', 'BsmtQual']\n",
      " 1 - ['CentralAir_Y', 'Electrical_SBrkr']\n",
      " 1 - ['CentralAir_Y', 'ExterCond']\n",
      " 30 - ['CentralAir_Y', 'ExterQual']\n",
      " 2 - ['CentralAir_Y', 'Exterior2nd_VinylSd']\n",
      " 11 - ['CentralAir_Y', 'Fireplaces']\n",
      " 13 - ['CentralAir_Y', 'Foundation_PConc']\n",
      " 1 - ['CentralAir_Y', 'GarageCond']\n",
      " 2 - ['CentralAir_Y', 'GarageType_BuiltIn']\n",
      " 3 - ['CentralAir_Y', 'GarageType_Detchd']\n",
      " 50 - ['CentralAir_Y', 'GrLivArea']\n",
      " 1 - ['CentralAir_Y', 'HouseStyle_1Story']\n",
      " 46 - ['CentralAir_Y', 'KitchenQual']\n",
      " 8 - ['CentralAir_Y', 'MasVnrArea']\n",
      " 3 - ['CentralAir_Y', 'MasVnrType_None']\n",
      " 2 - ['CentralAir_Y', 'MoSold']\n",
      " 1 - ['CentralAir_Y', 'RoofStyle_Gable']\n",
      " 1 - ['CentralAir_Y', 'SaleCondition_Normal']\n",
      " 1 - ['CentralAir_Y', 'SaleCondition_Partial']\n",
      " 34 - ['CentralAir_Y', 'YearBuilt']\n",
      " 19 - ['CentralAir_Y', 'YearRemodAdd']\n",
      " 1 - ['Condition1_Norm', 'GarageYrBlt']\n",
      " 1 - ['Condition1_Norm', 'PavedDrive_Y']\n",
      " 1 - ['Electrical_FuseA', 'ExterQual']\n",
      " 1 - ['Electrical_FuseA', 'Exterior2nd_VinylSd']\n",
      " 1 - ['Electrical_FuseA', 'Fireplaces']\n",
      " 1 - ['Electrical_FuseA', 'GarageCond']\n",
      " 1 - ['Electrical_FuseA', 'MasVnrArea']\n",
      " 1 - ['Electrical_FuseA', 'MasVnrType_None']\n",
      " 1 - ['Electrical_FuseF', 'Foundation_PConc']\n",
      " 1 - ['Electrical_FuseF', 'GarageType_Detchd']\n",
      " 1 - ['Electrical_FuseF', 'GarageYrBlt']\n",
      " 1 - ['Electrical_FuseF', 'SaleCondition_Partial']\n",
      " 2 - ['Electrical_SBrkr', 'BedroomAbvGr']\n",
      " 3 - ['Electrical_SBrkr', 'BsmtQual']\n",
      " 5 - ['Electrical_SBrkr', 'ExterQual']\n",
      " 1 - ['Electrical_SBrkr', 'Fireplaces']\n",
      " 3 - ['Electrical_SBrkr', 'Foundation_PConc']\n",
      " 5 - ['Electrical_SBrkr', 'GarageType_Detchd']\n",
      " 1 - ['Electrical_SBrkr', 'HouseStyle_1Story']\n",
      " 1 - ['Electrical_SBrkr', 'LotShape_IR1']\n",
      " 5 - ['Electrical_SBrkr', 'MasVnrArea']\n",
      " 1 - ['Electrical_SBrkr', 'MasVnrType_None']\n",
      " 1 - ['Electrical_SBrkr', 'SaleCondition_Partial']\n",
      " 1 - ['EnclosedPorch', 'GarageFinish_RFn']\n",
      " 2 - ['ExterCond', 'ExterQual']\n",
      " 4 - ['ExterCond', 'Fireplaces']\n",
      " 1 - ['ExterCond', 'GarageCond']\n",
      " 1 - ['ExterCond', 'MasVnrType_None']\n",
      " 71 - ['ExterQual', 'Fireplaces']\n",
      " 2 - ['ExterQual', 'Foundation_PConc']\n",
      " 1 - ['ExterQual', 'GarageFinish_RFn']\n",
      " 1 - ['ExterQual', 'MasVnrType_None']\n",
      " 1 - ['Exterior1st_AsbShng', 'YearRemodAdd']\n",
      " 1 - ['Exterior1st_CemntBd', 'Fireplaces']\n",
      " 1 - ['Exterior1st_CemntBd', 'YearRemodAdd']\n",
      " 1 - ['Exterior1st_MetalSd', 'BsmtFinSF1']\n",
      " 1 - ['Exterior1st_Plywood', 'GarageCond']\n",
      " 2 - ['Exterior1st_VinylSd', 'BsmtUnfSF']\n",
      " 6 - ['Exterior1st_VinylSd', 'Fireplaces']\n",
      " 1 - ['Exterior1st_VinylSd', 'Foundation_BrkTil']\n",
      " 1 - ['Exterior1st_VinylSd', 'Foundation_PConc']\n",
      " 1 - ['Exterior1st_VinylSd', 'Foundation_Slab']\n",
      " 4 - ['Exterior1st_VinylSd', 'GarageCond']\n",
      " 5 - ['Exterior1st_VinylSd', 'GarageType_Detchd']\n",
      " 1 - ['Exterior1st_VinylSd', 'LandContour_Low']\n",
      " 1 - ['Exterior1st_VinylSd', 'LotShape_IR1']\n",
      " 1 - ['Exterior1st_VinylSd', 'LowQualFinSF']\n",
      " 7 - ['Exterior1st_VinylSd', 'MasVnrArea']\n",
      " 7 - ['Exterior1st_VinylSd', 'MasVnrType_None']\n",
      " 1 - ['Exterior1st_VinylSd', 'RoofStyle_Gable']\n",
      " 1 - ['Exterior1st_VinylSd', 'SaleCondition_Partial']\n",
      " 1 - ['Exterior1st_Wd Sdng', 'BsmtQual']\n",
      " 1 - ['Exterior1st_Wd Sdng', 'Foundation_PConc']\n",
      " 1 - ['Exterior1st_Wd Sdng', 'GarageCond']\n",
      " 1 - ['Exterior1st_Wd Sdng', 'YearBuilt']\n",
      " 1 - ['Exterior2nd_AsbShng', 'Fireplaces']\n",
      " 1 - ['Exterior2nd_AsbShng', 'GarageType_Detchd']\n",
      " 1 - ['Exterior2nd_AsbShng', 'GarageYrBlt']\n",
      " 1 - ['Exterior2nd_AsbShng', 'HouseStyle_2Story']\n",
      " 1 - ['Exterior2nd_AsbShng', 'KitchenQual']\n",
      " 1 - ['Exterior2nd_MetalSd', 'MasVnrArea']\n",
      " 1 - ['Exterior2nd_VinylSd', 'BsmtFinType1_ALQ']\n",
      " 1 - ['Exterior2nd_VinylSd', 'ExterCond']\n",
      " 20 - ['Exterior2nd_VinylSd', 'Fireplaces']\n",
      " 2 - ['Exterior2nd_VinylSd', 'GarageCond']\n",
      " 1 - ['Exterior2nd_VinylSd', 'LotShape_IR1']\n",
      " 3 - ['Exterior2nd_VinylSd', 'MasVnrArea']\n",
      " 4 - ['Exterior2nd_VinylSd', 'MasVnrType_None']\n",
      " 1 - ['Exterior2nd_VinylSd', 'SaleCondition_Partial']\n",
      " 1 - ['Exterior2nd_VinylSd', 'SaleType_WD']\n",
      " 1 - ['Exterior2nd_VinylSd', 'YearRemodAdd']\n",
      " 1 - ['Exterior2nd_Wd Sdng', 'Foundation_PConc']\n",
      " 36 - ['Fireplaces', 'Foundation_PConc']\n",
      " 3 - ['Foundation_BrkTil', 'ExterQual']\n",
      " 1 - ['Foundation_BrkTil', 'Fireplaces']\n",
      " 1 - ['Foundation_BrkTil', 'Foundation_PConc']\n",
      " 1 - ['Foundation_BrkTil', 'MasVnrType_None']\n",
      " 2 - ['Foundation_CBlock', 'BedroomAbvGr']\n",
      " 6 - ['Foundation_CBlock', 'BsmtFinSF1']\n",
      " 1 - ['Foundation_CBlock', 'BsmtFinSF2']\n",
      " 1 - ['Foundation_CBlock', 'BsmtFullBath']\n",
      " 2 - ['Foundation_CBlock', 'CentralAir_N']\n",
      " 3 - ['Foundation_CBlock', 'CentralAir_Y']\n",
      " 2 - ['Foundation_CBlock', 'Electrical_SBrkr']\n",
      " 1 - ['Foundation_CBlock', 'EnclosedPorch']\n",
      " 1 - ['Foundation_CBlock', 'Exterior1st_VinylSd']\n",
      " 1 - ['Foundation_CBlock', 'Exterior2nd_VinylSd']\n",
      " 8 - ['Foundation_CBlock', 'Fireplaces']\n",
      " 1 - ['Foundation_CBlock', 'Foundation_BrkTil']\n",
      " 1 - ['Foundation_CBlock', 'Foundation_PConc']\n",
      " 4 - ['Foundation_CBlock', 'GarageCond']\n",
      " 3 - ['Foundation_CBlock', 'GarageQual']\n",
      " 10 - ['Foundation_CBlock', 'GarageType_Attchd']\n",
      " 5 - ['Foundation_CBlock', 'GarageType_Detchd']\n",
      " 4 - ['Foundation_CBlock', 'GarageYrBlt']\n",
      " 4 - ['Foundation_CBlock', 'HeatingQC']\n",
      " 1 - ['Foundation_CBlock', 'KitchenQual']\n",
      " 1 - ['Foundation_CBlock', 'LandSlope_Mod']\n",
      " 6 - ['Foundation_CBlock', 'LotFrontage']\n",
      " 1 - ['Foundation_CBlock', 'LotShape_IR1']\n",
      " 3 - ['Foundation_CBlock', 'MSZoning_C (all)']\n",
      " 4 - ['Foundation_CBlock', 'MSZoning_RL']\n",
      " 14 - ['Foundation_CBlock', 'MasVnrArea']\n",
      " 6 - ['Foundation_CBlock', 'MasVnrType_None']\n",
      " 1 - ['Foundation_CBlock', 'MasVnrType_Stone']\n",
      " 2 - ['Foundation_CBlock', 'Neighborhood_IDOTRR']\n",
      " 1 - ['Foundation_CBlock', 'Neighborhood_NWAmes']\n",
      " 1 - ['Foundation_CBlock', 'Neighborhood_OldTown']\n",
      " 1 - ['Foundation_CBlock', 'SaleCondition_Partial']\n",
      " 1 - ['Foundation_CBlock', 'YearRemodAdd']\n",
      " 20 - ['Foundation_PConc', 'Fireplaces']\n",
      " 1 - ['Foundation_Slab', 'Foundation_PConc']\n",
      " 1 - ['Foundation_Slab', 'SaleType_WD']\n",
      " 6 - ['FullBath', '2ndFlrSF']\n",
      " 2 - ['FullBath', 'BedroomAbvGr']\n",
      " 5 - ['FullBath', 'BldgType_1Fam']\n",
      " 1 - ['FullBath', 'BldgType_Duplex']\n",
      " 1 - ['FullBath', 'BldgType_TwnhsE']\n",
      " 1 - ['FullBath', 'BsmtCond']\n",
      " 4 - ['FullBath', 'BsmtExposure_Gd']\n",
      " 2 - ['FullBath', 'BsmtExposure_No']\n",
      " 48 - ['FullBath', 'BsmtFinSF1']\n",
      " 15 - ['FullBath', 'BsmtFinType1_GLQ']\n",
      " 3 - ['FullBath', 'BsmtFinType1_Unf']\n",
      " 8 - ['FullBath', 'BsmtFullBath']\n",
      " 40 - ['FullBath', 'BsmtQual']\n",
      " 2 - ['FullBath', 'BsmtUnfSF']\n",
      " 40 - ['FullBath', 'CentralAir_N']\n",
      " 26 - ['FullBath', 'CentralAir_Y']\n",
      " 1 - ['FullBath', 'Condition1_RRAn']\n",
      " 2 - ['FullBath', 'Electrical_FuseF']\n",
      " 1 - ['FullBath', 'Electrical_SBrkr']\n",
      " 2 - ['FullBath', 'ExterCond']\n",
      " 41 - ['FullBath', 'ExterQual']\n",
      " 54 - ['FullBath', 'Fireplaces']\n",
      " 1 - ['FullBath', 'Foundation_BrkTil']\n",
      " 27 - ['FullBath', 'Foundation_PConc']\n",
      " 2 - ['FullBath', 'Foundation_Slab']\n",
      " 35 - ['FullBath', 'GarageCars']\n",
      " 26 - ['FullBath', 'GarageCond']\n",
      " 4 - ['FullBath', 'GarageFinish_Fin']\n",
      " 11 - ['FullBath', 'GarageFinish_Unf']\n",
      " 25 - ['FullBath', 'GarageQual']\n",
      " 25 - ['FullBath', 'GarageType_Attchd']\n",
      " 5 - ['FullBath', 'GarageType_Detchd']\n",
      " 20 - ['FullBath', 'GarageYrBlt']\n",
      " 10 - ['FullBath', 'GrLivArea']\n",
      " 15 - ['FullBath', 'HalfBath']\n",
      " 22 - ['FullBath', 'HeatingQC']\n",
      " 1 - ['FullBath', 'Heating_GasA']\n",
      " 13 - ['FullBath', 'KitchenAbvGr']\n",
      " 45 - ['FullBath', 'KitchenQual']\n",
      " 35 - ['FullBath', 'LotArea']\n",
      " 29 - ['FullBath', 'LotFrontage']\n",
      " 1 - ['FullBath', 'LotShape_IR2']\n",
      " 1 - ['FullBath', 'LotShape_Reg']\n",
      " 17 - ['FullBath', 'MSSubClass']\n",
      " 14 - ['FullBath', 'MSZoning_C (all)']\n",
      " 18 - ['FullBath', 'MSZoning_RL']\n",
      " 3 - ['FullBath', 'MSZoning_RM']\n",
      " 17 - ['FullBath', 'MasVnrArea']\n",
      " 7 - ['FullBath', 'MasVnrType_None']\n",
      " 1 - ['FullBath', 'MasVnrType_Stone']\n",
      " 1 - ['FullBath', 'Neighborhood_IDOTRR']\n",
      " 4 - ['FullBath', 'Neighborhood_NoRidge']\n",
      " 10 - ['FullBath', 'Neighborhood_NridgHt']\n",
      " 1 - ['FullBath', 'Neighborhood_OldTown']\n",
      " 1 - ['FullBath', 'Neighborhood_Somerst']\n",
      " 16 - ['FullBath', 'OpenPorchSF']\n",
      " 13 - ['FullBath', 'OverallCond']\n",
      " 11 - ['FullBath', 'OverallQual']\n",
      " 5 - ['FullBath', 'PavedDrive_N']\n",
      " 4 - ['FullBath', 'PavedDrive_Y']\n",
      " 1 - ['FullBath', 'RoofMatl_WdShngl']\n",
      " 2 - ['FullBath', 'RoofStyle_Gable']\n",
      " 1 - ['FullBath', 'RoofStyle_Gambrel']\n",
      " 2 - ['FullBath', 'RoofStyle_Hip']\n",
      " 7 - ['FullBath', 'SaleCondition_Partial']\n",
      " 4 - ['FullBath', 'SaleType_New']\n",
      " 2 - ['FullBath', 'ScreenPorch']\n",
      " 5 - ['FullBath', 'TotRmsAbvGrd']\n",
      " 56 - ['FullBath', 'TotalBsmtSF']\n",
      " 7 - ['FullBath', 'WoodDeckSF']\n",
      " 35 - ['FullBath', 'YearBuilt']\n",
      " 69 - ['FullBath', 'YearRemodAdd']\n",
      " 1 - ['Functional_Maj1', 'BsmtQual']\n",
      " 1 - ['Functional_Maj1', 'GarageQual']\n",
      " 1 - ['Functional_Maj1', 'MasVnrType_Stone']\n",
      " 1 - ['Functional_Maj2', 'BsmtQual']\n",
      " 1 - ['Functional_Maj2', 'ExterQual']\n",
      " 1 - ['Functional_Maj2', 'Exterior2nd_VinylSd']\n",
      " 1 - ['Functional_Maj2', 'OverallCond']\n",
      " 1 - ['Functional_Typ', 'ExterQual']\n",
      " 1 - ['Functional_Typ', 'GarageType_Attchd']\n",
      " 1 - ['Functional_Typ', 'MasVnrType_None']\n",
      " 1 - ['Functional_Typ', 'TotRmsAbvGrd']\n",
      " 16 - ['GarageCars', 'BedroomAbvGr']\n",
      " 1 - ['GarageCars', 'BldgType_Duplex']\n",
      " 1 - ['GarageCars', 'BldgType_Twnhs']\n",
      " 2 - ['GarageCars', 'BsmtCond']\n",
      " 15 - ['GarageCars', 'BsmtFinSF1']\n",
      " 1 - ['GarageCars', 'BsmtFinType1_BLQ']\n",
      " 75 - ['GarageCars', 'BsmtQual']\n",
      " 1 - ['GarageCars', 'BsmtUnfSF']\n",
      " 42 - ['GarageCars', 'CentralAir_N']\n",
      " 25 - ['GarageCars', 'CentralAir_Y']\n",
      " 1 - ['GarageCars', 'Condition1_Artery']\n",
      " 7 - ['GarageCars', 'ExterCond']\n",
      " 130 - ['GarageCars', 'ExterQual']\n",
      " 1 - ['GarageCars', 'Exterior1st_AsbShng']\n",
      " 1 - ['GarageCars', 'Exterior1st_BrkComm']\n",
      " 2 - ['GarageCars', 'Exterior2nd_AsbShng']\n",
      " 1 - ['GarageCars', 'Exterior2nd_HdBoard']\n",
      " 21 - ['GarageCars', 'Fireplaces']\n",
      " 3 - ['GarageCars', 'Foundation_BrkTil']\n",
      " 1 - ['GarageCars', 'Foundation_CBlock']\n",
      " 10 - ['GarageCars', 'Foundation_PConc']\n",
      " 18 - ['GarageCars', 'GarageCond']\n",
      " 1 - ['GarageCars', 'GarageFinish_RFn']\n",
      " 7 - ['GarageCars', 'GarageQual']\n",
      " 3 - ['GarageCars', 'GarageType_Attchd']\n",
      " 11 - ['GarageCars', 'GarageType_Detchd']\n",
      " 41 - ['GarageCars', 'GarageYrBlt']\n",
      " 88 - ['GarageCars', 'GrLivArea']\n",
      " 14 - ['GarageCars', 'HeatingQC']\n",
      " 1 - ['GarageCars', 'Heating_GasA']\n",
      " 1 - ['GarageCars', 'Heating_Grav']\n",
      " 92 - ['GarageCars', 'KitchenQual']\n",
      " 1 - ['GarageCars', 'LandContour_Low']\n",
      " 24 - ['GarageCars', 'LotArea']\n",
      " 12 - ['GarageCars', 'LotFrontage']\n",
      " 5 - ['GarageCars', 'MSZoning_C (all)']\n",
      " 14 - ['GarageCars', 'MSZoning_RL']\n",
      " 8 - ['GarageCars', 'MasVnrArea']\n",
      " 1 - ['GarageCars', 'MoSold']\n",
      " 1 - ['GarageCars', 'Neighborhood_BrkSide']\n",
      " 3 - ['GarageCars', 'Neighborhood_Crawfor']\n",
      " 3 - ['GarageCars', 'Neighborhood_IDOTRR']\n",
      " 1 - ['GarageCars', 'Neighborhood_MeadowV']\n",
      " 1 - ['GarageCars', 'Neighborhood_NAmes']\n",
      " 1 - ['GarageCars', 'Neighborhood_NoRidge']\n",
      " 1 - ['GarageCars', 'Neighborhood_StoneBr']\n",
      " 22 - ['GarageCars', 'OverallCond']\n",
      " 86 - ['GarageCars', 'OverallQual']\n",
      " 7 - ['GarageCars', 'PavedDrive_N']\n",
      " 4 - ['GarageCars', 'PavedDrive_Y']\n",
      " 2 - ['GarageCars', 'RoofStyle_Gable']\n",
      " 1 - ['GarageCars', 'RoofStyle_Gambrel']\n",
      " 3 - ['GarageCars', 'SaleCondition_Abnorml']\n",
      " 1 - ['GarageCars', 'SaleType_COD']\n",
      " 1 - ['GarageCars', 'SaleType_New']\n",
      " 1 - ['GarageCars', 'ScreenPorch']\n",
      " 1 - ['GarageCars', 'Street_Grvl']\n",
      " 2 - ['GarageCars', 'Street_Pave']\n",
      " 25 - ['GarageCars', 'TotRmsAbvGrd']\n",
      " 102 - ['GarageCars', 'YearBuilt']\n",
      " 28 - ['GarageCars', 'YearRemodAdd']\n",
      " 35 - ['GarageCond', 'ExterQual']\n",
      " 15 - ['GarageCond', 'Fireplaces']\n",
      " 16 - ['GarageCond', 'Foundation_PConc']\n",
      " 1 - ['GarageCond', 'HouseStyle_2.5Fin']\n",
      " 1 - ['GarageCond', 'MasVnrType_None']\n",
      " 1 - ['GarageCond', 'SaleCondition_Partial']\n",
      " 12 - ['GarageFinish_Fin', '2ndFlrSF']\n",
      " 3 - ['GarageFinish_Fin', 'BedroomAbvGr']\n",
      " 1 - ['GarageFinish_Fin', 'BldgType_1Fam']\n",
      " 3 - ['GarageFinish_Fin', 'BsmtExposure_Gd']\n",
      " 9 - ['GarageFinish_Fin', 'BsmtFinSF1']\n",
      " 2 - ['GarageFinish_Fin', 'BsmtFinType1_GLQ']\n",
      " 1 - ['GarageFinish_Fin', 'BsmtFinType1_Unf']\n",
      " 1 - ['GarageFinish_Fin', 'BsmtFinType2_Rec']\n",
      " 1 - ['GarageFinish_Fin', 'BsmtFinType2_Unf']\n",
      " 2 - ['GarageFinish_Fin', 'BsmtFullBath']\n",
      " 1 - ['GarageFinish_Fin', 'BsmtQual']\n",
      " 2 - ['GarageFinish_Fin', 'BsmtUnfSF']\n",
      " 7 - ['GarageFinish_Fin', 'CentralAir_N']\n",
      " 4 - ['GarageFinish_Fin', 'CentralAir_Y']\n",
      " 1 - ['GarageFinish_Fin', 'Electrical_SBrkr']\n",
      " 1 - ['GarageFinish_Fin', 'Exterior2nd_CmentBd']\n",
      " 2 - ['GarageFinish_Fin', 'Exterior2nd_ImStucc']\n",
      " 3 - ['GarageFinish_Fin', 'Exterior2nd_VinylSd']\n",
      " 5 - ['GarageFinish_Fin', 'Fireplaces']\n",
      " 1 - ['GarageFinish_Fin', 'Foundation_CBlock']\n",
      " 4 - ['GarageFinish_Fin', 'Foundation_PConc']\n",
      " 1 - ['GarageFinish_Fin', 'Functional_Mod']\n",
      " 1 - ['GarageFinish_Fin', 'GarageCars']\n",
      " 4 - ['GarageFinish_Fin', 'GarageCond']\n",
      " 8 - ['GarageFinish_Fin', 'GarageFinish_RFn']\n",
      " 8 - ['GarageFinish_Fin', 'GarageQual']\n",
      " 7 - ['GarageFinish_Fin', 'GarageType_Attchd']\n",
      " 1 - ['GarageFinish_Fin', 'GarageType_Detchd']\n",
      " 7 - ['GarageFinish_Fin', 'GarageYrBlt']\n",
      " 9 - ['GarageFinish_Fin', 'GrLivArea']\n",
      " 4 - ['GarageFinish_Fin', 'HalfBath']\n",
      " 8 - ['GarageFinish_Fin', 'HeatingQC']\n",
      " 2 - ['GarageFinish_Fin', 'HouseStyle_2Story']\n",
      " 5 - ['GarageFinish_Fin', 'KitchenQual']\n",
      " 20 - ['GarageFinish_Fin', 'LotArea']\n",
      " 7 - ['GarageFinish_Fin', 'LotFrontage']\n",
      " 1 - ['GarageFinish_Fin', 'LotShape_IR1']\n",
      " 2 - ['GarageFinish_Fin', 'MSZoning_RL']\n",
      " 5 - ['GarageFinish_Fin', 'MSZoning_RM']\n",
      " 12 - ['GarageFinish_Fin', 'MasVnrArea']\n",
      " 4 - ['GarageFinish_Fin', 'MasVnrType_None']\n",
      " 2 - ['GarageFinish_Fin', 'MasVnrType_Stone']\n",
      " 1 - ['GarageFinish_Fin', 'MoSold']\n",
      " 1 - ['GarageFinish_Fin', 'Neighborhood_Gilbert']\n",
      " 1 - ['GarageFinish_Fin', 'Neighborhood_IDOTRR']\n",
      " 1 - ['GarageFinish_Fin', 'Neighborhood_NAmes']\n",
      " 1 - ['GarageFinish_Fin', 'Neighborhood_NoRidge']\n",
      " 7 - ['GarageFinish_Fin', 'Neighborhood_NridgHt']\n",
      " 1 - ['GarageFinish_Fin', 'Neighborhood_Somerst']\n",
      " 3 - ['GarageFinish_Fin', 'Neighborhood_StoneBr']\n",
      " 1 - ['GarageFinish_Fin', 'OpenPorchSF']\n",
      " 2 - ['GarageFinish_Fin', 'OverallCond']\n",
      " 1 - ['GarageFinish_Fin', 'PavedDrive_N']\n",
      " 1 - ['GarageFinish_Fin', 'RoofStyle_Gable']\n",
      " 1 - ['GarageFinish_Fin', 'RoofStyle_Hip']\n",
      " 5 - ['GarageFinish_Fin', 'SaleCondition_Normal']\n",
      " 1 - ['GarageFinish_Fin', 'SaleCondition_Partial']\n",
      " 8 - ['GarageFinish_Fin', 'TotRmsAbvGrd']\n",
      " 5 - ['GarageFinish_Fin', 'WoodDeckSF']\n",
      " 4 - ['GarageFinish_Fin', 'YearBuilt']\n",
      " 4 - ['GarageFinish_Fin', 'YearRemodAdd']\n",
      " 23 - ['GarageFinish_RFn', 'Fireplaces']\n",
      " 3 - ['GarageFinish_RFn', 'Foundation_PConc']\n",
      " 1 - ['GarageFinish_Unf', 'BedroomAbvGr']\n",
      " 5 - ['GarageFinish_Unf', 'BsmtFinSF1']\n",
      " 2 - ['GarageFinish_Unf', 'BsmtUnfSF']\n",
      " 9 - ['GarageFinish_Unf', 'CentralAir_N']\n",
      " 9 - ['GarageFinish_Unf', 'CentralAir_Y']\n",
      " 2 - ['GarageFinish_Unf', 'ExterCond']\n",
      " 2 - ['GarageFinish_Unf', 'ExterQual']\n",
      " 1 - ['GarageFinish_Unf', 'Exterior1st_VinylSd']\n",
      " 1 - ['GarageFinish_Unf', 'Exterior2nd_AsbShng']\n",
      " 10 - ['GarageFinish_Unf', 'Fireplaces']\n",
      " 1 - ['GarageFinish_Unf', 'Foundation_BrkTil']\n",
      " 7 - ['GarageFinish_Unf', 'Foundation_CBlock']\n",
      " 11 - ['GarageFinish_Unf', 'Foundation_PConc']\n",
      " 8 - ['GarageFinish_Unf', 'GarageCars']\n",
      " 22 - ['GarageFinish_Unf', 'GarageCond']\n",
      " 11 - ['GarageFinish_Unf', 'GarageQual']\n",
      " 7 - ['GarageFinish_Unf', 'GarageType_Attchd']\n",
      " 1 - ['GarageFinish_Unf', 'GarageType_Basment']\n",
      " 17 - ['GarageFinish_Unf', 'GarageYrBlt']\n",
      " 15 - ['GarageFinish_Unf', 'GrLivArea']\n",
      " 9 - ['GarageFinish_Unf', 'HeatingQC']\n",
      " 2 - ['GarageFinish_Unf', 'Heating_GasA']\n",
      " 3 - ['GarageFinish_Unf', 'HouseStyle_2.5Fin']\n",
      " 1 - ['GarageFinish_Unf', 'HouseStyle_2Story']\n",
      " 12 - ['GarageFinish_Unf', 'KitchenQual']\n",
      " 1 - ['GarageFinish_Unf', 'LandContour_Low']\n",
      " 12 - ['GarageFinish_Unf', 'LotArea']\n",
      " 6 - ['GarageFinish_Unf', 'LotFrontage']\n",
      " 1 - ['GarageFinish_Unf', 'LotShape_IR1']\n",
      " 4 - ['GarageFinish_Unf', 'MSZoning_C (all)']\n",
      " 2 - ['GarageFinish_Unf', 'MSZoning_RL']\n",
      " 4 - ['GarageFinish_Unf', 'MasVnrArea']\n",
      " 3 - ['GarageFinish_Unf', 'MasVnrType_None']\n",
      " 1 - ['GarageFinish_Unf', 'Neighborhood_BrkSide']\n",
      " 6 - ['GarageFinish_Unf', 'Neighborhood_Crawfor']\n",
      " 2 - ['GarageFinish_Unf', 'Neighborhood_IDOTRR']\n",
      " 6 - ['GarageFinish_Unf', 'OverallCond']\n",
      " 6 - ['GarageFinish_Unf', 'PavedDrive_N']\n",
      " 1 - ['GarageFinish_Unf', 'PavedDrive_Y']\n",
      " 1 - ['GarageFinish_Unf', 'RoofMatl_CompShg']\n",
      " 1 - ['GarageFinish_Unf', 'RoofMatl_WdShngl']\n",
      " 1 - ['GarageFinish_Unf', 'SaleCondition_Alloca']\n",
      " 1 - ['GarageFinish_Unf', 'SaleCondition_Normal']\n",
      " 2 - ['GarageFinish_Unf', 'SaleType_New']\n",
      " 4 - ['GarageFinish_Unf', 'ScreenPorch']\n",
      " 11 - ['GarageFinish_Unf', 'TotRmsAbvGrd']\n",
      " 3 - ['GarageFinish_Unf', 'YearBuilt']\n",
      " 14 - ['GarageFinish_Unf', 'YearRemodAdd']\n",
      " 3 - ['GarageQual', 'BedroomAbvGr']\n",
      " 5 - ['GarageQual', 'BsmtFinSF1']\n",
      " 20 - ['GarageQual', 'BsmtQual']\n",
      " 1 - ['GarageQual', 'BsmtUnfSF']\n",
      " 1 - ['GarageQual', 'CentralAir_N']\n",
      " 1 - ['GarageQual', 'CentralAir_Y']\n",
      " 22 - ['GarageQual', 'ExterQual']\n",
      " 1 - ['GarageQual', 'Exterior2nd_BrkFace']\n",
      " 3 - ['GarageQual', 'Exterior2nd_VinylSd']\n",
      " 12 - ['GarageQual', 'Fireplaces']\n",
      " 12 - ['GarageQual', 'Foundation_PConc']\n",
      " 1 - ['GarageQual', 'GarageType_Attchd']\n",
      " 8 - ['GarageQual', 'GarageType_Detchd']\n",
      " 17 - ['GarageQual', 'GarageYrBlt']\n",
      " 29 - ['GarageQual', 'GrLivArea']\n",
      " 1 - ['GarageQual', 'HouseStyle_1Story']\n",
      " 1 - ['GarageQual', 'HouseStyle_2Story']\n",
      " 23 - ['GarageQual', 'KitchenQual']\n",
      " 1 - ['GarageQual', 'LandSlope_Mod']\n",
      " 1 - ['GarageQual', 'LotShape_IR1']\n",
      " 3 - ['GarageQual', 'MasVnrArea']\n",
      " 7 - ['GarageQual', 'MasVnrType_None']\n",
      " 1 - ['GarageQual', 'MiscVal']\n",
      " 1 - ['GarageQual', 'MoSold']\n",
      " 1 - ['GarageQual', 'Neighborhood_BrkSide']\n",
      " 12 - ['GarageQual', 'OverallQual']\n",
      " 1 - ['GarageQual', 'SaleCondition_Partial']\n",
      " 1 - ['GarageQual', 'SaleType_New']\n",
      " 12 - ['GarageQual', 'TotRmsAbvGrd']\n",
      " 26 - ['GarageQual', 'YearBuilt']\n",
      " 12 - ['GarageQual', 'YearRemodAdd']\n",
      " 2 - ['GarageType_Attchd', 'BedroomAbvGr']\n",
      " 2 - ['GarageType_Attchd', 'BsmtExposure_No']\n",
      " 2 - ['GarageType_Attchd', 'BsmtFinSF1']\n",
      " 1 - ['GarageType_Attchd', 'BsmtFinType1_BLQ']\n",
      " 3 - ['GarageType_Attchd', 'BsmtFullBath']\n",
      " 23 - ['GarageType_Attchd', 'BsmtQual']\n",
      " 4 - ['GarageType_Attchd', 'BsmtUnfSF']\n",
      " 1 - ['GarageType_Attchd', 'CentralAir_Y']\n",
      " 1 - ['GarageType_Attchd', 'Electrical_FuseA']\n",
      " 1 - ['GarageType_Attchd', 'Electrical_SBrkr']\n",
      " 1 - ['GarageType_Attchd', 'ExterCond']\n",
      " 60 - ['GarageType_Attchd', 'ExterQual']\n",
      " 3 - ['GarageType_Attchd', 'Exterior1st_VinylSd']\n",
      " 4 - ['GarageType_Attchd', 'Exterior2nd_VinylSd']\n",
      " 31 - ['GarageType_Attchd', 'Fireplaces']\n",
      " 1 - ['GarageType_Attchd', 'Foundation_BrkTil']\n",
      " 17 - ['GarageType_Attchd', 'Foundation_PConc']\n",
      " 2 - ['GarageType_Attchd', 'GarageCond']\n",
      " 11 - ['GarageType_Attchd', 'GarageType_BuiltIn']\n",
      " 35 - ['GarageType_Attchd', 'GarageYrBlt']\n",
      " 46 - ['GarageType_Attchd', 'GrLivArea']\n",
      " 5 - ['GarageType_Attchd', 'HouseStyle_1Story']\n",
      " 10 - ['GarageType_Attchd', 'HouseStyle_2Story']\n",
      " 21 - ['GarageType_Attchd', 'KitchenQual']\n",
      " 1 - ['GarageType_Attchd', 'LotFrontage']\n",
      " 9 - ['GarageType_Attchd', 'MasVnrArea']\n",
      " 5 - ['GarageType_Attchd', 'MasVnrType_None']\n",
      " 5 - ['GarageType_Attchd', 'Neighborhood_NAmes']\n",
      " 1 - ['GarageType_Attchd', 'Neighborhood_StoneBr']\n",
      " 10 - ['GarageType_Attchd', 'OverallQual']\n",
      " 1 - ['GarageType_Attchd', 'SaleCondition_Abnorml']\n",
      " 4 - ['GarageType_Attchd', 'SaleCondition_Partial']\n",
      " 3 - ['GarageType_Attchd', 'SaleType_New']\n",
      " 19 - ['GarageType_Attchd', 'TotRmsAbvGrd']\n",
      " 33 - ['GarageType_Attchd', 'YearBuilt']\n",
      " 24 - ['GarageType_Attchd', 'YearRemodAdd']\n",
      " 1 - ['GarageType_BuiltIn', 'Fireplaces']\n",
      " 1 - ['GarageType_BuiltIn', 'Foundation_PConc']\n",
      " 2 - ['GarageType_Detchd', 'BedroomAbvGr']\n",
      " 1 - ['GarageType_Detchd', 'BsmtExposure_No']\n",
      " 3 - ['GarageType_Detchd', 'BsmtUnfSF']\n",
      " 1 - ['GarageType_Detchd', 'Condition2_Norm']\n",
      " 1 - ['GarageType_Detchd', 'EnclosedPorch']\n",
      " 3 - ['GarageType_Detchd', 'ExterCond']\n",
      " 6 - ['GarageType_Detchd', 'ExterQual']\n",
      " 2 - ['GarageType_Detchd', 'Exterior2nd_BrkFace']\n",
      " 9 - ['GarageType_Detchd', 'Fireplaces']\n",
      " 12 - ['GarageType_Detchd', 'Foundation_PConc']\n",
      " 8 - ['GarageType_Detchd', 'GarageCond']\n",
      " 1 - ['GarageType_Detchd', 'HouseStyle_1.5Fin']\n",
      " 2 - ['GarageType_Detchd', 'HouseStyle_1Story']\n",
      " 1 - ['GarageType_Detchd', 'LowQualFinSF']\n",
      " 4 - ['GarageType_Detchd', 'MasVnrArea']\n",
      " 1 - ['GarageType_Detchd', 'MasVnrType_None']\n",
      " 1 - ['GarageType_Detchd', 'MoSold']\n",
      " 1 - ['GarageType_Detchd', 'Neighborhood_BrDale']\n",
      " 1 - ['GarageType_Detchd', 'RoofMatl_CompShg']\n",
      " 1 - ['GarageType_Detchd', 'RoofMatl_WdShngl']\n",
      " 1 - ['GarageType_Detchd', 'SaleCondition_Abnorml']\n",
      " 1 - ['GarageType_Detchd', 'SaleCondition_Partial']\n",
      " 11 - ['GarageType_Detchd', 'YearRemodAdd']\n",
      " 16 - ['GarageYrBlt', 'BedroomAbvGr']\n",
      " 2 - ['GarageYrBlt', 'BsmtExposure_No']\n",
      " 1 - ['GarageYrBlt', 'BsmtFinSF2']\n",
      " 3 - ['GarageYrBlt', 'BsmtFinType1_Unf']\n",
      " 5 - ['GarageYrBlt', 'BsmtFullBath']\n",
      " 14 - ['GarageYrBlt', 'BsmtQual']\n",
      " 2 - ['GarageYrBlt', 'BsmtUnfSF']\n",
      " 19 - ['GarageYrBlt', 'CentralAir_Y']\n",
      " 5 - ['GarageYrBlt', 'Electrical_SBrkr']\n",
      " 3 - ['GarageYrBlt', 'ExterQual']\n",
      " 1 - ['GarageYrBlt', 'Exterior1st_AsbShng']\n",
      " 2 - ['GarageYrBlt', 'Exterior2nd_CmentBd']\n",
      " 68 - ['GarageYrBlt', 'Fireplaces']\n",
      " 6 - ['GarageYrBlt', 'Foundation_PConc']\n",
      " 26 - ['GarageYrBlt', 'GarageCond']\n",
      " 20 - ['GarageYrBlt', 'GarageType_Detchd']\n",
      " 69 - ['GarageYrBlt', 'GrLivArea']\n",
      " 17 - ['GarageYrBlt', 'KitchenQual']\n",
      " 1 - ['GarageYrBlt', 'LandContour_Bnk']\n",
      " 1 - ['GarageYrBlt', 'LandContour_Low']\n",
      " 1 - ['GarageYrBlt', 'LandSlope_Mod']\n",
      " 1 - ['GarageYrBlt', 'LotShape_IR1']\n",
      " 50 - ['GarageYrBlt', 'MasVnrArea']\n",
      " 12 - ['GarageYrBlt', 'MasVnrType_None']\n",
      " 1 - ['GarageYrBlt', 'RoofMatl_CompShg']\n",
      " 2 - ['GarageYrBlt', 'RoofMatl_WdShngl']\n",
      " 17 - ['GarageYrBlt', 'RoofStyle_Gable']\n",
      " 1 - ['GarageYrBlt', 'SaleCondition_Partial']\n",
      " 1 - ['GarageYrBlt', 'ScreenPorch']\n",
      " 45 - ['GarageYrBlt', 'TotRmsAbvGrd']\n",
      " 7 - ['GarageYrBlt', 'YearBuilt']\n",
      " 17 - ['GarageYrBlt', 'YearRemodAdd']\n",
      " 98 - ['GrLivArea', 'BsmtQual']\n",
      " 5 - ['GrLivArea', 'ExterCond']\n",
      " 113 - ['GrLivArea', 'ExterQual']\n",
      " 3 - ['GrLivArea', 'Fireplaces']\n",
      " 32 - ['GrLivArea', 'Foundation_PConc']\n",
      " 27 - ['GrLivArea', 'GarageCond']\n",
      " 1 - ['GrLivArea', 'GarageFinish_RFn']\n",
      " 3 - ['GrLivArea', 'GarageType_Detchd']\n",
      " 1 - ['GrLivArea', 'HouseStyle_1Story']\n",
      " 4 - ['GrLivArea', 'KitchenAbvGr']\n",
      " 7 - ['GrLivArea', 'MasVnrArea']\n",
      " 2 - ['GrLivArea', 'MasVnrType_None']\n",
      " 1 - ['GrLivArea', 'SaleCondition_Partial']\n",
      " 64 - ['GrLivArea', 'YearBuilt']\n",
      " 68 - ['GrLivArea', 'YearRemodAdd']\n",
      " 1 - ['HalfBath', '2ndFlrSF']\n",
      " 2 - ['HalfBath', 'BedroomAbvGr']\n",
      " 1 - ['HalfBath', 'BldgType_1Fam']\n",
      " 2 - ['HalfBath', 'BsmtExposure_No']\n",
      " 5 - ['HalfBath', 'BsmtFinSF1']\n",
      " 8 - ['HalfBath', 'BsmtQual']\n",
      " 1 - ['HalfBath', 'BsmtUnfSF']\n",
      " 2 - ['HalfBath', 'CentralAir_N']\n",
      " 2 - ['HalfBath', 'CentralAir_Y']\n",
      " 1 - ['HalfBath', 'Electrical_SBrkr']\n",
      " 4 - ['HalfBath', 'ExterQual']\n",
      " 2 - ['HalfBath', 'Exterior2nd_VinylSd']\n",
      " 4 - ['HalfBath', 'Foundation_PConc']\n",
      " 2 - ['HalfBath', 'GarageCars']\n",
      " 1 - ['HalfBath', 'GarageCond']\n",
      " 3 - ['HalfBath', 'GarageFinish_Unf']\n",
      " 2 - ['HalfBath', 'GarageQual']\n",
      " 8 - ['HalfBath', 'GarageType_Attchd']\n",
      " 2 - ['HalfBath', 'GarageType_Detchd']\n",
      " 9 - ['HalfBath', 'GarageYrBlt']\n",
      " 2 - ['HalfBath', 'HeatingQC']\n",
      " 8 - ['HalfBath', 'KitchenQual']\n",
      " 5 - ['HalfBath', 'LotArea']\n",
      " 1 - ['HalfBath', 'LotFrontage']\n",
      " 6 - ['HalfBath', 'MasVnrArea']\n",
      " 7 - ['HalfBath', 'MasVnrType_None']\n",
      " 2 - ['HalfBath', 'MasVnrType_Stone']\n",
      " 1 - ['HalfBath', 'Neighborhood_NoRidge']\n",
      " 1 - ['HalfBath', 'Neighborhood_Somerst']\n",
      " 1 - ['HalfBath', 'SaleCondition_Partial']\n",
      " 1 - ['HalfBath', 'TotRmsAbvGrd']\n",
      " 6 - ['HalfBath', 'YearBuilt']\n",
      " 1 - ['HalfBath', 'YearRemodAdd']\n",
      " 3 - ['HeatingQC', 'BedroomAbvGr']\n",
      " 2 - ['HeatingQC', 'BsmtExposure_No']\n",
      " 16 - ['HeatingQC', 'BsmtFinSF1']\n",
      " 1 - ['HeatingQC', 'BsmtFinType1_Unf']\n",
      " 1 - ['HeatingQC', 'BsmtFullBath']\n",
      " 2 - ['HeatingQC', 'BsmtQual']\n",
      " 1 - ['HeatingQC', 'BsmtUnfSF']\n",
      " 5 - ['HeatingQC', 'CentralAir_N']\n",
      " 15 - ['HeatingQC', 'CentralAir_Y']\n",
      " 1 - ['HeatingQC', 'Electrical_FuseA']\n",
      " 1 - ['HeatingQC', 'Electrical_SBrkr']\n",
      " 1 - ['HeatingQC', 'ExterQual']\n",
      " 21 - ['HeatingQC', 'Fireplaces']\n",
      " 12 - ['HeatingQC', 'Foundation_PConc']\n",
      " 11 - ['HeatingQC', 'GarageCond']\n",
      " 3 - ['HeatingQC', 'GarageFinish_RFn']\n",
      " 5 - ['HeatingQC', 'GarageQual']\n",
      " 13 - ['HeatingQC', 'GarageType_Attchd']\n",
      " 8 - ['HeatingQC', 'GarageType_Detchd']\n",
      " 7 - ['HeatingQC', 'GarageYrBlt']\n",
      " 17 - ['HeatingQC', 'GrLivArea']\n",
      " 1 - ['HeatingQC', 'Heating_Grav']\n",
      " 2 - ['HeatingQC', 'HouseStyle_2Story']\n",
      " 1 - ['HeatingQC', 'KitchenQual']\n",
      " 13 - ['HeatingQC', 'LotFrontage']\n",
      " 2 - ['HeatingQC', 'LotShape_IR1']\n",
      " 2 - ['HeatingQC', 'MSZoning_C (all)']\n",
      " 13 - ['HeatingQC', 'MSZoning_RL']\n",
      " 17 - ['HeatingQC', 'MasVnrArea']\n",
      " 4 - ['HeatingQC', 'MasVnrType_None']\n",
      " 2 - ['HeatingQC', 'MasVnrType_Stone']\n",
      " 1 - ['HeatingQC', 'Neighborhood_StoneBr']\n",
      " 9 - ['HeatingQC', 'OverallCond']\n",
      " 4 - ['HeatingQC', 'PavedDrive_N']\n",
      " 1 - ['HeatingQC', 'RoofMatl_WdShngl']\n",
      " 2 - ['HeatingQC', 'RoofStyle_Gable']\n",
      " 1 - ['HeatingQC', 'SaleCondition_Partial']\n",
      " 30 - ['HeatingQC', 'TotRmsAbvGrd']\n",
      " 1 - ['HeatingQC', 'YearBuilt']\n",
      " 5 - ['HeatingQC', 'YearRemodAdd']\n",
      " 1 - ['Heating_GasA', 'BsmtQual']\n",
      " 1 - ['Heating_GasA', 'ExterQual']\n",
      " 1 - ['Heating_GasA', 'Exterior1st_VinylSd']\n",
      " 1 - ['Heating_GasA', 'Foundation_PConc']\n",
      " 1 - ['Heating_GasA', 'GarageCond']\n",
      " 2 - ['Heating_Grav', 'BsmtQual']\n",
      " 1 - ['Heating_Grav', 'Fireplaces']\n",
      " 1 - ['HouseStyle_1.5Fin', 'SaleType_WD']\n",
      " 1 - ['HouseStyle_2Story', 'BldgType_Twnhs']\n",
      " 1 - ['HouseStyle_2Story', 'ExterQual']\n",
      " 1 - ['HouseStyle_2Story', 'Fireplaces']\n",
      " 2 - ['HouseStyle_2Story', 'Foundation_PConc']\n",
      " 1 - ['HouseStyle_2Story', 'GarageCond']\n",
      " 1 - ['HouseStyle_2Story', 'GarageType_Detchd']\n",
      " 2 - ['HouseStyle_2Story', 'KitchenQual']\n",
      " 3 - ['HouseStyle_2Story', 'MasVnrArea']\n",
      " 3 - ['HouseStyle_2Story', 'MasVnrType_None']\n",
      " 2 - ['HouseStyle_2Story', 'YearRemodAdd']\n",
      " 2 - ['KitchenAbvGr', 'GarageCond']\n",
      " 25 - ['KitchenQual', 'BedroomAbvGr']\n",
      " 1 - ['KitchenQual', 'BsmtFinType1_Unf']\n",
      " 57 - ['KitchenQual', 'BsmtQual']\n",
      " 4 - ['KitchenQual', 'Electrical_SBrkr']\n",
      " 2 - ['KitchenQual', 'ExterCond']\n",
      " 53 - ['KitchenQual', 'ExterQual']\n",
      " 1 - ['KitchenQual', 'Exterior1st_BrkFace']\n",
      " 2 - ['KitchenQual', 'Exterior2nd_Plywood']\n",
      " 67 - ['KitchenQual', 'Fireplaces']\n",
      " 5 - ['KitchenQual', 'Foundation_PConc']\n",
      " 42 - ['KitchenQual', 'GarageCond']\n",
      " 2 - ['KitchenQual', 'GarageFinish_RFn']\n",
      " 7 - ['KitchenQual', 'GarageType_Detchd']\n",
      " 103 - ['KitchenQual', 'GrLivArea']\n",
      " 1 - ['KitchenQual', 'LotShape_IR1']\n",
      " 42 - ['KitchenQual', 'MasVnrArea']\n",
      " 4 - ['KitchenQual', 'MasVnrType_None']\n",
      " 1 - ['KitchenQual', 'MoSold']\n",
      " 1 - ['KitchenQual', 'Neighborhood_BrkSide']\n",
      " 5 - ['KitchenQual', 'RoofStyle_Gable']\n",
      " 1 - ['KitchenQual', 'SaleCondition_Abnorml']\n",
      " 1 - ['KitchenQual', 'ScreenPorch']\n",
      " 49 - ['KitchenQual', 'YearBuilt']\n",
      " 25 - ['KitchenQual', 'YearRemodAdd']\n",
      " 1 - ['LandContour_Bnk', 'Foundation_PConc']\n",
      " 1 - ['LandContour_Low', 'BsmtQual']\n",
      " 1 - ['LandContour_Low', 'Foundation_PConc']\n",
      " 1 - ['LandSlope_Gtl', 'GarageCond']\n",
      " 1 - ['LandSlope_Gtl', 'GarageType_Detchd']\n",
      " 1 - ['LandSlope_Sev', 'YearRemodAdd']\n",
      " 3 - ['LotArea', 'BsmtExposure_No']\n",
      " 9 - ['LotArea', 'BsmtFinSF1']\n",
      " 1 - ['LotArea', 'BsmtFullBath']\n",
      " 58 - ['LotArea', 'BsmtQual']\n",
      " 2 - ['LotArea', 'BsmtUnfSF']\n",
      " 10 - ['LotArea', 'CentralAir_N']\n",
      " 8 - ['LotArea', 'CentralAir_Y']\n",
      " 3 - ['LotArea', 'Electrical_FuseA']\n",
      " 2 - ['LotArea', 'Electrical_SBrkr']\n",
      " 1 - ['LotArea', 'EnclosedPorch']\n",
      " 1 - ['LotArea', 'ExterCond']\n",
      " 98 - ['LotArea', 'ExterQual']\n",
      " 10 - ['LotArea', 'Exterior1st_VinylSd']\n",
      " 1 - ['LotArea', 'Exterior2nd_MetalSd']\n",
      " 5 - ['LotArea', 'Exterior2nd_VinylSd']\n",
      " 11 - ['LotArea', 'Fireplaces']\n",
      " 2 - ['LotArea', 'Foundation_BrkTil']\n",
      " 15 - ['LotArea', 'Foundation_CBlock']\n",
      " 48 - ['LotArea', 'Foundation_PConc']\n",
      " 1 - ['LotArea', 'Foundation_Slab']\n",
      " 7 - ['LotArea', 'GarageCond']\n",
      " 6 - ['LotArea', 'GarageFinish_RFn']\n",
      " 10 - ['LotArea', 'GarageQual']\n",
      " 15 - ['LotArea', 'GarageType_Attchd']\n",
      " 4 - ['LotArea', 'GarageType_Detchd']\n",
      " 57 - ['LotArea', 'GarageYrBlt']\n",
      " 6 - ['LotArea', 'GrLivArea']\n",
      " 24 - ['LotArea', 'HeatingQC']\n",
      " 1 - ['LotArea', 'Heating_GasA']\n",
      " 2 - ['LotArea', 'HouseStyle_2Story']\n",
      " 63 - ['LotArea', 'KitchenQual']\n",
      " 5 - ['LotArea', 'LotFrontage']\n",
      " 10 - ['LotArea', 'MasVnrArea']\n",
      " 7 - ['LotArea', 'MasVnrType_None']\n",
      " 5 - ['LotArea', 'MasVnrType_Stone']\n",
      " 2 - ['LotArea', 'Neighborhood_Edwards']\n",
      " 1 - ['LotArea', 'Neighborhood_IDOTRR']\n",
      " 1 - ['LotArea', 'Neighborhood_Mitchel']\n",
      " 1 - ['LotArea', 'Neighborhood_NAmes']\n",
      " 2 - ['LotArea', 'Neighborhood_NoRidge']\n",
      " 2 - ['LotArea', 'Neighborhood_Sawyer']\n",
      " 1 - ['LotArea', 'Neighborhood_StoneBr']\n",
      " 3 - ['LotArea', 'OverallCond']\n",
      " 10 - ['LotArea', 'OverallQual']\n",
      " 2 - ['LotArea', 'PavedDrive_N']\n",
      " 2 - ['LotArea', 'PavedDrive_Y']\n",
      " 1 - ['LotArea', 'RoofStyle_Gable']\n",
      " 5 - ['LotArea', 'SaleCondition_Partial']\n",
      " 11 - ['LotArea', 'SaleType_New']\n",
      " 11 - ['LotArea', 'TotRmsAbvGrd']\n",
      " 88 - ['LotArea', 'YearBuilt']\n",
      " 24 - ['LotArea', 'YearRemodAdd']\n",
      " 1 - ['LotConfig_Corner', 'LotFrontage']\n",
      " 1 - ['LotConfig_CulDSac', 'BedroomAbvGr']\n",
      " 1 - ['LotConfig_Inside', 'GarageYrBlt']\n",
      " 1 - ['LotConfig_Inside', 'KitchenQual']\n",
      " 1 - ['LotFrontage', 'BsmtExposure_No']\n",
      " 6 - ['LotFrontage', 'BsmtFinSF1']\n",
      " 27 - ['LotFrontage', 'BsmtQual']\n",
      " 1 - ['LotFrontage', 'CentralAir_N']\n",
      " 3 - ['LotFrontage', 'CentralAir_Y']\n",
      " 1 - ['LotFrontage', 'Electrical_FuseA']\n",
      " 1 - ['LotFrontage', 'ExterCond']\n",
      " 50 - ['LotFrontage', 'ExterQual']\n",
      " 5 - ['LotFrontage', 'Exterior1st_VinylSd']\n",
      " 2 - ['LotFrontage', 'Exterior2nd_VinylSd']\n",
      " 11 - ['LotFrontage', 'Fireplaces']\n",
      " 28 - ['LotFrontage', 'Foundation_PConc']\n",
      " 2 - ['LotFrontage', 'GarageCond']\n",
      " 11 - ['LotFrontage', 'GarageType_Attchd']\n",
      " 2 - ['LotFrontage', 'GarageType_Detchd']\n",
      " 38 - ['LotFrontage', 'GarageYrBlt']\n",
      " 3 - ['LotFrontage', 'GrLivArea']\n",
      " 38 - ['LotFrontage', 'KitchenQual']\n",
      " 1 - ['LotFrontage', 'LandSlope_Mod']\n",
      " 2 - ['LotFrontage', 'LotConfig_CulDSac']\n",
      " 4 - ['LotFrontage', 'MasVnrArea']\n",
      " 1 - ['LotFrontage', 'MasVnrType_None']\n",
      " 1 - ['LotFrontage', 'Neighborhood_Blmngtn']\n",
      " 1 - ['LotFrontage', 'Neighborhood_NAmes']\n",
      " 6 - ['LotFrontage', 'OverallQual']\n",
      " 1 - ['LotFrontage', 'SaleCondition_Partial']\n",
      " 6 - ['LotFrontage', 'SaleType_New']\n",
      " 1 - ['LotFrontage', 'SaleType_WD']\n",
      " 11 - ['LotFrontage', 'TotRmsAbvGrd']\n",
      " 75 - ['LotFrontage', 'YearBuilt']\n",
      " 27 - ['LotFrontage', 'YearRemodAdd']\n",
      " 1 - ['LotShape_IR1', 'ExterQual']\n",
      " 1 - ['LotShape_IR1', 'Fireplaces']\n",
      " 3 - ['LotShape_IR1', 'MasVnrType_None']\n",
      " 1 - ['LotShape_IR2', 'MSZoning_RM']\n",
      " 2 - ['LotShape_Reg', 'BsmtFinSF1']\n",
      " 3 - ['LotShape_Reg', 'BsmtQual']\n",
      " 1 - ['LotShape_Reg', 'Electrical_SBrkr']\n",
      " 2 - ['LotShape_Reg', 'ExterQual']\n",
      " 1 - ['LotShape_Reg', 'Exterior1st_VinylSd']\n",
      " 2 - ['LotShape_Reg', 'Exterior2nd_VinylSd']\n",
      " 4 - ['LotShape_Reg', 'Foundation_PConc']\n",
      " 2 - ['LotShape_Reg', 'GarageType_Attchd']\n",
      " 2 - ['LotShape_Reg', 'GarageType_Detchd']\n",
      " 4 - ['LotShape_Reg', 'GarageYrBlt']\n",
      " 2 - ['LotShape_Reg', 'HeatingQC']\n",
      " 3 - ['LotShape_Reg', 'KitchenQual']\n",
      " 2 - ['LotShape_Reg', 'LotFrontage']\n",
      " 2 - ['LotShape_Reg', 'MasVnrArea']\n",
      " 1 - ['LotShape_Reg', 'MasVnrType_None']\n",
      " 1 - ['LotShape_Reg', 'MasVnrType_Stone']\n",
      " 1 - ['LotShape_Reg', 'Neighborhood_NAmes']\n",
      " 1 - ['LotShape_Reg', 'OverallQual']\n",
      " 1 - ['LotShape_Reg', 'SaleType_ConLD']\n",
      " 1 - ['LotShape_Reg', 'SaleType_New']\n",
      " 2 - ['LotShape_Reg', 'TotRmsAbvGrd']\n",
      " 8 - ['LotShape_Reg', 'YearBuilt']\n",
      " 3 - ['MSSubClass', 'BsmtFinSF1']\n",
      " 5 - ['MSSubClass', 'BsmtQual']\n",
      " 4 - ['MSSubClass', 'CentralAir_N']\n",
      " 4 - ['MSSubClass', 'CentralAir_Y']\n",
      " 5 - ['MSSubClass', 'ExterQual']\n",
      " 2 - ['MSSubClass', 'Exterior1st_VinylSd']\n",
      " 2 - ['MSSubClass', 'Exterior2nd_VinylSd']\n",
      " 6 - ['MSSubClass', 'Foundation_PConc']\n",
      " 8 - ['MSSubClass', 'GarageCars']\n",
      " 1 - ['MSSubClass', 'GarageCond']\n",
      " 1 - ['MSSubClass', 'GarageQual']\n",
      " 1 - ['MSSubClass', 'GarageType_Attchd']\n",
      " 1 - ['MSSubClass', 'GarageType_Detchd']\n",
      " 3 - ['MSSubClass', 'GarageYrBlt']\n",
      " 1 - ['MSSubClass', 'HalfBath']\n",
      " 2 - ['MSSubClass', 'HeatingQC']\n",
      " 2 - ['MSSubClass', 'KitchenQual']\n",
      " 3 - ['MSSubClass', 'LotArea']\n",
      " 2 - ['MSSubClass', 'LotFrontage']\n",
      " 1 - ['MSSubClass', 'MSZoning_RM']\n",
      " 4 - ['MSSubClass', 'MasVnrArea']\n",
      " 1 - ['MSSubClass', 'MasVnrType_None']\n",
      " 1 - ['MSSubClass', 'MasVnrType_Stone']\n",
      " 1 - ['MSSubClass', 'Neighborhood_Edwards']\n",
      " 3 - ['MSSubClass', 'Neighborhood_NridgHt']\n",
      " 2 - ['MSSubClass', 'PavedDrive_Y']\n",
      " 2 - ['MSSubClass', 'SaleCondition_Partial']\n",
      " 3 - ['MSSubClass', 'TotRmsAbvGrd']\n",
      " 10 - ['MSSubClass', 'YearBuilt']\n",
      " 1 - ['MSSubClass', 'YearRemodAdd']\n",
      " 6 - ['MSZoning_C (all)', 'BsmtQual']\n",
      " 2 - ['MSZoning_C (all)', 'CentralAir_N']\n",
      " 1 - ['MSZoning_C (all)', 'CentralAir_Y']\n",
      " 1 - ['MSZoning_C (all)', 'Electrical_SBrkr']\n",
      " 4 - ['MSZoning_C (all)', 'ExterQual']\n",
      " 2 - ['MSZoning_C (all)', 'Exterior1st_VinylSd']\n",
      " 1 - ['MSZoning_C (all)', 'Exterior2nd_VinylSd']\n",
      " 2 - ['MSZoning_C (all)', 'Fireplaces']\n",
      " 5 - ['MSZoning_C (all)', 'Foundation_PConc']\n",
      " 1 - ['MSZoning_C (all)', 'GarageCond']\n",
      " 1 - ['MSZoning_C (all)', 'GarageFinish_RFn']\n",
      " 3 - ['MSZoning_C (all)', 'GarageQual']\n",
      " 1 - ['MSZoning_C (all)', 'GarageType_Detchd']\n",
      " 6 - ['MSZoning_C (all)', 'GarageYrBlt']\n",
      " 4 - ['MSZoning_C (all)', 'GrLivArea']\n",
      " 11 - ['MSZoning_C (all)', 'KitchenQual']\n",
      " 2 - ['MSZoning_C (all)', 'MasVnrArea']\n",
      " 1 - ['MSZoning_C (all)', 'MasVnrType_None']\n",
      " 2 - ['MSZoning_C (all)', 'OverallQual']\n",
      " 5 - ['MSZoning_C (all)', 'TotRmsAbvGrd']\n",
      " 6 - ['MSZoning_C (all)', 'YearBuilt']\n",
      " 3 - ['MSZoning_C (all)', 'YearRemodAdd']\n",
      " 1 - ['MSZoning_FV', 'Fireplaces']\n",
      " 1 - ['MSZoning_RH', 'GarageQual']\n",
      " 1 - ['MSZoning_RL', 'BsmtCond']\n",
      " 2 - ['MSZoning_RL', 'BsmtFinSF1']\n",
      " 7 - ['MSZoning_RL', 'BsmtQual']\n",
      " 2 - ['MSZoning_RL', 'BsmtUnfSF']\n",
      " 3 - ['MSZoning_RL', 'CentralAir_N']\n",
      " 21 - ['MSZoning_RL', 'ExterQual']\n",
      " 1 - ['MSZoning_RL', 'Exterior1st_VinylSd']\n",
      " 1 - ['MSZoning_RL', 'Exterior2nd_CmentBd']\n",
      " 3 - ['MSZoning_RL', 'Exterior2nd_VinylSd']\n",
      " 1 - ['MSZoning_RL', 'Fireplaces']\n",
      " 15 - ['MSZoning_RL', 'Foundation_PConc']\n",
      " 1 - ['MSZoning_RL', 'GarageType_BuiltIn']\n",
      " 1 - ['MSZoning_RL', 'GarageType_Detchd']\n",
      " 20 - ['MSZoning_RL', 'GarageYrBlt']\n",
      " 1 - ['MSZoning_RL', 'GrLivArea']\n",
      " 22 - ['MSZoning_RL', 'KitchenQual']\n",
      " 3 - ['MSZoning_RL', 'LotFrontage']\n",
      " 2 - ['MSZoning_RL', 'MSZoning_C (all)']\n",
      " 1 - ['MSZoning_RL', 'MasVnrArea']\n",
      " 1 - ['MSZoning_RL', 'Neighborhood_Somerst']\n",
      " 4 - ['MSZoning_RL', 'OverallQual']\n",
      " 1 - ['MSZoning_RL', 'PavedDrive_N']\n",
      " 1 - ['MSZoning_RL', 'TotRmsAbvGrd']\n",
      " 15 - ['MSZoning_RL', 'YearBuilt']\n",
      " 19 - ['MSZoning_RL', 'YearRemodAdd']\n",
      " 2 - ['MSZoning_RM', '2ndFlrSF']\n",
      " 8 - ['MSZoning_RM', 'BsmtFinSF1']\n",
      " 4 - ['MSZoning_RM', 'BsmtQual']\n",
      " 3 - ['MSZoning_RM', 'BsmtUnfSF']\n",
      " 2 - ['MSZoning_RM', 'CentralAir_N']\n",
      " 1 - ['MSZoning_RM', 'CentralAir_Y']\n",
      " 14 - ['MSZoning_RM', 'ExterQual']\n",
      " 3 - ['MSZoning_RM', 'Fireplaces']\n",
      " 2 - ['MSZoning_RM', 'Foundation_CBlock']\n",
      " 6 - ['MSZoning_RM', 'Foundation_PConc']\n",
      " 3 - ['MSZoning_RM', 'GarageCars']\n",
      " 2 - ['MSZoning_RM', 'GarageCond']\n",
      " 4 - ['MSZoning_RM', 'GarageFinish_Unf']\n",
      " 2 - ['MSZoning_RM', 'GarageQual']\n",
      " 2 - ['MSZoning_RM', 'GarageType_Attchd']\n",
      " 5 - ['MSZoning_RM', 'GarageType_Detchd']\n",
      " 13 - ['MSZoning_RM', 'GarageYrBlt']\n",
      " 2 - ['MSZoning_RM', 'GrLivArea']\n",
      " 1 - ['MSZoning_RM', 'HalfBath']\n",
      " 8 - ['MSZoning_RM', 'HeatingQC']\n",
      " 1 - ['MSZoning_RM', 'Heating_Grav']\n",
      " 1 - ['MSZoning_RM', 'HouseStyle_2.5Unf']\n",
      " 1 - ['MSZoning_RM', 'HouseStyle_2Story']\n",
      " 6 - ['MSZoning_RM', 'KitchenQual']\n",
      " 2 - ['MSZoning_RM', 'LotArea']\n",
      " 1 - ['MSZoning_RM', 'LotFrontage']\n",
      " 4 - ['MSZoning_RM', 'MasVnrArea']\n",
      " 1 - ['MSZoning_RM', 'MasVnrType_None']\n",
      " 2 - ['MSZoning_RM', 'MasVnrType_Stone']\n",
      " 1 - ['MSZoning_RM', 'Neighborhood_Edwards']\n",
      " 3 - ['MSZoning_RM', 'Neighborhood_NridgHt']\n",
      " 1 - ['MSZoning_RM', 'OverallCond']\n",
      " 1 - ['MSZoning_RM', 'RoofStyle_Gable']\n",
      " 3 - ['MSZoning_RM', 'SaleCondition_Partial']\n",
      " 9 - ['MSZoning_RM', 'TotRmsAbvGrd']\n",
      " 9 - ['MSZoning_RM', 'YearBuilt']\n",
      " 9 - ['MSZoning_RM', 'YearRemodAdd']\n",
      " 1 - ['MasVnrArea', 'BedroomAbvGr']\n",
      " 1 - ['MasVnrArea', 'ExterCond']\n",
      " 31 - ['MasVnrArea', 'ExterQual']\n",
      " 20 - ['MasVnrArea', 'Fireplaces']\n",
      " 1 - ['MasVnrArea', 'Foundation_BrkTil']\n",
      " 32 - ['MasVnrArea', 'Foundation_PConc']\n",
      " 7 - ['MasVnrArea', 'GarageCond']\n",
      " 1 - ['MasVnrArea', 'GarageFinish_RFn']\n",
      " 1 - ['MasVnrArea', 'GarageType_BuiltIn']\n",
      " 1 - ['MasVnrArea', 'MasVnrType_None']\n",
      " 1 - ['MasVnrArea', 'Neighborhood_BrDale']\n",
      " 1 - ['MasVnrArea', 'Neighborhood_NAmes']\n",
      " 4 - ['MasVnrArea', 'SaleCondition_Partial']\n",
      " 1 - ['MasVnrType_BrkFace', 'BsmtFinSF1']\n",
      " 1 - ['MasVnrType_BrkFace', 'BsmtQual']\n",
      " 1 - ['MasVnrType_BrkFace', 'GarageQual']\n",
      " 2 - ['MasVnrType_BrkFace', 'GarageYrBlt']\n",
      " 1 - ['MasVnrType_BrkFace', 'KitchenQual']\n",
      " 1 - ['MasVnrType_BrkFace', 'LotFrontage']\n",
      " 1 - ['MasVnrType_BrkFace', 'LotShape_Reg']\n",
      " 7 - ['MasVnrType_None', 'Fireplaces']\n",
      " 12 - ['MasVnrType_None', 'Foundation_PConc']\n",
      " 1 - ['MasVnrType_Stone', 'BedroomAbvGr']\n",
      " 4 - ['MasVnrType_Stone', 'Exterior2nd_VinylSd']\n",
      " 5 - ['MasVnrType_Stone', 'Fireplaces']\n",
      " 3 - ['MasVnrType_Stone', 'Foundation_PConc']\n",
      " 1 - ['MasVnrType_Stone', 'GarageCond']\n",
      " 3 - ['MasVnrType_Stone', 'GarageQual']\n",
      " 3 - ['MasVnrType_Stone', 'GarageType_Attchd']\n",
      " 2 - ['MasVnrType_Stone', 'GarageYrBlt']\n",
      " 3 - ['MasVnrType_Stone', 'LotFrontage']\n",
      " 1 - ['MasVnrType_Stone', 'MasVnrType_None']\n",
      " 1 - ['MasVnrType_Stone', 'MoSold']\n",
      " 1 - ['MasVnrType_Stone', 'SaleCondition_Normal']\n",
      " 1 - ['MasVnrType_Stone', 'SaleCondition_Partial']\n",
      " 2 - ['MasVnrType_Stone', 'SaleType_New']\n",
      " 1 - ['MasVnrType_Stone', 'SaleType_WD']\n",
      " 1 - ['MasVnrType_Stone', 'TotRmsAbvGrd']\n",
      " 1 - ['MasVnrType_Stone', 'YearBuilt']\n",
      " 2 - ['MasVnrType_Stone', 'YearRemodAdd']\n",
      " 1 - ['MiscVal', 'GarageCond']\n",
      " 2 - ['Neighborhood_BrDale', 'MasVnrType_None']\n",
      " 1 - ['Neighborhood_BrkSide', 'Fireplaces']\n",
      " 1 - ['Neighborhood_BrkSide', 'SaleCondition_Partial']\n",
      " 1 - ['Neighborhood_ClearCr', 'ExterQual']\n",
      " 1 - ['Neighborhood_ClearCr', 'Foundation_PConc']\n",
      " 1 - ['Neighborhood_ClearCr', 'YearBuilt']\n",
      " 5 - ['Neighborhood_CollgCr', 'Fireplaces']\n",
      " 2 - ['Neighborhood_Crawfor', 'BsmtQual']\n",
      " 1 - ['Neighborhood_Crawfor', 'ExterQual']\n",
      " 2 - ['Neighborhood_Crawfor', 'Foundation_PConc']\n",
      " 1 - ['Neighborhood_Crawfor', 'GarageCond']\n",
      " 5 - ['Neighborhood_Crawfor', 'GarageYrBlt']\n",
      " 1 - ['Neighborhood_Crawfor', 'HeatingQC']\n",
      " 7 - ['Neighborhood_Crawfor', 'YearBuilt']\n",
      " 1 - ['Neighborhood_Edwards', 'BsmtQual']\n",
      " 1 - ['Neighborhood_Edwards', 'CentralAir_N']\n",
      " 1 - ['Neighborhood_Edwards', 'Exterior2nd_VinylSd']\n",
      " 1 - ['Neighborhood_Edwards', 'MasVnrType_Stone']\n",
      " 1 - ['Neighborhood_Edwards', 'OverallCond']\n",
      " 1 - ['Neighborhood_Edwards', 'YearBuilt']\n",
      " 1 - ['Neighborhood_Gilbert', 'GarageType_BuiltIn']\n",
      " 1 - ['Neighborhood_Gilbert', 'KitchenQual']\n",
      " 1 - ['Neighborhood_IDOTRR', 'BedroomAbvGr']\n",
      " 3 - ['Neighborhood_IDOTRR', 'BsmtQual']\n",
      " 1 - ['Neighborhood_IDOTRR', 'CentralAir_N']\n",
      " 1 - ['Neighborhood_IDOTRR', 'CentralAir_Y']\n",
      " 3 - ['Neighborhood_IDOTRR', 'ExterQual']\n",
      " 1 - ['Neighborhood_IDOTRR', 'Exterior2nd_VinylSd']\n",
      " 4 - ['Neighborhood_IDOTRR', 'Fireplaces']\n",
      " 3 - ['Neighborhood_IDOTRR', 'Foundation_PConc']\n",
      " 2 - ['Neighborhood_IDOTRR', 'GarageCond']\n",
      " 1 - ['Neighborhood_IDOTRR', 'GarageQual']\n",
      " 3 - ['Neighborhood_IDOTRR', 'GarageType_Attchd']\n",
      " 4 - ['Neighborhood_IDOTRR', 'GarageType_Detchd']\n",
      " 3 - ['Neighborhood_IDOTRR', 'GarageYrBlt']\n",
      " 1 - ['Neighborhood_IDOTRR', 'HeatingQC']\n",
      " 5 - ['Neighborhood_IDOTRR', 'KitchenQual']\n",
      " 1 - ['Neighborhood_IDOTRR', 'LotFrontage']\n",
      " 1 - ['Neighborhood_IDOTRR', 'MasVnrArea']\n",
      " 1 - ['Neighborhood_IDOTRR', 'TotRmsAbvGrd']\n",
      " 6 - ['Neighborhood_IDOTRR', 'YearBuilt']\n",
      " 6 - ['Neighborhood_IDOTRR', 'YearRemodAdd']\n",
      " 1 - ['Neighborhood_MeadowV', 'Fireplaces']\n",
      " 2 - ['Neighborhood_NAmes', 'MasVnrType_None']\n",
      " 1 - ['Neighborhood_NWAmes', 'ExterQual']\n",
      " 3 - ['Neighborhood_NWAmes', 'Foundation_PConc']\n",
      " 1 - ['Neighborhood_NWAmes', 'GarageYrBlt']\n",
      " 2 - ['Neighborhood_NWAmes', 'HeatingQC']\n",
      " 2 - ['Neighborhood_NWAmes', 'YearBuilt']\n",
      " 1 - ['Neighborhood_NWAmes', 'YearRemodAdd']\n",
      " 1 - ['Neighborhood_NoRidge', 'BsmtFinSF1']\n",
      " 1 - ['Neighborhood_NoRidge', 'BsmtQual']\n",
      " 1 - ['Neighborhood_NoRidge', 'CentralAir_N']\n",
      " 1 - ['Neighborhood_NoRidge', 'Electrical_SBrkr']\n",
      " 1 - ['Neighborhood_NoRidge', 'Exterior1st_VinylSd']\n",
      " 2 - ['Neighborhood_NoRidge', 'Fireplaces']\n",
      " 1 - ['Neighborhood_NoRidge', 'Foundation_BrkTil']\n",
      " 4 - ['Neighborhood_NoRidge', 'Foundation_PConc']\n",
      " 1 - ['Neighborhood_NoRidge', 'GarageCond']\n",
      " 2 - ['Neighborhood_NoRidge', 'GarageType_Attchd']\n",
      " 4 - ['Neighborhood_NoRidge', 'GarageYrBlt']\n",
      " 3 - ['Neighborhood_NoRidge', 'HeatingQC']\n",
      " 1 - ['Neighborhood_NoRidge', 'KitchenQual']\n",
      " 1 - ['Neighborhood_NoRidge', 'LotFrontage']\n",
      " 3 - ['Neighborhood_NoRidge', 'MasVnrType_None']\n",
      " 2 - ['Neighborhood_NoRidge', 'PavedDrive_N']\n",
      " 1 - ['Neighborhood_NoRidge', 'RoofMatl_CompShg']\n",
      " 1 - ['Neighborhood_NoRidge', 'RoofMatl_WdShngl']\n",
      " 1 - ['Neighborhood_NoRidge', 'SaleType_New']\n",
      " 7 - ['Neighborhood_NoRidge', 'YearBuilt']\n",
      " 3 - ['Neighborhood_NoRidge', 'YearRemodAdd']\n",
      " 5 - ['Neighborhood_NridgHt', '2ndFlrSF']\n",
      " 2 - ['Neighborhood_NridgHt', 'BedroomAbvGr']\n",
      " 3 - ['Neighborhood_NridgHt', 'BldgType_1Fam']\n",
      " 4 - ['Neighborhood_NridgHt', 'BsmtFinSF1']\n",
      " 1 - ['Neighborhood_NridgHt', 'BsmtFinSF2']\n",
      " 2 - ['Neighborhood_NridgHt', 'CentralAir_N']\n",
      " 2 - ['Neighborhood_NridgHt', 'CentralAir_Y']\n",
      " 1 - ['Neighborhood_NridgHt', 'ExterQual']\n",
      " 1 - ['Neighborhood_NridgHt', 'Exterior2nd_VinylSd']\n",
      " 2 - ['Neighborhood_NridgHt', 'Exterior2nd_Wd Shng']\n",
      " 14 - ['Neighborhood_NridgHt', 'Fireplaces']\n",
      " 1 - ['Neighborhood_NridgHt', 'Foundation_CBlock']\n",
      " 10 - ['Neighborhood_NridgHt', 'Foundation_PConc']\n",
      " 1 - ['Neighborhood_NridgHt', 'GarageCars']\n",
      " 1 - ['Neighborhood_NridgHt', 'GarageCond']\n",
      " 1 - ['Neighborhood_NridgHt', 'GarageFinish_RFn']\n",
      " 3 - ['Neighborhood_NridgHt', 'GarageFinish_Unf']\n",
      " 5 - ['Neighborhood_NridgHt', 'GarageQual']\n",
      " 5 - ['Neighborhood_NridgHt', 'GarageType_Attchd']\n",
      " 1 - ['Neighborhood_NridgHt', 'GarageType_Detchd']\n",
      " 10 - ['Neighborhood_NridgHt', 'GarageYrBlt']\n",
      " 4 - ['Neighborhood_NridgHt', 'GrLivArea']\n",
      " 1 - ['Neighborhood_NridgHt', 'HalfBath']\n",
      " 2 - ['Neighborhood_NridgHt', 'HeatingQC']\n",
      " 2 - ['Neighborhood_NridgHt', 'KitchenQual']\n",
      " 9 - ['Neighborhood_NridgHt', 'LotArea']\n",
      " 3 - ['Neighborhood_NridgHt', 'LotFrontage']\n",
      " 1 - ['Neighborhood_NridgHt', 'MSZoning_C (all)']\n",
      " 3 - ['Neighborhood_NridgHt', 'MasVnrArea']\n",
      " 4 - ['Neighborhood_NridgHt', 'MasVnrType_None']\n",
      " 1 - ['Neighborhood_NridgHt', 'MoSold']\n",
      " 2 - ['Neighborhood_NridgHt', 'PavedDrive_N']\n",
      " 1 - ['Neighborhood_NridgHt', 'PavedDrive_Y']\n",
      " 2 - ['Neighborhood_NridgHt', 'SaleCondition_Normal']\n",
      " 2 - ['Neighborhood_NridgHt', 'SaleType_New']\n",
      " 7 - ['Neighborhood_NridgHt', 'TotRmsAbvGrd']\n",
      " 14 - ['Neighborhood_NridgHt', 'YearBuilt']\n",
      " 5 - ['Neighborhood_NridgHt', 'YearRemodAdd']\n",
      " 1 - ['Neighborhood_OldTown', 'Electrical_SBrkr']\n",
      " 1 - ['Neighborhood_OldTown', 'ExterQual']\n",
      " 1 - ['Neighborhood_OldTown', 'Functional_Mod']\n",
      " 1 - ['Neighborhood_OldTown', 'KitchenQual']\n",
      " 1 - ['Neighborhood_OldTown', 'SaleType_New']\n",
      " 1 - ['Neighborhood_SWISU', 'GarageCond']\n",
      " 2 - ['Neighborhood_Somerst', 'Fireplaces']\n",
      " 1 - ['Neighborhood_StoneBr', 'BsmtUnfSF']\n",
      " 1 - ['Neighborhood_StoneBr', 'Fireplaces']\n",
      " 2 - ['Neighborhood_StoneBr', 'GarageType_Detchd']\n",
      " 1 - ['Neighborhood_Timber', 'GarageYrBlt']\n",
      " 18 - ['OpenPorchSF', '2ndFlrSF']\n",
      " 5 - ['OpenPorchSF', 'BedroomAbvGr']\n",
      " 2 - ['OpenPorchSF', 'BsmtExposure_Gd']\n",
      " 4 - ['OpenPorchSF', 'BsmtExposure_No']\n",
      " 19 - ['OpenPorchSF', 'BsmtFinSF1']\n",
      " 7 - ['OpenPorchSF', 'BsmtFinType1_GLQ']\n",
      " 1 - ['OpenPorchSF', 'BsmtFullBath']\n",
      " 2 - ['OpenPorchSF', 'BsmtQual']\n",
      " 3 - ['OpenPorchSF', 'BsmtUnfSF']\n",
      " 13 - ['OpenPorchSF', 'CentralAir_N']\n",
      " 9 - ['OpenPorchSF', 'CentralAir_Y']\n",
      " 2 - ['OpenPorchSF', 'Electrical_FuseA']\n",
      " 3 - ['OpenPorchSF', 'Electrical_SBrkr']\n",
      " 2 - ['OpenPorchSF', 'ExterCond']\n",
      " 5 - ['OpenPorchSF', 'ExterQual']\n",
      " 1 - ['OpenPorchSF', 'Exterior1st_CemntBd']\n",
      " 1 - ['OpenPorchSF', 'Exterior2nd_AsbShng']\n",
      " 28 - ['OpenPorchSF', 'Fireplaces']\n",
      " 3 - ['OpenPorchSF', 'Foundation_BrkTil']\n",
      " 2 - ['OpenPorchSF', 'Foundation_CBlock']\n",
      " 13 - ['OpenPorchSF', 'Foundation_PConc']\n",
      " 1 - ['OpenPorchSF', 'Functional_Typ']\n",
      " 4 - ['OpenPorchSF', 'GarageCars']\n",
      " 10 - ['OpenPorchSF', 'GarageCond']\n",
      " 9 - ['OpenPorchSF', 'GarageFinish_Fin']\n",
      " 7 - ['OpenPorchSF', 'GarageFinish_Unf']\n",
      " 11 - ['OpenPorchSF', 'GarageQual']\n",
      " 17 - ['OpenPorchSF', 'GarageType_Attchd']\n",
      " 1 - ['OpenPorchSF', 'GarageType_BuiltIn']\n",
      " 12 - ['OpenPorchSF', 'GarageType_Detchd']\n",
      " 12 - ['OpenPorchSF', 'GarageYrBlt']\n",
      " 3 - ['OpenPorchSF', 'GrLivArea']\n",
      " 1 - ['OpenPorchSF', 'HalfBath']\n",
      " 13 - ['OpenPorchSF', 'HeatingQC']\n",
      " 1 - ['OpenPorchSF', 'Heating_Grav']\n",
      " 2 - ['OpenPorchSF', 'HouseStyle_2Story']\n",
      " 10 - ['OpenPorchSF', 'KitchenQual']\n",
      " 20 - ['OpenPorchSF', 'LotArea']\n",
      " 8 - ['OpenPorchSF', 'LotFrontage']\n",
      " 2 - ['OpenPorchSF', 'LotShape_Reg']\n",
      " 1 - ['OpenPorchSF', 'MSSubClass']\n",
      " 2 - ['OpenPorchSF', 'MSZoning_C (all)']\n",
      " 3 - ['OpenPorchSF', 'MSZoning_RL']\n",
      " 5 - ['OpenPorchSF', 'MSZoning_RM']\n",
      " 18 - ['OpenPorchSF', 'MasVnrArea']\n",
      " 14 - ['OpenPorchSF', 'MasVnrType_None']\n",
      " 7 - ['OpenPorchSF', 'MasVnrType_Stone']\n",
      " 1 - ['OpenPorchSF', 'Neighborhood_IDOTRR']\n",
      " 2 - ['OpenPorchSF', 'Neighborhood_NoRidge']\n",
      " 5 - ['OpenPorchSF', 'Neighborhood_NridgHt']\n",
      " 3 - ['OpenPorchSF', 'Neighborhood_OldTown']\n",
      " 2 - ['OpenPorchSF', 'Neighborhood_Timber']\n",
      " 5 - ['OpenPorchSF', 'OverallCond']\n",
      " 2 - ['OpenPorchSF', 'PavedDrive_N']\n",
      " 3 - ['OpenPorchSF', 'PavedDrive_Y']\n",
      " 1 - ['OpenPorchSF', 'RoofStyle_Gable']\n",
      " 1 - ['OpenPorchSF', 'RoofStyle_Hip']\n",
      " 1 - ['OpenPorchSF', 'SaleCondition_Normal']\n",
      " 3 - ['OpenPorchSF', 'SaleCondition_Partial']\n",
      " 3 - ['OpenPorchSF', 'SaleType_New']\n",
      " 26 - ['OpenPorchSF', 'TotRmsAbvGrd']\n",
      " 1 - ['OpenPorchSF', 'TotalBsmtSF']\n",
      " 11 - ['OpenPorchSF', 'WoodDeckSF']\n",
      " 14 - ['OpenPorchSF', 'YearBuilt']\n",
      " 20 - ['OpenPorchSF', 'YearRemodAdd']\n",
      " 1 - ['OverallCond', 'BsmtFinSF1']\n",
      " 16 - ['OverallCond', 'BsmtQual']\n",
      " 2 - ['OverallCond', 'CentralAir_N']\n",
      " 7 - ['OverallCond', 'ExterQual']\n",
      " 3 - ['OverallCond', 'Exterior1st_VinylSd']\n",
      " 2 - ['OverallCond', 'Exterior2nd_VinylSd']\n",
      " 11 - ['OverallCond', 'Fireplaces']\n",
      " 5 - ['OverallCond', 'Foundation_PConc']\n",
      " 2 - ['OverallCond', 'GarageCond']\n",
      " 1 - ['OverallCond', 'GarageQual']\n",
      " 1 - ['OverallCond', 'GarageType_Attchd']\n",
      " 4 - ['OverallCond', 'GarageType_Detchd']\n",
      " 10 - ['OverallCond', 'GarageYrBlt']\n",
      " 16 - ['OverallCond', 'GrLivArea']\n",
      " 21 - ['OverallCond', 'KitchenQual']\n",
      " 1 - ['OverallCond', 'LotFrontage']\n",
      " 2 - ['OverallCond', 'MasVnrArea']\n",
      " 2 - ['OverallCond', 'OverallQual']\n",
      " 1 - ['OverallCond', 'SaleCondition_Partial']\n",
      " 1 - ['OverallCond', 'SaleType_New']\n",
      " 8 - ['OverallCond', 'TotRmsAbvGrd']\n",
      " 10 - ['OverallCond', 'YearBuilt']\n",
      " 15 - ['OverallCond', 'YearRemodAdd']\n",
      " 1 - ['OverallQual', 'BedroomAbvGr']\n",
      " 18 - ['OverallQual', 'BsmtQual']\n",
      " 20 - ['OverallQual', 'CentralAir_Y']\n",
      " 4 - ['OverallQual', 'ExterQual']\n",
      " 37 - ['OverallQual', 'Fireplaces']\n",
      " 7 - ['OverallQual', 'GarageCond']\n",
      " 118 - ['OverallQual', 'GrLivArea']\n",
      " 9 - ['OverallQual', 'KitchenQual']\n",
      " 2 - ['OverallQual', 'MasVnrArea']\n",
      " 3 - ['OverallQual', 'TotRmsAbvGrd']\n",
      " 14 - ['OverallQual', 'YearBuilt']\n",
      " 12 - ['OverallQual', 'YearRemodAdd']\n",
      " 2 - ['PavedDrive_N', 'BsmtFinSF1']\n",
      " 1 - ['PavedDrive_N', 'BsmtFullBath']\n",
      " 9 - ['PavedDrive_N', 'BsmtQual']\n",
      " 1 - ['PavedDrive_N', 'CentralAir_Y']\n",
      " 1 - ['PavedDrive_N', 'Electrical_SBrkr']\n",
      " 7 - ['PavedDrive_N', 'ExterQual']\n",
      " 1 - ['PavedDrive_N', 'Exterior1st_VinylSd']\n",
      " 2 - ['PavedDrive_N', 'Exterior2nd_VinylSd']\n",
      " 2 - ['PavedDrive_N', 'Fireplaces']\n",
      " 5 - ['PavedDrive_N', 'Foundation_PConc']\n",
      " 1 - ['PavedDrive_N', 'GarageType_Detchd']\n",
      " 5 - ['PavedDrive_N', 'GarageYrBlt']\n",
      " 9 - ['PavedDrive_N', 'GrLivArea']\n",
      " 12 - ['PavedDrive_N', 'KitchenQual']\n",
      " 1 - ['PavedDrive_N', 'LandSlope_Mod']\n",
      " 1 - ['PavedDrive_N', 'MasVnrArea']\n",
      " 1 - ['PavedDrive_N', 'MasVnrType_None']\n",
      " 1 - ['PavedDrive_N', 'MoSold']\n",
      " 1 - ['PavedDrive_N', 'OverallQual']\n",
      " 1 - ['PavedDrive_N', 'ScreenPorch']\n",
      " 5 - ['PavedDrive_N', 'TotRmsAbvGrd']\n",
      " 5 - ['PavedDrive_N', 'YearBuilt']\n",
      " 3 - ['PavedDrive_N', 'YearRemodAdd']\n",
      " 1 - ['PavedDrive_Y', 'BedroomAbvGr']\n",
      " 1 - ['PavedDrive_Y', 'BsmtFinSF1']\n",
      " 1 - ['PavedDrive_Y', 'BsmtFinType1_BLQ']\n",
      " 2 - ['PavedDrive_Y', 'BsmtQual']\n",
      " 1 - ['PavedDrive_Y', 'CentralAir_Y']\n",
      " 1 - ['PavedDrive_Y', 'Electrical_SBrkr']\n",
      " 2 - ['PavedDrive_Y', 'ExterQual']\n",
      " 1 - ['PavedDrive_Y', 'Exterior1st_VinylSd']\n",
      " 1 - ['PavedDrive_Y', 'Exterior2nd_BrkFace']\n",
      " 3 - ['PavedDrive_Y', 'Exterior2nd_VinylSd']\n",
      " 2 - ['PavedDrive_Y', 'Fireplaces']\n",
      " 1 - ['PavedDrive_Y', 'Foundation_CBlock']\n",
      " 4 - ['PavedDrive_Y', 'Foundation_PConc']\n",
      " 1 - ['PavedDrive_Y', 'GarageCond']\n",
      " 4 - ['PavedDrive_Y', 'GarageType_Detchd']\n",
      " 2 - ['PavedDrive_Y', 'GarageYrBlt']\n",
      " 8 - ['PavedDrive_Y', 'GrLivArea']\n",
      " 2 - ['PavedDrive_Y', 'HeatingQC']\n",
      " 4 - ['PavedDrive_Y', 'KitchenQual']\n",
      " 4 - ['PavedDrive_Y', 'MasVnrType_None']\n",
      " 1 - ['PavedDrive_Y', 'MoSold']\n",
      " 1 - ['PavedDrive_Y', 'SaleCondition_Partial']\n",
      " 3 - ['PavedDrive_Y', 'SaleType_New']\n",
      " 8 - ['PavedDrive_Y', 'TotRmsAbvGrd']\n",
      " 1 - ['PavedDrive_Y', 'YearBuilt']\n",
      " 2 - ['PavedDrive_Y', 'YearRemodAdd']\n",
      " 1 - ['PoolArea', 'RoofStyle_Gable']\n",
      " 1 - ['RoofMatl_CompShg', 'Foundation_PConc']\n",
      " 1 - ['RoofMatl_WdShngl', 'MasVnrType_None']\n",
      " 12 - ['RoofStyle_Gable', 'ExterQual']\n",
      " 1 - ['RoofStyle_Gable', 'Fireplaces']\n",
      " 8 - ['RoofStyle_Gable', 'Foundation_PConc']\n",
      " 1 - ['RoofStyle_Gable', 'SaleCondition_Partial']\n",
      " 1 - ['RoofStyle_Gambrel', 'ExterQual']\n",
      " 1 - ['RoofStyle_Hip', '2ndFlrSF']\n",
      " 1 - ['RoofStyle_Hip', 'BsmtQual']\n",
      " 19 - ['RoofStyle_Hip', 'ExterQual']\n",
      " 1 - ['RoofStyle_Hip', 'Exterior2nd_VinylSd']\n",
      " 2 - ['RoofStyle_Hip', 'Fireplaces']\n",
      " 13 - ['RoofStyle_Hip', 'Foundation_PConc']\n",
      " 20 - ['RoofStyle_Hip', 'GarageYrBlt']\n",
      " 1 - ['RoofStyle_Hip', 'HalfBath']\n",
      " 1 - ['RoofStyle_Hip', 'HeatingQC']\n",
      " 3 - ['RoofStyle_Hip', 'KitchenQual']\n",
      " 1 - ['RoofStyle_Hip', 'LotArea']\n",
      " 1 - ['RoofStyle_Hip', 'MasVnrType_Stone']\n",
      " 2 - ['RoofStyle_Hip', 'Neighborhood_NridgHt']\n",
      " 2 - ['RoofStyle_Hip', 'SaleCondition_Partial']\n",
      " 2 - ['RoofStyle_Hip', 'SaleType_New']\n",
      " 31 - ['RoofStyle_Hip', 'YearBuilt']\n",
      " 3 - ['RoofStyle_Hip', 'YearRemodAdd']\n",
      " 1 - ['RoofStyle_Mansard', 'CentralAir_N']\n",
      " 1 - ['RoofStyle_Mansard', 'GarageType_Detchd']\n",
      " 2 - ['SaleCondition_Normal', 'Fireplaces']\n",
      " 1 - ['SaleCondition_Partial', 'EnclosedPorch']\n",
      " 5 - ['SaleCondition_Partial', 'Fireplaces']\n",
      " 1 - ['SaleCondition_Partial', 'Foundation_PConc']\n",
      " 3 - ['SaleCondition_Partial', 'MasVnrType_None']\n",
      " 2 - ['SaleType_New', 'BsmtFullBath']\n",
      " 1 - ['SaleType_New', 'BsmtUnfSF']\n",
      " 1 - ['SaleType_New', 'Electrical_SBrkr']\n",
      " 1 - ['SaleType_New', 'Exterior1st_VinylSd']\n",
      " 8 - ['SaleType_New', 'Fireplaces']\n",
      " 1 - ['SaleType_New', 'GarageCond']\n",
      " 1 - ['SaleType_New', 'GarageType_Detchd']\n",
      " 5 - ['SaleType_New', 'GrLivArea']\n",
      " 1 - ['SaleType_New', 'LotShape_IR1']\n",
      " 8 - ['SaleType_New', 'MasVnrArea']\n",
      " 2 - ['SaleType_New', 'MasVnrType_None']\n",
      " 1 - ['SaleType_New', 'RoofStyle_Gable']\n",
      " 1 - ['SaleType_New', 'YearBuilt']\n",
      " 2 - ['SaleType_New', 'YearRemodAdd']\n",
      " 2 - ['SaleType_WD', 'Fireplaces']\n",
      " 1 - ['SaleType_WD', 'MasVnrType_None']\n",
      " 1 - ['ScreenPorch', 'BsmtQual']\n",
      " 3 - ['ScreenPorch', 'Foundation_PConc']\n",
      " 1 - ['ScreenPorch', 'GarageType_Detchd']\n",
      " 6 - ['TotRmsAbvGrd', 'BsmtFullBath']\n",
      " 41 - ['TotRmsAbvGrd', 'BsmtQual']\n",
      " 13 - ['TotRmsAbvGrd', 'CentralAir_Y']\n",
      " 5 - ['TotRmsAbvGrd', 'Electrical_SBrkr']\n",
      " 54 - ['TotRmsAbvGrd', 'ExterQual']\n",
      " 4 - ['TotRmsAbvGrd', 'Exterior1st_VinylSd']\n",
      " 25 - ['TotRmsAbvGrd', 'Fireplaces']\n",
      " 29 - ['TotRmsAbvGrd', 'Foundation_PConc']\n",
      " 11 - ['TotRmsAbvGrd', 'GarageCond']\n",
      " 9 - ['TotRmsAbvGrd', 'GarageFinish_RFn']\n",
      " 10 - ['TotRmsAbvGrd', 'GarageType_Detchd']\n",
      " 3 - ['TotRmsAbvGrd', 'KitchenAbvGr']\n",
      " 49 - ['TotRmsAbvGrd', 'KitchenQual']\n",
      " 2 - ['TotRmsAbvGrd', 'LotShape_IR1']\n",
      " 13 - ['TotRmsAbvGrd', 'MasVnrArea']\n",
      " 9 - ['TotRmsAbvGrd', 'MasVnrType_None']\n",
      " 1 - ['TotRmsAbvGrd', 'Neighborhood_BrkSide']\n",
      " 4 - ['TotRmsAbvGrd', 'SaleCondition_Partial']\n",
      " 4 - ['TotRmsAbvGrd', 'SaleType_New']\n",
      " 41 - ['TotRmsAbvGrd', 'YearBuilt']\n",
      " 16 - ['TotRmsAbvGrd', 'YearRemodAdd']\n",
      " 65 - ['TotalBsmtSF', '2ndFlrSF']\n",
      " 6 - ['TotalBsmtSF', 'BedroomAbvGr']\n",
      " 10 - ['TotalBsmtSF', 'BsmtFinSF1']\n",
      " 5 - ['TotalBsmtSF', 'BsmtFinType1_GLQ']\n",
      " 65 - ['TotalBsmtSF', 'BsmtQual']\n",
      " 5 - ['TotalBsmtSF', 'CentralAir_N']\n",
      " 5 - ['TotalBsmtSF', 'CentralAir_Y']\n",
      " 1 - ['TotalBsmtSF', 'Electrical_SBrkr']\n",
      " 100 - ['TotalBsmtSF', 'ExterQual']\n",
      " 3 - ['TotalBsmtSF', 'Exterior1st_VinylSd']\n",
      " 4 - ['TotalBsmtSF', 'Exterior2nd_VinylSd']\n",
      " 19 - ['TotalBsmtSF', 'Fireplaces']\n",
      " 15 - ['TotalBsmtSF', 'Foundation_CBlock']\n",
      " 35 - ['TotalBsmtSF', 'Foundation_PConc']\n",
      " 9 - ['TotalBsmtSF', 'FullBath']\n",
      " 51 - ['TotalBsmtSF', 'GarageCars']\n",
      " 9 - ['TotalBsmtSF', 'GarageCond']\n",
      " 4 - ['TotalBsmtSF', 'GarageFinish_Fin']\n",
      " 4 - ['TotalBsmtSF', 'GarageFinish_Unf']\n",
      " 3 - ['TotalBsmtSF', 'GarageQual']\n",
      " 1 - ['TotalBsmtSF', 'GarageType_Attchd']\n",
      " 1 - ['TotalBsmtSF', 'GarageType_BuiltIn']\n",
      " 71 - ['TotalBsmtSF', 'GarageYrBlt']\n",
      " 96 - ['TotalBsmtSF', 'GrLivArea']\n",
      " 40 - ['TotalBsmtSF', 'HalfBath']\n",
      " 9 - ['TotalBsmtSF', 'HeatingQC']\n",
      " 4 - ['TotalBsmtSF', 'HouseStyle_1Story']\n",
      " 31 - ['TotalBsmtSF', 'HouseStyle_2Story']\n",
      " 83 - ['TotalBsmtSF', 'KitchenQual']\n",
      " 9 - ['TotalBsmtSF', 'LotArea']\n",
      " 14 - ['TotalBsmtSF', 'LotFrontage']\n",
      " 24 - ['TotalBsmtSF', 'MSSubClass']\n",
      " 1 - ['TotalBsmtSF', 'MSZoning_RL']\n",
      " 1 - ['TotalBsmtSF', 'MSZoning_RM']\n",
      " 14 - ['TotalBsmtSF', 'MasVnrArea']\n",
      " 8 - ['TotalBsmtSF', 'OpenPorchSF']\n",
      " 6 - ['TotalBsmtSF', 'OverallCond']\n",
      " 36 - ['TotalBsmtSF', 'OverallQual']\n",
      " 2 - ['TotalBsmtSF', 'PavedDrive_N']\n",
      " 3 - ['TotalBsmtSF', 'PavedDrive_Y']\n",
      " 2 - ['TotalBsmtSF', 'RoofStyle_Gable']\n",
      " 39 - ['TotalBsmtSF', 'TotRmsAbvGrd']\n",
      " 2 - ['TotalBsmtSF', 'WoodDeckSF']\n",
      " 89 - ['TotalBsmtSF', 'YearBuilt']\n",
      " 51 - ['TotalBsmtSF', 'YearRemodAdd']\n",
      " 6 - ['WoodDeckSF', '2ndFlrSF']\n",
      " 3 - ['WoodDeckSF', 'BedroomAbvGr']\n",
      " 4 - ['WoodDeckSF', 'BsmtExposure_Gd']\n",
      " 1 - ['WoodDeckSF', 'BsmtExposure_No']\n",
      " 4 - ['WoodDeckSF', 'BsmtFinSF1']\n",
      " 1 - ['WoodDeckSF', 'BsmtQual']\n",
      " 1 - ['WoodDeckSF', 'CentralAir_N']\n",
      " 5 - ['WoodDeckSF', 'CentralAir_Y']\n",
      " 1 - ['WoodDeckSF', 'Electrical_SBrkr']\n",
      " 6 - ['WoodDeckSF', 'ExterQual']\n",
      " 1 - ['WoodDeckSF', 'Exterior1st_VinylSd']\n",
      " 1 - ['WoodDeckSF', 'Exterior2nd_CmentBd']\n",
      " 3 - ['WoodDeckSF', 'Exterior2nd_VinylSd']\n",
      " 8 - ['WoodDeckSF', 'Fireplaces']\n",
      " 2 - ['WoodDeckSF', 'Foundation_CBlock']\n",
      " 11 - ['WoodDeckSF', 'Foundation_PConc']\n",
      " 1 - ['WoodDeckSF', 'GarageCars']\n",
      " 4 - ['WoodDeckSF', 'GarageCond']\n",
      " 2 - ['WoodDeckSF', 'GarageFinish_RFn']\n",
      " 1 - ['WoodDeckSF', 'GarageQual']\n",
      " 7 - ['WoodDeckSF', 'GarageType_Attchd']\n",
      " 1 - ['WoodDeckSF', 'GarageType_BuiltIn']\n",
      " 3 - ['WoodDeckSF', 'GarageType_Detchd']\n",
      " 10 - ['WoodDeckSF', 'GarageYrBlt']\n",
      " 4 - ['WoodDeckSF', 'HalfBath']\n",
      " 7 - ['WoodDeckSF', 'HeatingQC']\n",
      " 1 - ['WoodDeckSF', 'HouseStyle_2Story']\n",
      " 6 - ['WoodDeckSF', 'KitchenQual']\n",
      " 3 - ['WoodDeckSF', 'LotArea']\n",
      " 2 - ['WoodDeckSF', 'LotFrontage']\n",
      " 1 - ['WoodDeckSF', 'LotShape_Reg']\n",
      " 3 - ['WoodDeckSF', 'MSSubClass']\n",
      " 1 - ['WoodDeckSF', 'MSZoning_C (all)']\n",
      " 1 - ['WoodDeckSF', 'MSZoning_RL']\n",
      " 2 - ['WoodDeckSF', 'MSZoning_RM']\n",
      " 2 - ['WoodDeckSF', 'MasVnrArea']\n",
      " 5 - ['WoodDeckSF', 'MasVnrType_None']\n",
      " 2 - ['WoodDeckSF', 'MasVnrType_Stone']\n",
      " 1 - ['WoodDeckSF', 'Neighborhood_IDOTRR']\n",
      " 2 - ['WoodDeckSF', 'Neighborhood_NoRidge']\n",
      " 4 - ['WoodDeckSF', 'Neighborhood_NridgHt']\n",
      " 1 - ['WoodDeckSF', 'OpenPorchSF']\n",
      " 3 - ['WoodDeckSF', 'OverallCond']\n",
      " 2 - ['WoodDeckSF', 'PavedDrive_Y']\n",
      " 2 - ['WoodDeckSF', 'RoofMatl_WdShngl']\n",
      " 1 - ['WoodDeckSF', 'RoofStyle_Hip']\n",
      " 4 - ['WoodDeckSF', 'SaleCondition_Partial']\n",
      " 4 - ['WoodDeckSF', 'SaleType_New']\n",
      " 3 - ['WoodDeckSF', 'SaleType_WD']\n",
      " 6 - ['WoodDeckSF', 'TotRmsAbvGrd']\n",
      " 18 - ['WoodDeckSF', 'YearBuilt']\n",
      " 4 - ['WoodDeckSF', 'YearRemodAdd']\n",
      " 25 - ['YearBuilt', 'BedroomAbvGr']\n",
      " 1 - ['YearBuilt', 'BldgType_Twnhs']\n",
      " 2 - ['YearBuilt', 'BsmtExposure_No']\n",
      " 1 - ['YearBuilt', 'BsmtFinSF2']\n",
      " 2 - ['YearBuilt', 'BsmtFinType1_Unf']\n",
      " 55 - ['YearBuilt', 'BsmtQual']\n",
      " 1 - ['YearBuilt', 'BsmtUnfSF']\n",
      " 3 - ['YearBuilt', 'Electrical_SBrkr']\n",
      " 3 - ['YearBuilt', 'ExterCond']\n",
      " 33 - ['YearBuilt', 'ExterQual']\n",
      " 1 - ['YearBuilt', 'Exterior1st_CemntBd']\n",
      " 96 - ['YearBuilt', 'Fireplaces']\n",
      " 29 - ['YearBuilt', 'GarageCond']\n",
      " 2 - ['YearBuilt', 'GarageType_Detchd']\n",
      " 50 - ['YearBuilt', 'GrLivArea']\n",
      " 2 - ['YearBuilt', 'Heating_Grav']\n",
      " 1 - ['YearBuilt', 'LandContour_HLS']\n",
      " 50 - ['YearBuilt', 'MasVnrArea']\n",
      " 9 - ['YearBuilt', 'MasVnrType_None']\n",
      " 2 - ['YearBuilt', 'Neighborhood_StoneBr']\n",
      " 3 - ['YearBuilt', 'RoofMatl_CompShg']\n",
      " 2 - ['YearBuilt', 'RoofMatl_WdShngl']\n",
      " 31 - ['YearBuilt', 'RoofStyle_Gable']\n",
      " 2 - ['YearBuilt', 'ScreenPorch']\n",
      " 21 - ['YearBuilt', 'YearRemodAdd']\n",
      " 17 - ['YearRemodAdd', 'BedroomAbvGr']\n",
      " 1 - ['YearRemodAdd', 'BsmtExposure_No']\n",
      " 36 - ['YearRemodAdd', 'BsmtQual']\n",
      " 1 - ['YearRemodAdd', 'ExterCond']\n",
      " 39 - ['YearRemodAdd', 'ExterQual']\n",
      " 43 - ['YearRemodAdd', 'Fireplaces']\n",
      " 2 - ['YearRemodAdd', 'Foundation_BrkTil']\n",
      " 18 - ['YearRemodAdd', 'Foundation_PConc']\n",
      " 15 - ['YearRemodAdd', 'GarageCond']\n",
      " 1 - ['YearRemodAdd', 'GarageFinish_RFn']\n",
      " 1 - ['YearRemodAdd', 'LotShape_IR1']\n",
      " 33 - ['YearRemodAdd', 'MasVnrArea']\n",
      " 13 - ['YearRemodAdd', 'MasVnrType_None']\n",
      " 1 - ['YearRemodAdd', 'RoofMatl_CompShg']\n",
      " 1 - ['YearRemodAdd', 'RoofStyle_Gable']\n",
      " 3 - ['YearRemodAdd', 'SaleCondition_Partial']\n",
      " 1 - ['YearRemodAdd', 'SaleType_WD']\n"
     ]
    }
   ],
   "source": [
    "print(\"\\n\".join(interaction_count))"
   ]
  },
  {
   "cell_type": "markdown",
   "metadata": {},
   "source": [
    "----------------------------------------------------------------------------------------------------------------------\n",
    "## Dataset Expanded with Best 10 Interactions\n",
    "----------------------------------------------------------------------------------------------------------------------"
   ]
  },
  {
   "cell_type": "markdown",
   "metadata": {},
   "source": [
    "### Feature engineering"
   ]
  },
  {
   "cell_type": "code",
   "execution_count": 36,
   "metadata": {},
   "outputs": [],
   "source": [
    "X['ExterQual_GarageCars'] = X['ExterQual'] * X['GarageCars']\n",
    "X['GrLivArea_YearBuilt'] = X['GrLivArea'] * X['YearBuilt']\n",
    "X['GrLivArea_OverallQual'] = X['GrLivArea'] * X['OverallQual']\n",
    "X['GrLivArea_KitchenQual'] = X['GrLivArea'] * X['KitchenQual']\n",
    "X['ExterQual_TotalBsmtSF'] = X['ExterQual'] * X['TotalBsmtSF']\n",
    "X['BsmtQual_GrLivArea'] = X['BsmtQual'] * X['GrLivArea']\n",
    "X['GrLivArea_GarageCars'] = X['GrLivArea'] * X['GarageCars']\n",
    "X['TotalBsmtSF_YearBuilt'] = X['TotalBsmtSF'] * X['YearBuilt']\n",
    "X['Fireplaces_YearBuilt'] = X['Fireplaces'] * X['YearBuilt']\n",
    "X['KitchenQual_GarageCars'] = X['KitchenQual'] * X['GarageCars']"
   ]
  },
  {
   "cell_type": "markdown",
   "metadata": {},
   "source": [
    "### Models"
   ]
  },
  {
   "cell_type": "markdown",
   "metadata": {},
   "source": [
    "#### Linear Regression"
   ]
  },
  {
   "cell_type": "code",
   "execution_count": 37,
   "metadata": {},
   "outputs": [],
   "source": [
    "param_grid = {'f_regression__k':[20,50,80,100,120,150,200,239,244]}"
   ]
  },
  {
   "cell_type": "code",
   "execution_count": 38,
   "metadata": {},
   "outputs": [
    {
     "name": "stdout",
     "output_type": "stream",
     "text": [
      "{'f_regression__k': 200}\n"
     ]
    }
   ],
   "source": [
    "pipe_lr = Pipeline([('f_regression', SelectKBest(f_regression)), ('lr', LinearRegression())])\n",
    "grid = GridSearchCV(pipe_lr, param_grid = param_grid, cv = 10)\n",
    "grid.fit(X,y)\n",
    "print(grid.best_params_)"
   ]
  },
  {
   "cell_type": "markdown",
   "metadata": {},
   "source": [
    "##### Best params"
   ]
  },
  {
   "cell_type": "code",
   "execution_count": 39,
   "metadata": {},
   "outputs": [
    {
     "name": "stdout",
     "output_type": "stream",
     "text": [
      "{'fit_time': 0.0949, 'score_time': 0.0035, 'test_rmsle': 0.1155, 'test_r2': 0.9154}\n"
     ]
    }
   ],
   "source": [
    "pipe_lr = Pipeline([('f_regression', SelectKBest(k=200)), ('lr', LinearRegression())])\n",
    "cv_scores = cross_validate(pipe_lr, X, y, scoring = scoring, cv = 10)\n",
    "print(score_to_stats(cv_scores))"
   ]
  },
  {
   "cell_type": "markdown",
   "metadata": {},
   "source": [
    "#### Ridge"
   ]
  },
  {
   "cell_type": "code",
   "execution_count": 40,
   "metadata": {},
   "outputs": [],
   "source": [
    "param_grid = {'alpha':[0.01,0,0.1,1,5,10,20,100]}"
   ]
  },
  {
   "cell_type": "code",
   "execution_count": 41,
   "metadata": {},
   "outputs": [
    {
     "name": "stdout",
     "output_type": "stream",
     "text": [
      "{'alpha': 10}\n"
     ]
    }
   ],
   "source": [
    "rid = Ridge()\n",
    "grid = GridSearchCV(rid, param_grid = param_grid, cv = 10)\n",
    "grid.fit(X,y)\n",
    "print(grid.best_params_)"
   ]
  },
  {
   "cell_type": "markdown",
   "metadata": {},
   "source": [
    "##### Best params"
   ]
  },
  {
   "cell_type": "code",
   "execution_count": 42,
   "metadata": {},
   "outputs": [
    {
     "name": "stdout",
     "output_type": "stream",
     "text": [
      "{'fit_time': 0.0137, 'score_time': 0.0031, 'test_rmsle': 0.1114, 'test_r2': 0.9212}\n"
     ]
    }
   ],
   "source": [
    "rid = Ridge(alpha = 10)\n",
    "cv_scores = cross_validate(rid, X, y, scoring = scoring, cv = 10)\n",
    "print(score_to_stats(cv_scores))"
   ]
  },
  {
   "cell_type": "markdown",
   "metadata": {},
   "source": [
    "#### Lasso"
   ]
  },
  {
   "cell_type": "code",
   "execution_count": 43,
   "metadata": {},
   "outputs": [],
   "source": [
    "param_grid = {'alpha':[0.01,0,0.1,1,5,10,20,100]}"
   ]
  },
  {
   "cell_type": "code",
   "execution_count": 44,
   "metadata": {},
   "outputs": [
    {
     "name": "stdout",
     "output_type": "stream",
     "text": [
      "{'alpha': 0}\n"
     ]
    }
   ],
   "source": [
    "lasso = Lasso()\n",
    "grid = GridSearchCV(lasso, param_grid = param_grid, cv = 10)\n",
    "grid.fit(X,y)\n",
    "print(grid.best_params_)"
   ]
  },
  {
   "cell_type": "markdown",
   "metadata": {},
   "source": [
    "##### Best params"
   ]
  },
  {
   "cell_type": "code",
   "execution_count": 45,
   "metadata": {},
   "outputs": [
    {
     "name": "stdout",
     "output_type": "stream",
     "text": [
      "{'fit_time': 0.3807, 'score_time': 0.0047, 'test_rmsle': 0.119, 'test_r2': 0.9103}\n"
     ]
    }
   ],
   "source": [
    "lasso = Lasso(alpha = 0)\n",
    "cv_scores = cross_validate(lasso, X, y, scoring = scoring, cv = 10)\n",
    "print(score_to_stats(cv_scores))"
   ]
  },
  {
   "cell_type": "markdown",
   "metadata": {},
   "source": [
    "#### ElasticNet"
   ]
  },
  {
   "cell_type": "code",
   "execution_count": 46,
   "metadata": {},
   "outputs": [],
   "source": [
    "param_grid = {'alpha':[0.01,0.1,1,5,10,20,100],\n",
    "              'l1_ratio':[0,0.01,0.1,0.5,0.8,1]}"
   ]
  },
  {
   "cell_type": "code",
   "execution_count": 47,
   "metadata": {},
   "outputs": [
    {
     "name": "stdout",
     "output_type": "stream",
     "text": [
      "{'alpha': 0.01, 'l1_ratio': 0.01}\n"
     ]
    }
   ],
   "source": [
    "enet = ElasticNet()\n",
    "grid = GridSearchCV(enet, param_grid = param_grid, cv = 10)\n",
    "grid.fit(X,y)\n",
    "print(grid.best_params_)"
   ]
  },
  {
   "cell_type": "markdown",
   "metadata": {},
   "source": [
    "##### Best params"
   ]
  },
  {
   "cell_type": "code",
   "execution_count": 48,
   "metadata": {},
   "outputs": [
    {
     "name": "stdout",
     "output_type": "stream",
     "text": [
      "{'fit_time': 0.3402, 'score_time': 0.0033, 'test_rmsle': 0.1114, 'test_r2': 0.9213}\n"
     ]
    }
   ],
   "source": [
    "enet = ElasticNet(alpha = 0.01, l1_ratio = 0.01)\n",
    "cv_scores = cross_validate(enet, X, y, scoring = scoring, cv = 10)\n",
    "print(score_to_stats(cv_scores))"
   ]
  },
  {
   "cell_type": "markdown",
   "metadata": {},
   "source": [
    "#### Xgboost"
   ]
  },
  {
   "cell_type": "code",
   "execution_count": 49,
   "metadata": {},
   "outputs": [
    {
     "name": "stdout",
     "output_type": "stream",
     "text": [
      "[00:16:40] WARNING: C:/Jenkins/workspace/xgboost-win64_release_0.90/src/objective/regression_obj.cu:152: reg:linear is now deprecated in favor of reg:squarederror.\n",
      "[00:16:43] WARNING: C:/Jenkins/workspace/xgboost-win64_release_0.90/src/objective/regression_obj.cu:152: reg:linear is now deprecated in favor of reg:squarederror.\n",
      "[00:16:44] WARNING: C:/Jenkins/workspace/xgboost-win64_release_0.90/src/objective/regression_obj.cu:152: reg:linear is now deprecated in favor of reg:squarederror.\n",
      "[00:16:46] WARNING: C:/Jenkins/workspace/xgboost-win64_release_0.90/src/objective/regression_obj.cu:152: reg:linear is now deprecated in favor of reg:squarederror.\n",
      "[00:16:48] WARNING: C:/Jenkins/workspace/xgboost-win64_release_0.90/src/objective/regression_obj.cu:152: reg:linear is now deprecated in favor of reg:squarederror.\n",
      "[00:16:50] WARNING: C:/Jenkins/workspace/xgboost-win64_release_0.90/src/objective/regression_obj.cu:152: reg:linear is now deprecated in favor of reg:squarederror.\n",
      "[00:16:52] WARNING: C:/Jenkins/workspace/xgboost-win64_release_0.90/src/objective/regression_obj.cu:152: reg:linear is now deprecated in favor of reg:squarederror.\n",
      "[00:16:53] WARNING: C:/Jenkins/workspace/xgboost-win64_release_0.90/src/objective/regression_obj.cu:152: reg:linear is now deprecated in favor of reg:squarederror.\n",
      "[00:16:55] WARNING: C:/Jenkins/workspace/xgboost-win64_release_0.90/src/objective/regression_obj.cu:152: reg:linear is now deprecated in favor of reg:squarederror.\n",
      "[00:16:56] WARNING: C:/Jenkins/workspace/xgboost-win64_release_0.90/src/objective/regression_obj.cu:152: reg:linear is now deprecated in favor of reg:squarederror.\n",
      "{'fit_time': 1.8179, 'score_time': 0.0113, 'test_rmsle': 0.1229, 'test_r2': 0.9038}\n"
     ]
    }
   ],
   "source": [
    "xgboost = XGBRegressor(eta = 0.01, subsample = 0.5)\n",
    "cv_scores = cross_validate(xgboost, X, y, scoring = scoring, cv = 10)\n",
    "print(score_to_stats(cv_scores))"
   ]
  },
  {
   "cell_type": "markdown",
   "metadata": {},
   "source": [
    "#### RandomForest"
   ]
  },
  {
   "cell_type": "code",
   "execution_count": 50,
   "metadata": {},
   "outputs": [
    {
     "name": "stdout",
     "output_type": "stream",
     "text": [
      "{'fit_time': 5.9269, 'score_time': 0.0307, 'test_rmsle': 0.1297, 'test_r2': 0.8931}\n"
     ]
    }
   ],
   "source": [
    "rf = RandomForestRegressor(max_depth=20, min_samples_leaf = 1, n_estimators = 150)\n",
    "cv_scores = cross_validate(rf, X, y, scoring = scoring, cv = 10)\n",
    "print(score_to_stats(cv_scores))"
   ]
  },
  {
   "cell_type": "markdown",
   "metadata": {},
   "source": [
    "----------------------------------------------------------------------------------------------------------------------\n",
    "## Dataset Expanded with Best 25 Interactions\n",
    "----------------------------------------------------------------------------------------------------------------------"
   ]
  },
  {
   "cell_type": "code",
   "execution_count": 51,
   "metadata": {},
   "outputs": [],
   "source": [
    "X = df_train.drop('SalePrice_log', axis = 1)\n",
    "y = df_train['SalePrice_log']"
   ]
  },
  {
   "cell_type": "markdown",
   "metadata": {},
   "source": [
    "### Feature engineering"
   ]
  },
  {
   "cell_type": "code",
   "execution_count": 52,
   "metadata": {},
   "outputs": [],
   "source": [
    "X['ExterQual_GarageCars'] = X['ExterQual'] * X['GarageCars']\n",
    "X['GrLivArea_YearBuilt'] = X['GrLivArea'] * X['YearBuilt']\n",
    "X['GrLivArea_OverallQual'] = X['GrLivArea'] * X['OverallQual']\n",
    "X['GrLivArea_KitchenQual'] = X['GrLivArea'] * X['KitchenQual']\n",
    "X['ExterQual_TotalBsmtSF'] = X['ExterQual'] * X['TotalBsmtSF']\n",
    "X['BsmtQual_GrLivArea'] = X['BsmtQual'] * X['GrLivArea']\n",
    "X['GrLivArea_GarageCars'] = X['GrLivArea'] * X['GarageCars']\n",
    "X['TotalBsmtSF_YearBuilt'] = X['TotalBsmtSF'] * X['YearBuilt']\n",
    "X['Fireplaces_YearBuilt'] = X['Fireplaces'] * X['YearBuilt']\n",
    "X['KitchenQual_GarageCars'] = X['KitchenQual'] * X['GarageCars']\n",
    "X['GarageCars_YearBuilt'] = X['GarageCars'] * X['YearBuilt']\n",
    "X['ExterQual_GrLivArea'] = X['ExterQual'] * X['GrLivArea']\n",
    "X['KitchenQual_TotalBsmtSF'] = X['KitchenQual'] * X['TotalBsmtSF']\n",
    "X['OverallQual_GarageCars'] = X['OverallQual'] * X['GarageCars']\n",
    "X['BsmtQual_ExterQual'] = X['BsmtQual'] * X['ExterQual']\n",
    "X['ExterQual_LotArea'] = X['ExterQual'] * X['LotArea']\n",
    "X['LotArea_YearBuilt'] = X['LotArea'] * X['YearBuilt']\n",
    "X['ExterQual_Fireplaces'] = X['ExterQual'] * X['Fireplaces']\n",
    "X['GrLivArea_TotalBsmtSF'] = X['GrLivArea'] * X['TotalBsmtSF']\n",
    "X['BsmtQual_TotalBsmtSF'] = X['BsmtQual'] * X['TotalBsmtSF']\n",
    "X['GrLivArea_YearRemodAdd'] = X['GrLivArea'] * X['YearRemodAdd']\n",
    "X['BsmtQual_Fireplaces'] = X['BsmtQual'] * X['Fireplaces']\n",
    "X['BsmtQual_KitchenQual'] = X['BsmtQual'] * X['KitchenQual']\n",
    "X['KitchenQual_YearBuilt'] = X['KitchenQual'] * X['YearBuilt']\n",
    "X['BsmtQual_GarageCars'] = X['BsmtQual'] * X['GarageCars']"
   ]
  },
  {
   "cell_type": "markdown",
   "metadata": {},
   "source": [
    "### Models"
   ]
  },
  {
   "cell_type": "markdown",
   "metadata": {},
   "source": [
    "#### Linear Regression"
   ]
  },
  {
   "cell_type": "code",
   "execution_count": 53,
   "metadata": {},
   "outputs": [],
   "source": [
    "param_grid = {'f_regression__k':[20,50,80,100,120,150,200,239,244,264]}"
   ]
  },
  {
   "cell_type": "code",
   "execution_count": 54,
   "metadata": {},
   "outputs": [
    {
     "name": "stdout",
     "output_type": "stream",
     "text": [
      "{'f_regression__k': 150}\n"
     ]
    }
   ],
   "source": [
    "pipe_lr = Pipeline([('f_regression', SelectKBest(f_regression)), ('lr', LinearRegression())])\n",
    "grid = GridSearchCV(pipe_lr, param_grid = param_grid, cv = 10)\n",
    "grid.fit(X,y)\n",
    "print(grid.best_params_)"
   ]
  },
  {
   "cell_type": "markdown",
   "metadata": {},
   "source": [
    "##### Best params"
   ]
  },
  {
   "cell_type": "code",
   "execution_count": 55,
   "metadata": {},
   "outputs": [
    {
     "name": "stdout",
     "output_type": "stream",
     "text": [
      "{'fit_time': 0.1146, 'score_time': 0.0056, 'test_rmsle': 0.1151, 'test_r2': 0.916}\n"
     ]
    }
   ],
   "source": [
    "pipe_lr = Pipeline([('f_regression', SelectKBest(k=200)), ('lr', LinearRegression())])\n",
    "cv_scores = cross_validate(pipe_lr, X, y, scoring = scoring, cv = 10)\n",
    "print(score_to_stats(cv_scores))"
   ]
  },
  {
   "cell_type": "markdown",
   "metadata": {},
   "source": [
    "#### Ridge"
   ]
  },
  {
   "cell_type": "code",
   "execution_count": 56,
   "metadata": {},
   "outputs": [],
   "source": [
    "param_grid = {'alpha':[0.01,0,0.1,1,5,10,20,100]}"
   ]
  },
  {
   "cell_type": "code",
   "execution_count": 57,
   "metadata": {},
   "outputs": [
    {
     "name": "stdout",
     "output_type": "stream",
     "text": [
      "{'alpha': 10}\n"
     ]
    }
   ],
   "source": [
    "rid = Ridge()\n",
    "grid = GridSearchCV(rid, param_grid = param_grid, cv = 10)\n",
    "grid.fit(X,y)\n",
    "print(grid.best_params_)"
   ]
  },
  {
   "cell_type": "markdown",
   "metadata": {},
   "source": [
    "##### Best params"
   ]
  },
  {
   "cell_type": "code",
   "execution_count": 58,
   "metadata": {},
   "outputs": [
    {
     "name": "stdout",
     "output_type": "stream",
     "text": [
      "{'fit_time': 0.0143, 'score_time': 0.003, 'test_rmsle': 0.1125, 'test_r2': 0.9198}\n"
     ]
    }
   ],
   "source": [
    "rid = Ridge(alpha = 10)\n",
    "cv_scores = cross_validate(rid, X, y, scoring = scoring, cv = 10)\n",
    "print(score_to_stats(cv_scores))"
   ]
  },
  {
   "cell_type": "markdown",
   "metadata": {},
   "source": [
    "#### Lasso"
   ]
  },
  {
   "cell_type": "code",
   "execution_count": 59,
   "metadata": {},
   "outputs": [],
   "source": [
    "param_grid = {'alpha':[0.01,0,0.1,1,5,10,20,100]}"
   ]
  },
  {
   "cell_type": "code",
   "execution_count": 60,
   "metadata": {},
   "outputs": [
    {
     "name": "stdout",
     "output_type": "stream",
     "text": [
      "{'alpha': 0}\n"
     ]
    }
   ],
   "source": [
    "lasso = Lasso()\n",
    "grid = GridSearchCV(lasso, param_grid = param_grid, cv = 10)\n",
    "grid.fit(X,y)\n",
    "print(grid.best_params_)"
   ]
  },
  {
   "cell_type": "markdown",
   "metadata": {},
   "source": [
    "##### Best params"
   ]
  },
  {
   "cell_type": "code",
   "execution_count": 61,
   "metadata": {},
   "outputs": [
    {
     "name": "stdout",
     "output_type": "stream",
     "text": [
      "{'fit_time': 0.6152, 'score_time': 0.0151, 'test_rmsle': 0.1193, 'test_r2': 0.9099}\n"
     ]
    }
   ],
   "source": [
    "lasso = Lasso(alpha = 0)\n",
    "cv_scores = cross_validate(lasso, X, y, scoring = scoring, cv = 10)\n",
    "print(score_to_stats(cv_scores))"
   ]
  },
  {
   "cell_type": "markdown",
   "metadata": {},
   "source": [
    "#### Elastic Net"
   ]
  },
  {
   "cell_type": "code",
   "execution_count": 62,
   "metadata": {},
   "outputs": [],
   "source": [
    "param_grid = {'alpha':[0.01,0.1,1,5,10,20,100],\n",
    "              'l1_ratio':[0,0.01,0.1,0.5,0.8,1]}"
   ]
  },
  {
   "cell_type": "code",
   "execution_count": 63,
   "metadata": {},
   "outputs": [
    {
     "name": "stdout",
     "output_type": "stream",
     "text": [
      "{'alpha': 0.01, 'l1_ratio': 0.01}\n"
     ]
    }
   ],
   "source": [
    "enet = ElasticNet()\n",
    "grid = GridSearchCV(enet, param_grid = param_grid, cv = 10)\n",
    "grid.fit(X,y)\n",
    "print(grid.best_params_)"
   ]
  },
  {
   "cell_type": "markdown",
   "metadata": {},
   "source": [
    "##### Best params"
   ]
  },
  {
   "cell_type": "code",
   "execution_count": 64,
   "metadata": {},
   "outputs": [
    {
     "name": "stdout",
     "output_type": "stream",
     "text": [
      "{'fit_time': 0.3654, 'score_time': 0.0037, 'test_rmsle': 0.1117, 'test_r2': 0.9209}\n"
     ]
    }
   ],
   "source": [
    "enet = ElasticNet(alpha = 0.01, l1_ratio = 0.01)\n",
    "cv_scores = cross_validate(enet, X, y, scoring = scoring, cv = 10)\n",
    "print(score_to_stats(cv_scores))"
   ]
  },
  {
   "cell_type": "markdown",
   "metadata": {},
   "source": [
    "#### XGBOOST"
   ]
  },
  {
   "cell_type": "code",
   "execution_count": 65,
   "metadata": {},
   "outputs": [
    {
     "name": "stdout",
     "output_type": "stream",
     "text": [
      "[00:21:13] WARNING: C:/Jenkins/workspace/xgboost-win64_release_0.90/src/objective/regression_obj.cu:152: reg:linear is now deprecated in favor of reg:squarederror.\n",
      "[00:21:15] WARNING: C:/Jenkins/workspace/xgboost-win64_release_0.90/src/objective/regression_obj.cu:152: reg:linear is now deprecated in favor of reg:squarederror.\n",
      "[00:21:16] WARNING: C:/Jenkins/workspace/xgboost-win64_release_0.90/src/objective/regression_obj.cu:152: reg:linear is now deprecated in favor of reg:squarederror.\n",
      "[00:21:18] WARNING: C:/Jenkins/workspace/xgboost-win64_release_0.90/src/objective/regression_obj.cu:152: reg:linear is now deprecated in favor of reg:squarederror.\n",
      "[00:21:19] WARNING: C:/Jenkins/workspace/xgboost-win64_release_0.90/src/objective/regression_obj.cu:152: reg:linear is now deprecated in favor of reg:squarederror.\n",
      "[00:21:21] WARNING: C:/Jenkins/workspace/xgboost-win64_release_0.90/src/objective/regression_obj.cu:152: reg:linear is now deprecated in favor of reg:squarederror.\n",
      "[00:21:23] WARNING: C:/Jenkins/workspace/xgboost-win64_release_0.90/src/objective/regression_obj.cu:152: reg:linear is now deprecated in favor of reg:squarederror.\n",
      "[00:21:24] WARNING: C:/Jenkins/workspace/xgboost-win64_release_0.90/src/objective/regression_obj.cu:152: reg:linear is now deprecated in favor of reg:squarederror.\n",
      "[00:21:26] WARNING: C:/Jenkins/workspace/xgboost-win64_release_0.90/src/objective/regression_obj.cu:152: reg:linear is now deprecated in favor of reg:squarederror.\n",
      "[00:21:27] WARNING: C:/Jenkins/workspace/xgboost-win64_release_0.90/src/objective/regression_obj.cu:152: reg:linear is now deprecated in favor of reg:squarederror.\n",
      "{'fit_time': 1.6094, 'score_time': 0.0121, 'test_rmsle': 0.1231, 'test_r2': 0.9032}\n"
     ]
    }
   ],
   "source": [
    "xgboost = XGBRegressor(eta = 0.01, subsample = 0.5)\n",
    "cv_scores = cross_validate(xgboost, X, y, scoring = scoring, cv = 10)\n",
    "print(score_to_stats(cv_scores))"
   ]
  },
  {
   "cell_type": "markdown",
   "metadata": {},
   "source": [
    "#### Random Forest Regressor"
   ]
  },
  {
   "cell_type": "code",
   "execution_count": 66,
   "metadata": {},
   "outputs": [
    {
     "name": "stdout",
     "output_type": "stream",
     "text": [
      "{'fit_time': 7.185, 'score_time': 0.0295, 'test_rmsle': 0.1293, 'test_r2': 0.894}\n"
     ]
    }
   ],
   "source": [
    "rf = RandomForestRegressor(max_depth=20, min_samples_leaf = 1, n_estimators = 150)\n",
    "cv_scores = cross_validate(rf, X, y, scoring = scoring, cv = 10)\n",
    "print(score_to_stats(cv_scores))"
   ]
  },
  {
   "cell_type": "markdown",
   "metadata": {},
   "source": [
    "----------------------------------------------------------------------------------------------------------------------\n",
    "## Dataset Expanded with Best 10 + Best 10 Categorical Interactions\n",
    "----------------------------------------------------------------------------------------------------------------------"
   ]
  },
  {
   "cell_type": "code",
   "execution_count": 68,
   "metadata": {},
   "outputs": [],
   "source": [
    "X = df_train.drop('SalePrice_log', axis = 1)\n",
    "y = df_train['SalePrice_log']"
   ]
  },
  {
   "cell_type": "markdown",
   "metadata": {},
   "source": [
    "### Feature Engineering"
   ]
  },
  {
   "cell_type": "code",
   "execution_count": 69,
   "metadata": {},
   "outputs": [],
   "source": [
    "# BEST 10\n",
    "X['ExterQual_GarageCars'] = X['ExterQual'] * X['GarageCars']\n",
    "X['GrLivArea_YearBuilt'] = X['GrLivArea'] * X['YearBuilt']\n",
    "X['GrLivArea_OverallQual'] = X['GrLivArea'] * X['OverallQual']\n",
    "X['GrLivArea_KitchenQual'] = X['GrLivArea'] * X['KitchenQual']\n",
    "X['ExterQual_TotalBsmtSF'] = X['ExterQual'] * X['TotalBsmtSF']\n",
    "X['BsmtQual_GrLivArea'] = X['BsmtQual'] * X['GrLivArea']\n",
    "X['GrLivArea_GarageCars'] = X['GrLivArea'] * X['GarageCars']\n",
    "X['TotalBsmtSF_YearBuilt'] = X['TotalBsmtSF'] * X['YearBuilt']\n",
    "X['Fireplaces_YearBuilt'] = X['Fireplaces'] * X['YearBuilt']\n",
    "X['KitchenQual_GarageCars'] = X['KitchenQual'] * X['GarageCars']"
   ]
  },
  {
   "cell_type": "code",
   "execution_count": 70,
   "metadata": {},
   "outputs": [],
   "source": [
    "# BEST 10 CATEGORICAL\n",
    "X['Foundation_PConc_GarageType_Attchd'] = X['Foundation_PConc'] * X['GarageType_Attchd']\n",
    "X['GarageFinish_Unf_Foundation_PConc'] = X['GarageFinish_Unf'] * X['Foundation_PConc']\n",
    "X['MasVnrType_None_Foundation_PConc'] = X['MasVnrType_None'] * X['Foundation_PConc']\n",
    "X['Foundation_PConc_MSZoning_RL'] = X['Foundation_PConc'] * X['MSZoning_RL']\n",
    "X['Foundation_PConc_CentralAir_N'] = X['Foundation_PConc'] * X['CentralAir_N']\n",
    "X['CentralAir_Y_Foundation_PConc'] = X['CentralAir_Y'] * X['Foundation_PConc']\n",
    "X['GarageFinish_Fin_GarageType_Attchd'] = X['GarageFinish_Fin'] * X['GarageType_Attchd']\n",
    "X['Foundation_CBlock_GarageType_Attchd'] = X['Foundation_CBlock'] * X['GarageType_Attchd']\n",
    "X['GarageFinish_Fin_GarageFinish_RFn'] = X['GarageFinish_Fin'] * X['GarageFinish_RFn']\n",
    "X['BsmtFinType1_GLQ_GarageFinish_Unf'] = X['BsmtFinType1_GLQ'] * X['GarageFinish_Unf']"
   ]
  },
  {
   "cell_type": "markdown",
   "metadata": {},
   "source": [
    "### Models"
   ]
  },
  {
   "cell_type": "markdown",
   "metadata": {},
   "source": [
    "#### Linear Regression"
   ]
  },
  {
   "cell_type": "code",
   "execution_count": 71,
   "metadata": {},
   "outputs": [
    {
     "name": "stdout",
     "output_type": "stream",
     "text": [
      "{'fit_time': 0.2027, 'score_time': 0.0129, 'test_rmsle': 0.1144, 'test_r2': 0.917}\n"
     ]
    }
   ],
   "source": [
    "pipe_lr = Pipeline([('f_regression', SelectKBest(k=200)), ('lr', LinearRegression())])\n",
    "cv_scores = cross_validate(pipe_lr, X, y, scoring = scoring, cv = 10)\n",
    "print(score_to_stats(cv_scores))"
   ]
  },
  {
   "cell_type": "markdown",
   "metadata": {},
   "source": [
    "#### Ridge"
   ]
  },
  {
   "cell_type": "code",
   "execution_count": 72,
   "metadata": {},
   "outputs": [],
   "source": [
    "param_grid = {'alpha':[0.01,0,0.1,1,5,10,20,100]}"
   ]
  },
  {
   "cell_type": "code",
   "execution_count": 73,
   "metadata": {},
   "outputs": [
    {
     "name": "stdout",
     "output_type": "stream",
     "text": [
      "{'alpha': 10}\n"
     ]
    }
   ],
   "source": [
    "rid = Ridge()\n",
    "grid = GridSearchCV(rid, param_grid = param_grid, cv = 10)\n",
    "grid.fit(X,y)\n",
    "print(grid.best_params_)"
   ]
  },
  {
   "cell_type": "markdown",
   "metadata": {},
   "source": [
    "##### Best pamars"
   ]
  },
  {
   "cell_type": "code",
   "execution_count": 74,
   "metadata": {},
   "outputs": [
    {
     "name": "stdout",
     "output_type": "stream",
     "text": [
      "{'fit_time': 0.0151, 'score_time': 0.0038, 'test_rmsle': 0.1107, 'test_r2': 0.9222}\n"
     ]
    }
   ],
   "source": [
    "rid = Ridge(alpha = 10)\n",
    "cv_scores = cross_validate(rid, X, y, scoring = scoring, cv = 10)\n",
    "print(score_to_stats(cv_scores))"
   ]
  },
  {
   "cell_type": "markdown",
   "metadata": {},
   "source": [
    "#### Lasso"
   ]
  },
  {
   "cell_type": "code",
   "execution_count": 75,
   "metadata": {},
   "outputs": [],
   "source": [
    "param_grid = {'alpha':[0.01,0,0.1,1,5,10,20,100]}"
   ]
  },
  {
   "cell_type": "code",
   "execution_count": 76,
   "metadata": {},
   "outputs": [
    {
     "name": "stdout",
     "output_type": "stream",
     "text": [
      "{'alpha': 0}\n"
     ]
    }
   ],
   "source": [
    "lasso = Lasso()\n",
    "grid = GridSearchCV(lasso, param_grid = param_grid, cv = 10)\n",
    "grid.fit(X,y)\n",
    "print(grid.best_params_)"
   ]
  },
  {
   "cell_type": "markdown",
   "metadata": {},
   "source": [
    "##### Best params"
   ]
  },
  {
   "cell_type": "code",
   "execution_count": 77,
   "metadata": {},
   "outputs": [
    {
     "name": "stdout",
     "output_type": "stream",
     "text": [
      "{'fit_time': 0.3813, 'score_time': 0.0038, 'test_rmsle': 0.1185, 'test_r2': 0.911}\n"
     ]
    }
   ],
   "source": [
    "lasso = Lasso(alpha = 0)\n",
    "cv_scores = cross_validate(lasso, X, y, scoring = scoring, cv = 10)\n",
    "print(score_to_stats(cv_scores))"
   ]
  },
  {
   "cell_type": "markdown",
   "metadata": {},
   "source": [
    "#### Elastic Net"
   ]
  },
  {
   "cell_type": "code",
   "execution_count": 78,
   "metadata": {},
   "outputs": [],
   "source": [
    "param_grid = {'alpha':[0.01,0.1,1,5,10,20,100],\n",
    "              'l1_ratio':[0,0.01,0.1,0.5,0.8,1]}"
   ]
  },
  {
   "cell_type": "code",
   "execution_count": 79,
   "metadata": {},
   "outputs": [
    {
     "name": "stdout",
     "output_type": "stream",
     "text": [
      "{'alpha': 0.01, 'l1_ratio': 0.01}\n"
     ]
    }
   ],
   "source": [
    "enet = ElasticNet()\n",
    "grid = GridSearchCV(enet, param_grid = param_grid, cv = 10)\n",
    "grid.fit(X,y)\n",
    "print(grid.best_params_)"
   ]
  },
  {
   "cell_type": "markdown",
   "metadata": {},
   "source": [
    "##### Best params"
   ]
  },
  {
   "cell_type": "code",
   "execution_count": 80,
   "metadata": {},
   "outputs": [
    {
     "name": "stdout",
     "output_type": "stream",
     "text": [
      "{'fit_time': 0.3627, 'score_time': 0.0037, 'test_rmsle': 0.1108, 'test_r2': 0.922}\n"
     ]
    }
   ],
   "source": [
    "enet = ElasticNet(alpha = 0.01, l1_ratio = 0.01)\n",
    "cv_scores = cross_validate(enet, X, y, scoring = scoring, cv = 10)\n",
    "print(score_to_stats(cv_scores))"
   ]
  },
  {
   "cell_type": "markdown",
   "metadata": {},
   "source": [
    "#### XGBOOST"
   ]
  },
  {
   "cell_type": "code",
   "execution_count": 81,
   "metadata": {},
   "outputs": [
    {
     "name": "stdout",
     "output_type": "stream",
     "text": [
      "[00:35:05] WARNING: C:/Jenkins/workspace/xgboost-win64_release_0.90/src/objective/regression_obj.cu:152: reg:linear is now deprecated in favor of reg:squarederror.\n",
      "[00:35:07] WARNING: C:/Jenkins/workspace/xgboost-win64_release_0.90/src/objective/regression_obj.cu:152: reg:linear is now deprecated in favor of reg:squarederror.\n",
      "[00:35:09] WARNING: C:/Jenkins/workspace/xgboost-win64_release_0.90/src/objective/regression_obj.cu:152: reg:linear is now deprecated in favor of reg:squarederror.\n",
      "[00:35:11] WARNING: C:/Jenkins/workspace/xgboost-win64_release_0.90/src/objective/regression_obj.cu:152: reg:linear is now deprecated in favor of reg:squarederror.\n",
      "[00:35:14] WARNING: C:/Jenkins/workspace/xgboost-win64_release_0.90/src/objective/regression_obj.cu:152: reg:linear is now deprecated in favor of reg:squarederror.\n",
      "[00:35:15] WARNING: C:/Jenkins/workspace/xgboost-win64_release_0.90/src/objective/regression_obj.cu:152: reg:linear is now deprecated in favor of reg:squarederror.\n",
      "[00:35:17] WARNING: C:/Jenkins/workspace/xgboost-win64_release_0.90/src/objective/regression_obj.cu:152: reg:linear is now deprecated in favor of reg:squarederror.\n",
      "[00:35:18] WARNING: C:/Jenkins/workspace/xgboost-win64_release_0.90/src/objective/regression_obj.cu:152: reg:linear is now deprecated in favor of reg:squarederror.\n",
      "[00:35:20] WARNING: C:/Jenkins/workspace/xgboost-win64_release_0.90/src/objective/regression_obj.cu:152: reg:linear is now deprecated in favor of reg:squarederror.\n",
      "[00:35:22] WARNING: C:/Jenkins/workspace/xgboost-win64_release_0.90/src/objective/regression_obj.cu:152: reg:linear is now deprecated in favor of reg:squarederror.\n",
      "{'fit_time': 1.8319, 'score_time': 0.0157, 'test_rmsle': 0.1229, 'test_r2': 0.9039}\n"
     ]
    }
   ],
   "source": [
    "xgboost = XGBRegressor(eta = 0.01, subsample = 0.5)\n",
    "cv_scores = cross_validate(xgboost, X, y, scoring = scoring, cv = 10)\n",
    "print(score_to_stats(cv_scores))"
   ]
  },
  {
   "cell_type": "markdown",
   "metadata": {},
   "source": [
    "#### Random Forest Regressor"
   ]
  },
  {
   "cell_type": "code",
   "execution_count": 82,
   "metadata": {},
   "outputs": [
    {
     "name": "stdout",
     "output_type": "stream",
     "text": [
      "{'fit_time': 6.9672, 'score_time': 0.0317, 'test_rmsle': 0.1304, 'test_r2': 0.892}\n"
     ]
    }
   ],
   "source": [
    "rf = RandomForestRegressor(max_depth=20, min_samples_leaf = 1, n_estimators = 150)\n",
    "cv_scores = cross_validate(rf, X, y, scoring = scoring, cv = 10)\n",
    "print(score_to_stats(cv_scores))"
   ]
  }
 ],
 "metadata": {
  "kernelspec": {
   "display_name": "Python 3",
   "language": "python",
   "name": "python3"
  },
  "language_info": {
   "codemirror_mode": {
    "name": "ipython",
    "version": 3
   },
   "file_extension": ".py",
   "mimetype": "text/x-python",
   "name": "python",
   "nbconvert_exporter": "python",
   "pygments_lexer": "ipython3",
   "version": "3.7.4"
  }
 },
 "nbformat": 4,
 "nbformat_minor": 2
}
