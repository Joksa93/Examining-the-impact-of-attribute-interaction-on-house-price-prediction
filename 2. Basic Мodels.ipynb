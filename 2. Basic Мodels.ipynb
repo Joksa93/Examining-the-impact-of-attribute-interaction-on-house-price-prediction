{
 "cells": [
  {
   "cell_type": "markdown",
   "metadata": {},
   "source": [
    "----------------------------------------------------------------------------------------------------------------------"
   ]
  },
  {
   "cell_type": "markdown",
   "metadata": {},
   "source": [
    "# Building Basic Models, Parameters Adjustment and Results Evaluation"
   ]
  },
  {
   "cell_type": "markdown",
   "metadata": {},
   "source": [
    "----------------------------------------------------------------------------------------------------------------------"
   ]
  },
  {
   "cell_type": "code",
   "execution_count": 3,
   "metadata": {},
   "outputs": [],
   "source": [
    "import pandas as pd\n",
    "import numpy as np\n",
    "from matplotlib import pyplot as plt\n",
    "import seaborn as sns\n",
    "from sklearn.metrics import mean_squared_error\n",
    "from math import sqrt\n",
    "from sklearn.linear_model import LinearRegression, Ridge, Lasso, ElasticNet\n",
    "from sklearn.metrics import make_scorer, r2_score\n",
    "from sklearn.svm import LinearSVR, SVR\n",
    "from xgboost import XGBRegressor\n",
    "from sklearn import tree\n",
    "from sklearn.preprocessing import StandardScaler\n",
    "from sklearn.feature_selection import SelectKBest, RFE, f_regression, SelectFromModel\n",
    "from sklearn.impute import SimpleImputer\n",
    "from sklearn.preprocessing import Imputer, StandardScaler, MinMaxScaler\n",
    "from sklearn.pipeline import make_pipeline, Pipeline\n",
    "from sklearn.model_selection import cross_val_score, cross_validate, GridSearchCV\n",
    "from sklearn.ensemble import RandomForestRegressor\n",
    "import warnings\n",
    "warnings.filterwarnings(\"ignore\")"
   ]
  },
  {
   "cell_type": "code",
   "execution_count": 5,
   "metadata": {},
   "outputs": [],
   "source": [
    "def rmse_custom(y_actual, y_predicted):\n",
    "    return sqrt(mean_squared_error(y_actual, y_predicted))\n",
    "rmse_score = make_scorer(score_func=rmse_custom)"
   ]
  },
  {
   "cell_type": "code",
   "execution_count": 6,
   "metadata": {},
   "outputs": [],
   "source": [
    "def rmsle_custom(y_true_log, y_pred_log):\n",
    "    y_true = np.exp(y_true_log)\n",
    "    y_pred = np.exp(y_pred_log)\n",
    "    return np.sqrt(np.mean(np.power(np.log(y_true + 1) - np.log(y_pred + 1), 2)))\n",
    "rmsle_score = make_scorer(score_func=rmsle_custom)"
   ]
  },
  {
   "cell_type": "code",
   "execution_count": 7,
   "metadata": {},
   "outputs": [],
   "source": [
    "def score_to_stats(scores):\n",
    "    \n",
    "    return {score:round(values.mean(),4) for score, values in scores.items()}"
   ]
  },
  {
   "cell_type": "markdown",
   "metadata": {},
   "source": [
    "### Data Importing"
   ]
  },
  {
   "cell_type": "code",
   "execution_count": 8,
   "metadata": {},
   "outputs": [],
   "source": [
    "df_train = pd.read_csv('train_master.csv')\n",
    "df_test = pd.read_csv('test_master.csv')"
   ]
  },
  {
   "cell_type": "markdown",
   "metadata": {},
   "source": [
    "### Output variable logarthmic transformation"
   ]
  },
  {
   "cell_type": "code",
   "execution_count": 9,
   "metadata": {},
   "outputs": [],
   "source": [
    "df_train['SalePrice_log'] = np.log1p(df_train['SalePrice'])"
   ]
  },
  {
   "cell_type": "code",
   "execution_count": 10,
   "metadata": {},
   "outputs": [],
   "source": [
    "df_train = df_train.drop(['Id','SalePrice'], axis = 1)"
   ]
  },
  {
   "cell_type": "code",
   "execution_count": 11,
   "metadata": {},
   "outputs": [],
   "source": [
    "df_test = df_test.drop('Id', axis = 1)"
   ]
  },
  {
   "cell_type": "markdown",
   "metadata": {},
   "source": [
    "### Pre-processing and data cleaning"
   ]
  },
  {
   "cell_type": "code",
   "execution_count": 12,
   "metadata": {},
   "outputs": [],
   "source": [
    "outlier1 = df_train[df_train['GrLivArea'] > 4500].index\n",
    "outlier2 = df_train[df_train[\"1stFlrSF\"] > 4000].index\n",
    "outlier3 = df_train[df_train[\"TotalBsmtSF\"] > 4000].index"
   ]
  },
  {
   "cell_type": "code",
   "execution_count": 13,
   "metadata": {},
   "outputs": [],
   "source": [
    "# 523, 1298\n",
    "df_train = df_train.drop(outlier1)"
   ]
  },
  {
   "cell_type": "code",
   "execution_count": 14,
   "metadata": {},
   "outputs": [],
   "source": [
    "missing_values_attribute = ['PoolQC','MiscFeature', 'Alley', 'Fence', 'FireplaceQu']\n",
    "correlated_attributes = ['GarageArea', '1stFlrSF']"
   ]
  },
  {
   "cell_type": "code",
   "execution_count": 15,
   "metadata": {},
   "outputs": [],
   "source": [
    "df_train = df_train.drop(missing_values_attribute, axis = 1)\n",
    "df_test = df_test.drop(missing_values_attribute, axis = 1)"
   ]
  },
  {
   "cell_type": "code",
   "execution_count": 16,
   "metadata": {},
   "outputs": [],
   "source": [
    "df_train = df_train.drop(correlated_attributes, axis = 1)\n",
    "df_test = df_test.drop(correlated_attributes, axis = 1)"
   ]
  },
  {
   "cell_type": "markdown",
   "metadata": {},
   "source": [
    "### Attributes mapping and dummy coding"
   ]
  },
  {
   "cell_type": "code",
   "execution_count": 17,
   "metadata": {},
   "outputs": [],
   "source": [
    "df_train['train'] = 1\n",
    "df_test['train'] = 0"
   ]
  },
  {
   "cell_type": "code",
   "execution_count": 18,
   "metadata": {},
   "outputs": [],
   "source": [
    "df_combined = pd.concat([df_train, df_test])"
   ]
  },
  {
   "cell_type": "code",
   "execution_count": 19,
   "metadata": {},
   "outputs": [],
   "source": [
    "df_combined = df_combined.reset_index(drop = True)"
   ]
  },
  {
   "cell_type": "code",
   "execution_count": 20,
   "metadata": {},
   "outputs": [],
   "source": [
    "cat_mapping = {'NA':0, 'Po':1, 'Fa':2, 'TA':3, 'Gd':4, 'Ex':5}\n",
    "scale_attributes = ['ExterQual', 'ExterCond', 'BsmtQual', 'BsmtCond', 'HeatingQC', 'KitchenQual', 'GarageQual', 'GarageCond']\n",
    "for i in df_combined[scale_attributes]:\n",
    "    df_combined[i] = df_combined[i].map(cat_mapping)"
   ]
  },
  {
   "cell_type": "code",
   "execution_count": 21,
   "metadata": {},
   "outputs": [],
   "source": [
    "df_cat = df_combined.select_dtypes(include = ['object'])"
   ]
  },
  {
   "cell_type": "code",
   "execution_count": 22,
   "metadata": {},
   "outputs": [],
   "source": [
    "df_cat_columns = df_cat.columns"
   ]
  },
  {
   "cell_type": "code",
   "execution_count": 23,
   "metadata": {},
   "outputs": [],
   "source": [
    "df_cat_dummies = pd.get_dummies(df_cat)"
   ]
  },
  {
   "cell_type": "code",
   "execution_count": 24,
   "metadata": {},
   "outputs": [],
   "source": [
    "df_combined = df_combined.drop(df_cat_columns, axis = 1)"
   ]
  },
  {
   "cell_type": "code",
   "execution_count": 25,
   "metadata": {},
   "outputs": [],
   "source": [
    "df_combined = pd.concat([df_combined, df_cat_dummies], axis = 1)"
   ]
  },
  {
   "cell_type": "code",
   "execution_count": 26,
   "metadata": {},
   "outputs": [],
   "source": [
    "df_train = df_combined[df_combined['train'] == 1]\n",
    "df_train = df_train.drop(['train'], axis = 1)"
   ]
  },
  {
   "cell_type": "code",
   "execution_count": 28,
   "metadata": {},
   "outputs": [],
   "source": [
    "X = df_train.drop('SalePrice_log', axis = 1)\n",
    "y = df_train['SalePrice_log']"
   ]
  },
  {
   "cell_type": "code",
   "execution_count": 29,
   "metadata": {},
   "outputs": [],
   "source": [
    "scoring = {'rmsle': rmsle_score,\n",
    "           'r2': 'r2'}"
   ]
  },
  {
   "cell_type": "markdown",
   "metadata": {},
   "source": [
    "### Models"
   ]
  },
  {
   "cell_type": "code",
   "execution_count": 30,
   "metadata": {},
   "outputs": [
    {
     "name": "stdout",
     "output_type": "stream",
     "text": [
      "{'fit_time': 0.0535, 'score_time': 0.0046, 'test_rmsle': 0.1189, 'train_rmsle': 0.0923, 'test_r2': 0.9103, 'train_r2': 0.9466}\n"
     ]
    }
   ],
   "source": [
    "pipe_lr = Pipeline([('imp', SimpleImputer()), ('lr', LinearRegression())])\n",
    "cv_scores = cross_validate(pipe_lr, X, y, scoring = scoring, cv = 10)\n",
    "print(score_to_stats(cv_scores))"
   ]
  },
  {
   "cell_type": "code",
   "execution_count": 31,
   "metadata": {},
   "outputs": [
    {
     "name": "stdout",
     "output_type": "stream",
     "text": [
      "{'fit_time': 0.0335, 'score_time': 0.0041, 'test_rmsle': 0.1151, 'train_rmsle': 0.0933, 'test_r2': 0.916, 'train_r2': 0.9455}\n"
     ]
    }
   ],
   "source": [
    "pipe_ridge = Pipeline([('imp', SimpleImputer()), ('rid', Ridge())])\n",
    "cv_scores = cross_validate(pipe_ridge, X, y, scoring = scoring, cv = 10)\n",
    "print(score_to_stats(cv_scores))"
   ]
  },
  {
   "cell_type": "code",
   "execution_count": 32,
   "metadata": {},
   "outputs": [
    {
     "name": "stdout",
     "output_type": "stream",
     "text": [
      "{'fit_time': 0.0376, 'score_time': 0.0072, 'test_rmsle': 0.1762, 'train_rmsle': 0.1731, 'test_r2': 0.8026, 'train_r2': 0.8123}\n"
     ]
    }
   ],
   "source": [
    "pipe_lasso = Pipeline([('imp', SimpleImputer()), ('lasso', Lasso())])\n",
    "cv_scores = cross_validate(pipe_lasso, X, y, scoring = scoring, cv = 10)\n",
    "print(score_to_stats(cv_scores))"
   ]
  },
  {
   "cell_type": "code",
   "execution_count": 33,
   "metadata": {},
   "outputs": [
    {
     "name": "stdout",
     "output_type": "stream",
     "text": [
      "{'fit_time': 0.0484, 'score_time': 0.006, 'test_rmsle': 0.1677, 'train_rmsle': 0.1645, 'test_r2': 0.821, 'train_r2': 0.8305}\n"
     ]
    }
   ],
   "source": [
    "pipe_enet = Pipeline([('imp', SimpleImputer()), ('enet', ElasticNet())])\n",
    "cv_scores = cross_validate(pipe_enet, X, y, scoring = scoring, cv = 10)\n",
    "print(score_to_stats(cv_scores))"
   ]
  },
  {
   "cell_type": "code",
   "execution_count": 34,
   "metadata": {},
   "outputs": [
    {
     "name": "stdout",
     "output_type": "stream",
     "text": [
      "{'fit_time': 1.841, 'score_time': 0.008, 'test_rmsle': 0.1214, 'train_rmsle': 0.0855, 'test_r2': 0.9062, 'train_r2': 0.9541}\n"
     ]
    }
   ],
   "source": [
    "pipe_xgboost = Pipeline([('imp', SimpleImputer()), ('xgboost', XGBRegressor())])\n",
    "cv_scores = cross_validate(pipe_xgboost, X, y, scoring = scoring, cv = 10)\n",
    "print(score_to_stats(cv_scores))"
   ]
  },
  {
   "cell_type": "code",
   "execution_count": 35,
   "metadata": {},
   "outputs": [
    {
     "name": "stdout",
     "output_type": "stream",
     "text": [
      "{'fit_time': 0.4154, 'score_time': 0.0066, 'test_rmsle': 0.1418, 'train_rmsle': 0.0624, 'test_r2': 0.8725, 'train_r2': 0.9756}\n"
     ]
    }
   ],
   "source": [
    "pipe_rf = Pipeline([('imp', SimpleImputer()), ('rf', RandomForestRegressor())])\n",
    "cv_scores = cross_validate(pipe_rf, X, y, scoring = scoring, cv = 10)\n",
    "print(score_to_stats(cv_scores))"
   ]
  },
  {
   "cell_type": "markdown",
   "metadata": {},
   "source": [
    "### Models with adjusted parameters"
   ]
  },
  {
   "cell_type": "markdown",
   "metadata": {},
   "source": [
    "#### Pipe Linear Regression"
   ]
  },
  {
   "cell_type": "code",
   "execution_count": 36,
   "metadata": {},
   "outputs": [],
   "source": [
    "param_grid = {'f_regression__k':[20,50,80,100,120,150,200,239]}"
   ]
  },
  {
   "cell_type": "code",
   "execution_count": 37,
   "metadata": {},
   "outputs": [
    {
     "name": "stdout",
     "output_type": "stream",
     "text": [
      "{'f_regression__k': 120}\n"
     ]
    }
   ],
   "source": [
    "pipe_lr = Pipeline([('imp', SimpleImputer()), ('f_regression', SelectKBest(f_regression)), ('lr', LinearRegression())])\n",
    "grid = GridSearchCV(pipe_lr, param_grid = param_grid, cv = 10)\n",
    "grid.fit(X,y)\n",
    "print(grid.best_params_)"
   ]
  },
  {
   "cell_type": "markdown",
   "metadata": {},
   "source": [
    "###### Best params"
   ]
  },
  {
   "cell_type": "code",
   "execution_count": 171,
   "metadata": {},
   "outputs": [
    {
     "name": "stdout",
     "output_type": "stream",
     "text": [
      "{'fit_time': 0.1341, 'score_time': 0.0036, 'test_rmsle': 0.1169, 'train_rmsle': 0.1041, 'test_r2': 0.9134, 'train_r2': 0.9321}\n"
     ]
    }
   ],
   "source": [
    "pipe_lr = Pipeline([('imp', SimpleImputer()), ('f_regression', SelectKBest(k=120)), ('lr', LinearRegression())])\n",
    "cv_scores = cross_validate(pipe_lr, X, y, scoring = scoring, cv = 10)\n",
    "print(score_to_stats(cv_scores))"
   ]
  },
  {
   "cell_type": "markdown",
   "metadata": {},
   "source": [
    "#### Pipe Ridge"
   ]
  },
  {
   "cell_type": "code",
   "execution_count": 40,
   "metadata": {},
   "outputs": [],
   "source": [
    "param_grid = {'f_regression__k':[20,50,80,100,120,150,200,239],\n",
    "              'rid__alpha':[0.01,0.1,1,5,10,20,100]}"
   ]
  },
  {
   "cell_type": "code",
   "execution_count": 41,
   "metadata": {},
   "outputs": [
    {
     "name": "stdout",
     "output_type": "stream",
     "text": [
      "{'f_regression__k': 239, 'rid__alpha': 10}\n"
     ]
    }
   ],
   "source": [
    "pipe_ridge = Pipeline([('imp', SimpleImputer()), ('f_regression', SelectKBest(f_regression)), ('rid', Ridge())])\n",
    "grid = GridSearchCV(pipe_ridge, param_grid = param_grid, cv = 10)\n",
    "grid.fit(X,y)\n",
    "print(grid.best_params_)"
   ]
  },
  {
   "cell_type": "markdown",
   "metadata": {},
   "source": [
    "###### Best params"
   ]
  },
  {
   "cell_type": "code",
   "execution_count": 172,
   "metadata": {},
   "outputs": [
    {
     "name": "stdout",
     "output_type": "stream",
     "text": [
      "{'fit_time': 0.0295, 'score_time': 0.0031, 'test_rmsle': 0.1119, 'train_rmsle': 0.0977, 'test_r2': 0.9205, 'train_r2': 0.9402}\n"
     ]
    }
   ],
   "source": [
    "pipe_ridge = Pipeline([('imp', SimpleImputer()), ('rid', Ridge(alpha = 10))])\n",
    "cv_scores = cross_validate(pipe_ridge, X, y, scoring = scoring, cv = 10)\n",
    "print(score_to_stats(cv_scores))"
   ]
  },
  {
   "cell_type": "markdown",
   "metadata": {},
   "source": [
    "#### Pipe Lasso"
   ]
  },
  {
   "cell_type": "code",
   "execution_count": 42,
   "metadata": {},
   "outputs": [],
   "source": [
    "param_grid = {'f_regression__k':[20,50,80,100,120,150,200,239],\n",
    "              'lasso__alpha':[0.01,0.1,1,5,10,20,100]}"
   ]
  },
  {
   "cell_type": "code",
   "execution_count": 43,
   "metadata": {},
   "outputs": [
    {
     "name": "stdout",
     "output_type": "stream",
     "text": [
      "{'f_regression__k': 239, 'lasso__alpha': 0.01}\n"
     ]
    }
   ],
   "source": [
    "pipe_lasso = Pipeline([('imp', SimpleImputer()), ('f_regression', SelectKBest(f_regression)), ('lasso', Lasso())])\n",
    "grid = GridSearchCV(pipe_lasso, param_grid = param_grid, cv = 10)\n",
    "grid.fit(X,y)\n",
    "print(grid.best_params_)"
   ]
  },
  {
   "cell_type": "markdown",
   "metadata": {},
   "source": [
    "##### Best params"
   ]
  },
  {
   "cell_type": "code",
   "execution_count": 173,
   "metadata": {},
   "outputs": [
    {
     "name": "stdout",
     "output_type": "stream",
     "text": [
      "{'fit_time': 0.2837, 'score_time': 0.005, 'test_rmsle': 0.1313, 'train_rmsle': 0.1278, 'test_r2': 0.8905, 'train_r2': 0.8977}\n"
     ]
    }
   ],
   "source": [
    "pipe_lasso = Pipeline([('imp', SimpleImputer()), ('lasso', Lasso(alpha = 0.01))])\n",
    "cv_scores = cross_validate(pipe_lasso, X, y, scoring = scoring, cv = 10)\n",
    "print(score_to_stats(cv_scores))"
   ]
  },
  {
   "cell_type": "markdown",
   "metadata": {},
   "source": [
    "#### Pipe Elastic Net"
   ]
  },
  {
   "cell_type": "code",
   "execution_count": 44,
   "metadata": {},
   "outputs": [],
   "source": [
    "param_grid = {'f_regression__k':[20,50,80,100,120,150,200,239],\n",
    "              'enet__alpha':[0.01,0.1,1,5,10,20,100],\n",
    "              'enet__l1_ratio':[0,0.01,0.1,0.5,0.8,1]}"
   ]
  },
  {
   "cell_type": "code",
   "execution_count": 45,
   "metadata": {},
   "outputs": [
    {
     "name": "stdout",
     "output_type": "stream",
     "text": [
      "{'enet__alpha': 0.01, 'enet__l1_ratio': 0.01, 'f_regression__k': 239}\n"
     ]
    }
   ],
   "source": [
    "pipe_enet = Pipeline([('imp', SimpleImputer()), ('f_regression', SelectKBest(f_regression)), ('enet', ElasticNet())])\n",
    "grid = GridSearchCV(pipe_enet, param_grid = param_grid, cv = 10)\n",
    "grid.fit(X,y)\n",
    "print(grid.best_params_)"
   ]
  },
  {
   "cell_type": "markdown",
   "metadata": {},
   "source": [
    "##### Best params"
   ]
  },
  {
   "cell_type": "code",
   "execution_count": 46,
   "metadata": {},
   "outputs": [
    {
     "name": "stdout",
     "output_type": "stream",
     "text": [
      "{'fit_time': 0.4218, 'score_time': 0.0047, 'test_rmsle': 0.1117, 'train_rmsle': 0.0998, 'test_r2': 0.9208, 'train_r2': 0.9377}\n"
     ]
    }
   ],
   "source": [
    "pipe_enet = Pipeline([('imp', SimpleImputer()), ('enet', ElasticNet(alpha = 0.01, l1_ratio = 0.01))])\n",
    "cv_scores = cross_validate(pipe_enet, X, y, scoring = scoring, cv = 10)\n",
    "print(score_to_stats(cv_scores))"
   ]
  },
  {
   "cell_type": "markdown",
   "metadata": {},
   "source": [
    "#### Pipe Xgboost"
   ]
  },
  {
   "cell_type": "code",
   "execution_count": 48,
   "metadata": {},
   "outputs": [],
   "source": [
    "param_grid = {'f_regression__k':[20,50,80,100,120,150,200,239],\n",
    "              'xgboost__eta':[0.01,0.05,0.1,0.2],\n",
    "              'xgboost__subsample':[0.5,0.75,1]}"
   ]
  },
  {
   "cell_type": "code",
   "execution_count": 49,
   "metadata": {},
   "outputs": [
    {
     "name": "stdout",
     "output_type": "stream",
     "text": [
      "{'f_regression__k': 239, 'xgboost__eta': 0.01, 'xgboost__subsample': 0.5}\n"
     ]
    }
   ],
   "source": [
    "pipe_xgboost = Pipeline([('imp', SimpleImputer()), ('f_regression', SelectKBest(f_regression)), ('xgboost', XGBRegressor())])\n",
    "grid = GridSearchCV(pipe_xgboost, param_grid = param_grid, cv = 10)\n",
    "grid.fit(X,y)\n",
    "print(grid.best_params_)"
   ]
  },
  {
   "cell_type": "markdown",
   "metadata": {},
   "source": [
    "##### Best Params"
   ]
  },
  {
   "cell_type": "code",
   "execution_count": 175,
   "metadata": {},
   "outputs": [
    {
     "name": "stdout",
     "output_type": "stream",
     "text": [
      "{'fit_time': 1.6475, 'score_time': 0.0107, 'test_rmsle': 0.1181, 'train_rmsle': 0.0885, 'test_r2': 0.9114, 'train_r2': 0.9509}\n"
     ]
    }
   ],
   "source": [
    "pipe_xgboost = Pipeline([('imp', SimpleImputer()), ('xgboost', XGBRegressor(eta = 0.01, subsample = 0.5))])\n",
    "cv_scores = cross_validate(pipe_xgboost, X, y, scoring = scoring, cv = 10)\n",
    "print(score_to_stats(cv_scores))"
   ]
  },
  {
   "cell_type": "markdown",
   "metadata": {},
   "source": [
    "#### Pipe Random Forest"
   ]
  },
  {
   "cell_type": "code",
   "execution_count": 52,
   "metadata": {},
   "outputs": [],
   "source": [
    "param_grid = {'f_regression__k':[20,50,80,100,120,150,200,239],\n",
    "              'rf__n_estimators':[50,100,150,250],\n",
    "              'rf__max_depth':[5,10,20,50],\n",
    "              'rf__min_samples_leaf':[1,3,5,7]}"
   ]
  },
  {
   "cell_type": "code",
   "execution_count": 53,
   "metadata": {},
   "outputs": [
    {
     "name": "stdout",
     "output_type": "stream",
     "text": [
      "{'f_regression__k': 239, 'rf__max_depth': 20, 'rf__min_samples_leaf': 1, 'rf__n_estimators': 150}\n"
     ]
    }
   ],
   "source": [
    "pipe_rf = Pipeline([('imp', SimpleImputer()), ('f_regression', SelectKBest(f_regression)), ('rf', RandomForestRegressor())])\n",
    "grid = GridSearchCV(pipe_rf, param_grid = param_grid, cv = 10)\n",
    "grid.fit(X,y)\n",
    "print(grid.best_params_)"
   ]
  },
  {
   "cell_type": "markdown",
   "metadata": {},
   "source": [
    "##### Best Params"
   ]
  },
  {
   "cell_type": "code",
   "execution_count": 176,
   "metadata": {},
   "outputs": [
    {
     "name": "stdout",
     "output_type": "stream",
     "text": [
      "{'fit_time': 4.976, 'score_time': 0.033, 'test_rmsle': 0.1342, 'train_rmsle': 0.0507, 'test_r2': 0.8856, 'train_r2': 0.9839}\n"
     ]
    }
   ],
   "source": [
    "pipe_rf = Pipeline([('imp', SimpleImputer()), ('rf', RandomForestRegressor(max_depth = 20, min_samples_leaf = 1, n_estimators = 150))])\n",
    "cv_scores = cross_validate(pipe_rf, X, y, scoring = scoring, cv = 10)\n",
    "print(score_to_stats(cv_scores))"
   ]
  },
  {
   "cell_type": "code",
   "execution_count": null,
   "metadata": {},
   "outputs": [],
   "source": []
  }
 ],
 "metadata": {
  "kernelspec": {
   "display_name": "Python 3",
   "language": "python",
   "name": "python3"
  },
  "language_info": {
   "codemirror_mode": {
    "name": "ipython",
    "version": 3
   },
   "file_extension": ".py",
   "mimetype": "text/x-python",
   "name": "python",
   "nbconvert_exporter": "python",
   "pygments_lexer": "ipython3",
   "version": "3.7.4"
  }
 },
 "nbformat": 4,
 "nbformat_minor": 2
}
